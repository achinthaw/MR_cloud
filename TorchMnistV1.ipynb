{
  "nbformat": 4,
  "nbformat_minor": 0,
  "metadata": {
    "colab": {
      "name": "TorchMnistV1.ipynb",
      "provenance": [],
      "collapsed_sections": []
    },
    "kernelspec": {
      "name": "python3",
      "display_name": "Python 3"
    },
    "accelerator": "GPU"
  },
  "cells": [
    {
      "cell_type": "code",
      "metadata": {
        "id": "Ww9yquXAoGl-"
      },
      "source": [
        "import numpy as np\r\n",
        "import torch\r\n",
        "import torchvision\r\n",
        "import matplotlib.pyplot as plt\r\n",
        "from time import time\r\n",
        "from torchvision import datasets, transforms\r\n",
        "from torch import nn, optim"
      ],
      "execution_count": null,
      "outputs": []
    },
    {
      "cell_type": "code",
      "metadata": {
        "id": "fIf1hKQnokbV"
      },
      "source": [
        "transform  = transforms.Compose([transforms.ToTensor(),\r\n",
        "                                 transforms.Normalize((0.5,),(0.5,))])"
      ],
      "execution_count": null,
      "outputs": []
    },
    {
      "cell_type": "code",
      "metadata": {
        "colab": {
          "base_uri": "https://localhost:8080/"
        },
        "id": "izvhzyKS64pw",
        "outputId": "7371dba2-8a84-43e7-dc71-41d65bf2916a"
      },
      "source": [
        "from google.colab import drive\n",
        "drive.mount('/content/drive')"
      ],
      "execution_count": null,
      "outputs": [
        {
          "output_type": "stream",
          "text": [
            "Mounted at /content/drive\n"
          ],
          "name": "stdout"
        }
      ]
    },
    {
      "cell_type": "code",
      "metadata": {
        "colab": {
          "base_uri": "https://localhost:8080/"
        },
        "id": "ZP91d0b5o0dJ",
        "outputId": "d1b93938-27ed-4b4d-bb17-c7c5781c1509"
      },
      "source": [
        "%cd /content/drive/MyDrive"
      ],
      "execution_count": null,
      "outputs": [
        {
          "output_type": "stream",
          "text": [
            "/content/drive/MyDrive\n"
          ],
          "name": "stdout"
        }
      ]
    },
    {
      "cell_type": "code",
      "metadata": {
        "id": "OciVqK0mo_sp"
      },
      "source": [
        "!mkdir MNISTdata"
      ],
      "execution_count": null,
      "outputs": []
    },
    {
      "cell_type": "code",
      "metadata": {
        "colab": {
          "base_uri": "https://localhost:8080/"
        },
        "id": "FlK1J9R9pH9M",
        "outputId": "be038dd2-2299-41ae-e8e3-ff0fcb21326c"
      },
      "source": [
        "%cd MNISTdata"
      ],
      "execution_count": null,
      "outputs": [
        {
          "output_type": "stream",
          "text": [
            "/content/drive/MyDrive/MNISTdata\n"
          ],
          "name": "stdout"
        }
      ]
    },
    {
      "cell_type": "code",
      "metadata": {
        "id": "UmlfE7dkpK_b"
      },
      "source": [
        "!mkdir train\r\n",
        "!mkdir validation"
      ],
      "execution_count": null,
      "outputs": []
    },
    {
      "cell_type": "code",
      "metadata": {
        "id": "oDtmctkppT09"
      },
      "source": [
        "trainset = datasets.MNIST('/content/drive/MyDrive/MNISTdata/train/',download=False,train=True,transform=transform)\r\n",
        "valset = datasets.MNIST('/content/drive/MyDrive/MNISTdata/validation/',download=False,train=False,transform=transform)\r\n",
        "\r\n",
        "trainloader = torch.utils.data.DataLoader(trainset,batch_size=64,shuffle=True)\r\n",
        "\r\n",
        "valloader = torch.utils.data.DataLoader(valset,batch_size=64,shuffle=True)\r\n"
      ],
      "execution_count": null,
      "outputs": []
    },
    {
      "cell_type": "code",
      "metadata": {
        "colab": {
          "base_uri": "https://localhost:8080/"
        },
        "id": "fNp3Zwf8rAzx",
        "outputId": "bcc74f27-13fc-499d-f86a-70b0417d6693"
      },
      "source": [
        "dataiter = iter(trainloader)\r\n",
        "images, labels = dataiter.next()\r\n",
        "\r\n",
        "print(images.shape)\r\n",
        "print(labels.shape)"
      ],
      "execution_count": null,
      "outputs": [
        {
          "output_type": "stream",
          "text": [
            "torch.Size([64, 1, 28, 28]) tensor(1.)\n",
            "torch.Size([64])\n"
          ],
          "name": "stdout"
        }
      ]
    },
    {
      "cell_type": "code",
      "metadata": {
        "colab": {
          "base_uri": "https://localhost:8080/"
        },
        "id": "ooAJVTJY0XSK",
        "outputId": "3520565d-04d7-4db4-8b2c-ed830eb965f3"
      },
      "source": [
        "lab = torch.zeros(2,2)\r\n",
        "lab"
      ],
      "execution_count": null,
      "outputs": [
        {
          "output_type": "execute_result",
          "data": {
            "text/plain": [
              "tensor([[0., 0.],\n",
              "        [0., 0.]])"
            ]
          },
          "metadata": {
            "tags": []
          },
          "execution_count": 12
        }
      ]
    },
    {
      "cell_type": "code",
      "metadata": {
        "colab": {
          "base_uri": "https://localhost:8080/"
        },
        "id": "POoF2Y5y3Vt-",
        "outputId": "a8b7c951-d2ef-4446-c857-2c22b5bc781d"
      },
      "source": [
        "labels"
      ],
      "execution_count": null,
      "outputs": [
        {
          "output_type": "execute_result",
          "data": {
            "text/plain": [
              "tensor([3, 2, 0, 8, 4, 3, 2, 2, 2, 8, 8, 6, 7, 2, 0, 7, 3, 6, 9, 7, 2, 4, 9, 5,\n",
              "        4, 3, 0, 2, 2, 8, 0, 9, 5, 4, 5, 8, 5, 0, 2, 5, 9, 7, 7, 1, 2, 7, 9, 8,\n",
              "        8, 6, 9, 2, 5, 0, 0, 7, 2, 7, 9, 3, 4, 9, 7, 9])"
            ]
          },
          "metadata": {
            "tags": []
          },
          "execution_count": 20
        }
      ]
    },
    {
      "cell_type": "code",
      "metadata": {
        "id": "ViEEDPvYzLk3"
      },
      "source": [
        "lab = torch.zeros(2,labels.shape[0])\r\n",
        "lab[0,:] = labels\r\n",
        "for i in range(labels.shape[0]):\r\n",
        "    lab[0,i] = labels[i]\r\n",
        "    lab[1,i] = 1"
      ],
      "execution_count": null,
      "outputs": []
    },
    {
      "cell_type": "code",
      "metadata": {
        "colab": {
          "base_uri": "https://localhost:8080/"
        },
        "id": "DIhVmIhK0_yq",
        "outputId": "9254a7db-ba91-4100-d02d-fab7013a617b"
      },
      "source": [
        "lab"
      ],
      "execution_count": null,
      "outputs": [
        {
          "output_type": "execute_result",
          "data": {
            "text/plain": [
              "tensor([[3., 2., 0., 8., 4., 3., 2., 2., 2., 8., 8., 6., 7., 2., 0., 7., 3., 6.,\n",
              "         9., 7., 2., 4., 9., 5., 4., 3., 0., 2., 2., 8., 0., 9., 5., 4., 5., 8.,\n",
              "         5., 0., 2., 5., 9., 7., 7., 1., 2., 7., 9., 8., 8., 6., 9., 2., 5., 0.,\n",
              "         0., 7., 2., 7., 9., 3., 4., 9., 7., 9.],\n",
              "        [1., 1., 1., 1., 1., 1., 1., 1., 1., 1., 1., 1., 1., 1., 1., 1., 1., 1.,\n",
              "         1., 1., 1., 1., 1., 1., 1., 1., 1., 1., 1., 1., 1., 1., 1., 1., 1., 1.,\n",
              "         1., 1., 1., 1., 1., 1., 1., 1., 1., 1., 1., 1., 1., 1., 1., 1., 1., 1.,\n",
              "         1., 1., 1., 1., 1., 1., 1., 1., 1., 1.]])"
            ]
          },
          "metadata": {
            "tags": []
          },
          "execution_count": 21
        }
      ]
    },
    {
      "cell_type": "code",
      "metadata": {
        "colab": {
          "base_uri": "https://localhost:8080/",
          "height": 282
        },
        "id": "584ign_YyGR-",
        "outputId": "f5d40415-fdc0-4316-81f8-b04e03f1ed20"
      },
      "source": [
        "plt.imshow((images[0]+images[1]).numpy().squeeze(),cmap='gray_r')"
      ],
      "execution_count": null,
      "outputs": [
        {
          "output_type": "execute_result",
          "data": {
            "text/plain": [
              "<matplotlib.image.AxesImage at 0x7ff1fd9affd0>"
            ]
          },
          "metadata": {
            "tags": []
          },
          "execution_count": 8
        },
        {
          "output_type": "display_data",
          "data": {
            "image/png": "[encoded data removed]",
            "text/plain": [
              "<Figure size 432x288 with 1 Axes>"
            ]
          },
          "metadata": {
            "tags": [],
            "needs_background": "light"
          }
        }
      ]
    },
    {
      "cell_type": "code",
      "metadata": {
        "colab": {
          "base_uri": "https://localhost:8080/",
          "height": 282
        },
        "id": "4ueGYvm6r4cJ",
        "outputId": "46a96e90-a296-47ba-eefb-c1d133cde12a"
      },
      "source": [
        "plt.imshow(images[0].numpy().squeeze(),cmap='gray_r')"
      ],
      "execution_count": null,
      "outputs": [
        {
          "output_type": "execute_result",
          "data": {
            "text/plain": [
              "<matplotlib.image.AxesImage at 0x7f0712f44240>"
            ]
          },
          "metadata": {
            "tags": []
          },
          "execution_count": 10
        },
        {
          "output_type": "display_data",
          "data": {
            "image/png": "[encoded data removed]",
            "text/plain": [
              "<Figure size 432x288 with 1 Axes>"
            ]
          },
          "metadata": {
            "tags": [],
            "needs_background": "light"
          }
        }
      ]
    },
    {
      "cell_type": "code",
      "metadata": {
        "id": "n90HABZJsXVB"
      },
      "source": [
        "input_size = 784\r\n",
        "hidden_sizes = [128, 64]\r\n",
        "output_size = 11"
      ],
      "execution_count": null,
      "outputs": []
    },
    {
      "cell_type": "code",
      "metadata": {
        "colab": {
          "base_uri": "https://localhost:8080/"
        },
        "id": "nEWAD-zttSfO",
        "outputId": "e8dd9d25-4504-43a4-8b32-a8cbfae89407"
      },
      "source": [
        "model = nn.Sequential(nn.Linear(input_size,hidden_sizes[0]),\r\n",
        "                      nn.ReLU(),\r\n",
        "                      nn.Linear(hidden_sizes[0],hidden_sizes[1]),\r\n",
        "                      nn.ReLU(),\r\n",
        "                      nn.Linear(hidden_sizes[1],output_size),\r\n",
        "                      nn.LogSoftmax(dim=1))\r\n",
        "\r\n",
        "print(model)"
      ],
      "execution_count": null,
      "outputs": [
        {
          "output_type": "stream",
          "text": [
            "Sequential(\n",
            "  (0): Linear(in_features=784, out_features=128, bias=True)\n",
            "  (1): ReLU()\n",
            "  (2): Linear(in_features=128, out_features=64, bias=True)\n",
            "  (3): ReLU()\n",
            "  (4): Linear(in_features=64, out_features=11, bias=True)\n",
            "  (5): LogSoftmax(dim=1)\n",
            ")\n"
          ],
          "name": "stdout"
        }
      ]
    },
    {
      "cell_type": "code",
      "metadata": {
        "colab": {
          "base_uri": "https://localhost:8080/"
        },
        "id": "RWmbINjzuzxk",
        "outputId": "92d22cb1-1c71-45bb-be35-77d4167af99f"
      },
      "source": [
        "criterion = nn.NLLLoss()\r\n",
        "images, labels = next(iter(trainloader))\r\n",
        "images = images.view(images.shape[0],-1)\r\n",
        "#print(images.shape)\r\n",
        "logps = model(images)\r\n",
        "loss = criterion(logps,labels)\r\n",
        "print('Before back pass: ',model[0].weight.grad)\r\n",
        "loss.backward()\r\n",
        "print('After ',model[0].weight.grad)\r\n"
      ],
      "execution_count": null,
      "outputs": [
        {
          "output_type": "stream",
          "text": [
            "Before back pass:  None\n",
            "After  tensor([[-9.5139e-06, -9.5139e-06, -9.5139e-06,  ..., -9.5139e-06,\n",
            "         -9.5139e-06, -9.5139e-06],\n",
            "        [-3.9178e-04, -3.9178e-04, -3.9178e-04,  ..., -3.9178e-04,\n",
            "         -3.9178e-04, -3.9178e-04],\n",
            "        [ 0.0000e+00,  0.0000e+00,  0.0000e+00,  ...,  0.0000e+00,\n",
            "          0.0000e+00,  0.0000e+00],\n",
            "        ...,\n",
            "        [-7.9936e-04, -7.9936e-04, -7.9936e-04,  ..., -7.9936e-04,\n",
            "         -7.9936e-04, -7.9936e-04],\n",
            "        [-4.1806e-04, -4.1806e-04, -4.1806e-04,  ..., -4.1806e-04,\n",
            "         -4.1806e-04, -4.1806e-04],\n",
            "        [-3.6436e-03, -3.6436e-03, -3.6436e-03,  ..., -3.6436e-03,\n",
            "         -3.6436e-03, -3.6436e-03]])\n"
          ],
          "name": "stdout"
        }
      ]
    },
    {
      "cell_type": "code",
      "metadata": {
        "colab": {
          "base_uri": "https://localhost:8080/",
          "height": 1000
        },
        "id": "xkzvqna5501j",
        "outputId": "013d7b6d-8f3d-43e6-d5c0-89660d697ced"
      },
      "source": [
        "optimizer = optim.SGD(model.parameters(),lr = 0.003, momentum=0.9)\r\n",
        "time0 = time()\r\n",
        "epochs = 15\r\n",
        "for e in range(epochs):\r\n",
        "    running_loss = 0\r\n",
        "    \r\n",
        "    for images, labels in trainloader:\r\n",
        "        #lab = torch.zeros(labels.shape[0],2)\r\n",
        "        #lab[:,0] = labels\r\n",
        "        for i in range(1,6):\r\n",
        "            images[5*i] = images[5*i] + images[5*i + 1]\r\n",
        "            labels[5*i] = 10\r\n",
        "        images = images.view(images.shape[0],-1)\r\n",
        "\r\n",
        "        optimizer.zero_grad()\r\n",
        "        output = model(images)\r\n",
        "        print(\"output shape: \",output.shape)\r\n",
        "        print(\"label shape: \",labels.shape)\r\n",
        "        loss = criterion(output,labels)\r\n",
        "\r\n",
        "        loss.backward()\r\n",
        "        optimizer.step()\r\n",
        "        running_loss += loss.item()\r\n",
        "    else:\r\n",
        "        print(\"Epoch {} - Training loss: {}\".format(e,running_loss/len(trainloader)))\r\n",
        "print(\"\\nTraining Time (in minutes) = \", (time()-time0)/60)       "
      ],
      "execution_count": null,
      "outputs": [
        {
          "output_type": "stream",
          "text": [
            "output shape:  torch.Size([64, 11])\n",
            "label shape:  torch.Size([64])\n",
            "output shape:  torch.Size([64, 11])\n",
            "label shape:  torch.Size([64])\n",
            "output shape:  torch.Size([64, 11])\n",
            "label shape:  torch.Size([64])\n",
            "output shape:  torch.Size([64, 11])\n",
            "label shape:  torch.Size([64])\n",
            "output shape:  torch.Size([64, 11])\n",
            "label shape:  torch.Size([64])\n",
            "output shape:  torch.Size([64, 11])\n",
            "label shape:  torch.Size([64])\n",
            "output shape:  torch.Size([64, 11])\n",
            "label shape:  torch.Size([64])\n",
            "output shape:  torch.Size([64, 11])\n",
            "label shape:  torch.Size([64])\n",
            "output shape:  torch.Size([64, 11])\n",
            "label shape:  torch.Size([64])\n",
            "output shape:  torch.Size([64, 11])\n",
            "label shape:  torch.Size([64])\n",
            "output shape:  torch.Size([64, 11])\n",
            "label shape:  torch.Size([64])\n",
            "output shape:  torch.Size([64, 11])\n",
            "label shape:  torch.Size([64])\n",
            "output shape:  torch.Size([64, 11])\n",
            "label shape:  torch.Size([64])\n",
            "output shape:  torch.Size([64, 11])\n",
            "label shape:  torch.Size([64])\n",
            "output shape:  torch.Size([64, 11])\n",
            "label shape:  torch.Size([64])\n",
            "output shape:  torch.Size([64, 11])\n",
            "label shape:  torch.Size([64])\n",
            "output shape:  torch.Size([64, 11])\n",
            "label shape:  torch.Size([64])\n",
            "output shape:  torch.Size([64, 11])\n",
            "label shape:  torch.Size([64])\n",
            "output shape:  torch.Size([64, 11])\n",
            "label shape:  torch.Size([64])\n",
            "output shape:  torch.Size([64, 11])\n",
            "label shape:  torch.Size([64])\n",
            "output shape:  torch.Size([64, 11])\n",
            "label shape:  torch.Size([64])\n",
            "output shape:  torch.Size([64, 11])\n",
            "label shape:  torch.Size([64])\n",
            "output shape:  torch.Size([64, 11])\n",
            "label shape:  torch.Size([64])\n",
            "output shape:  torch.Size([64, 11])\n",
            "label shape:  torch.Size([64])\n",
            "output shape:  torch.Size([64, 11])\n",
            "label shape:  torch.Size([64])\n",
            "output shape:  torch.Size([64, 11])\n",
            "label shape:  torch.Size([64])\n",
            "output shape:  torch.Size([64, 11])\n",
            "label shape:  torch.Size([64])\n",
            "output shape:  torch.Size([64, 11])\n",
            "label shape:  torch.Size([64])\n",
            "output shape:  torch.Size([64, 11])\n",
            "label shape:  torch.Size([64])\n",
            "output shape:  torch.Size([64, 11])\n",
            "label shape:  torch.Size([64])\n",
            "output shape:  torch.Size([64, 11])\n",
            "label shape:  torch.Size([64])\n",
            "output shape:  torch.Size([64, 11])\n",
            "label shape:  torch.Size([64])\n",
            "output shape:  torch.Size([64, 11])\n",
            "label shape:  torch.Size([64])\n",
            "output shape:  torch.Size([64, 11])\n",
            "label shape:  torch.Size([64])\n",
            "output shape:  torch.Size([64, 11])\n",
            "label shape:  torch.Size([64])\n",
            "output shape:  torch.Size([64, 11])\n",
            "label shape:  torch.Size([64])\n",
            "output shape:  torch.Size([64, 11])\n",
            "label shape:  torch.Size([64])\n",
            "output shape:  torch.Size([64, 11])\n",
            "label shape:  torch.Size([64])\n",
            "output shape:  torch.Size([64, 11])\n",
            "label shape:  torch.Size([64])\n",
            "output shape:  torch.Size([64, 11])\n",
            "label shape:  torch.Size([64])\n",
            "output shape:  torch.Size([64, 11])\n",
            "label shape:  torch.Size([64])\n",
            "output shape:  torch.Size([64, 11])\n",
            "label shape:  torch.Size([64])\n",
            "output shape:  torch.Size([64, 11])\n",
            "label shape:  torch.Size([64])\n",
            "output shape:  torch.Size([64, 11])\n",
            "label shape:  torch.Size([64])\n",
            "output shape:  torch.Size([64, 11])\n",
            "label shape:  torch.Size([64])\n",
            "output shape:  torch.Size([64, 11])\n",
            "label shape:  torch.Size([64])\n",
            "output shape:  torch.Size([64, 11])\n",
            "label shape:  torch.Size([64])\n",
            "output shape:  torch.Size([64, 11])\n",
            "label shape:  torch.Size([64])\n",
            "output shape:  torch.Size([64, 11])\n",
            "label shape:  torch.Size([64])\n",
            "output shape:  torch.Size([64, 11])\n",
            "label shape:  torch.Size([64])\n",
            "output shape:  torch.Size([64, 11])\n",
            "label shape:  torch.Size([64])\n",
            "output shape:  torch.Size([64, 11])\n",
            "label shape:  torch.Size([64])\n",
            "output shape:  torch.Size([64, 11])\n",
            "label shape:  torch.Size([64])\n",
            "output shape:  torch.Size([64, 11])\n",
            "label shape:  torch.Size([64])\n",
            "output shape:  torch.Size([64, 11])\n",
            "label shape:  torch.Size([64])\n",
            "output shape:  torch.Size([64, 11])\n",
            "label shape:  torch.Size([64])\n",
            "output shape:  torch.Size([64, 11])\n",
            "label shape:  torch.Size([64])\n",
            "output shape:  torch.Size([64, 11])\n",
            "label shape:  torch.Size([64])\n",
            "output shape:  torch.Size([64, 11])\n",
            "label shape:  torch.Size([64])\n",
            "output shape:  torch.Size([64, 11])\n",
            "label shape:  torch.Size([64])\n",
            "output shape:  torch.Size([64, 11])\n",
            "label shape:  torch.Size([64])\n",
            "output shape:  torch.Size([64, 11])\n",
            "label shape:  torch.Size([64])\n",
            "output shape:  torch.Size([64, 11])\n",
            "label shape:  torch.Size([64])\n",
            "output shape:  torch.Size([64, 11])\n",
            "label shape:  torch.Size([64])\n",
            "output shape:  torch.Size([64, 11])\n",
            "label shape:  torch.Size([64])\n",
            "output shape:  torch.Size([64, 11])\n",
            "label shape:  torch.Size([64])\n",
            "output shape:  torch.Size([64, 11])\n",
            "label shape:  torch.Size([64])\n",
            "output shape:  torch.Size([64, 11])\n",
            "label shape:  torch.Size([64])\n",
            "output shape:  torch.Size([64, 11])\n",
            "label shape:  torch.Size([64])\n",
            "output shape:  torch.Size([64, 11])\n",
            "label shape:  torch.Size([64])\n",
            "output shape:  torch.Size([64, 11])\n",
            "label shape:  torch.Size([64])\n",
            "output shape:  torch.Size([64, 11])\n",
            "label shape:  torch.Size([64])\n",
            "output shape:  torch.Size([64, 11])\n",
            "label shape:  torch.Size([64])\n",
            "output shape:  torch.Size([64, 11])\n",
            "label shape:  torch.Size([64])\n",
            "output shape:  torch.Size([64, 11])\n",
            "label shape:  torch.Size([64])\n",
            "output shape:  torch.Size([64, 11])\n",
            "label shape:  torch.Size([64])\n",
            "output shape:  torch.Size([64, 11])\n",
            "label shape:  torch.Size([64])\n",
            "output shape:  torch.Size([64, 11])\n",
            "label shape:  torch.Size([64])\n",
            "output shape:  torch.Size([64, 11])\n",
            "label shape:  torch.Size([64])\n",
            "output shape:  torch.Size([64, 11])\n",
            "label shape:  torch.Size([64])\n",
            "output shape:  torch.Size([64, 11])\n",
            "label shape:  torch.Size([64])\n",
            "output shape:  torch.Size([64, 11])\n",
            "label shape:  torch.Size([64])\n",
            "output shape:  torch.Size([64, 11])\n",
            "label shape:  torch.Size([64])\n",
            "output shape:  torch.Size([64, 11])\n",
            "label shape:  torch.Size([64])\n",
            "output shape:  torch.Size([64, 11])\n",
            "label shape:  torch.Size([64])\n",
            "output shape:  torch.Size([64, 11])\n",
            "label shape:  torch.Size([64])\n",
            "output shape:  torch.Size([64, 11])\n",
            "label shape:  torch.Size([64])\n",
            "output shape:  torch.Size([64, 11])\n",
            "label shape:  torch.Size([64])\n",
            "output shape:  torch.Size([64, 11])\n",
            "label shape:  torch.Size([64])\n",
            "output shape:  torch.Size([64, 11])\n",
            "label shape:  torch.Size([64])\n",
            "output shape:  torch.Size([64, 11])\n",
            "label shape:  torch.Size([64])\n",
            "output shape:  torch.Size([64, 11])\n",
            "label shape:  torch.Size([64])\n",
            "output shape:  torch.Size([64, 11])\n",
            "label shape:  torch.Size([64])\n",
            "output shape:  torch.Size([64, 11])\n",
            "label shape:  torch.Size([64])\n",
            "output shape:  torch.Size([64, 11])\n",
            "label shape:  torch.Size([64])\n",
            "output shape:  torch.Size([64, 11])\n",
            "label shape:  torch.Size([64])\n",
            "output shape:  torch.Size([64, 11])\n",
            "label shape:  torch.Size([64])\n",
            "output shape:  torch.Size([64, 11])\n",
            "label shape:  torch.Size([64])\n",
            "output shape:  torch.Size([64, 11])\n",
            "label shape:  torch.Size([64])\n",
            "output shape:  torch.Size([64, 11])\n",
            "label shape:  torch.Size([64])\n",
            "output shape:  torch.Size([64, 11])\n",
            "label shape:  torch.Size([64])\n",
            "output shape:  torch.Size([64, 11])\n",
            "label shape:  torch.Size([64])\n",
            "output shape:  torch.Size([64, 11])\n",
            "label shape:  torch.Size([64])\n",
            "output shape:  torch.Size([64, 11])\n",
            "label shape:  torch.Size([64])\n",
            "output shape:  torch.Size([64, 11])\n",
            "label shape:  torch.Size([64])\n",
            "output shape:  torch.Size([64, 11])\n",
            "label shape:  torch.Size([64])\n",
            "output shape:  torch.Size([64, 11])\n",
            "label shape:  torch.Size([64])\n",
            "output shape:  torch.Size([64, 11])\n",
            "label shape:  torch.Size([64])\n",
            "output shape:  torch.Size([64, 11])\n",
            "label shape:  torch.Size([64])\n",
            "output shape:  torch.Size([64, 11])\n",
            "label shape:  torch.Size([64])\n",
            "output shape:  torch.Size([64, 11])\n",
            "label shape:  torch.Size([64])\n",
            "output shape:  torch.Size([64, 11])\n",
            "label shape:  torch.Size([64])\n",
            "output shape:  torch.Size([64, 11])\n",
            "label shape:  torch.Size([64])\n",
            "output shape:  torch.Size([64, 11])\n",
            "label shape:  torch.Size([64])\n",
            "output shape:  torch.Size([64, 11])\n",
            "label shape:  torch.Size([64])\n",
            "output shape:  torch.Size([64, 11])\n",
            "label shape:  torch.Size([64])\n",
            "output shape:  torch.Size([64, 11])\n",
            "label shape:  torch.Size([64])\n",
            "output shape:  torch.Size([64, 11])\n",
            "label shape:  torch.Size([64])\n",
            "output shape:  torch.Size([64, 11])\n",
            "label shape:  torch.Size([64])\n",
            "output shape:  torch.Size([64, 11])\n",
            "label shape:  torch.Size([64])\n",
            "output shape:  torch.Size([64, 11])\n",
            "label shape:  torch.Size([64])\n",
            "output shape:  torch.Size([64, 11])\n",
            "label shape:  torch.Size([64])\n",
            "output shape:  torch.Size([64, 11])\n",
            "label shape:  torch.Size([64])\n",
            "output shape:  torch.Size([64, 11])\n",
            "label shape:  torch.Size([64])\n",
            "output shape:  torch.Size([64, 11])\n",
            "label shape:  torch.Size([64])\n",
            "output shape:  torch.Size([64, 11])\n",
            "label shape:  torch.Size([64])\n",
            "output shape:  torch.Size([64, 11])\n",
            "label shape:  torch.Size([64])\n",
            "output shape:  torch.Size([64, 11])\n",
            "label shape:  torch.Size([64])\n",
            "output shape:  torch.Size([64, 11])\n",
            "label shape:  torch.Size([64])\n",
            "output shape:  torch.Size([64, 11])\n",
            "label shape:  torch.Size([64])\n",
            "output shape:  torch.Size([64, 11])\n",
            "label shape:  torch.Size([64])\n",
            "output shape:  torch.Size([64, 11])\n",
            "label shape:  torch.Size([64])\n",
            "output shape:  torch.Size([64, 11])\n",
            "label shape:  torch.Size([64])\n",
            "output shape:  torch.Size([64, 11])\n",
            "label shape:  torch.Size([64])\n",
            "output shape:  torch.Size([64, 11])\n",
            "label shape:  torch.Size([64])\n",
            "output shape:  torch.Size([64, 11])\n",
            "label shape:  torch.Size([64])\n",
            "output shape:  torch.Size([64, 11])\n",
            "label shape:  torch.Size([64])\n",
            "output shape:  torch.Size([64, 11])\n",
            "label shape:  torch.Size([64])\n",
            "output shape:  torch.Size([64, 11])\n",
            "label shape:  torch.Size([64])\n",
            "output shape:  torch.Size([64, 11])\n",
            "label shape:  torch.Size([64])\n",
            "output shape:  torch.Size([64, 11])\n",
            "label shape:  torch.Size([64])\n",
            "output shape:  torch.Size([64, 11])\n",
            "label shape:  torch.Size([64])\n",
            "output shape:  torch.Size([64, 11])\n",
            "label shape:  torch.Size([64])\n",
            "output shape:  torch.Size([64, 11])\n",
            "label shape:  torch.Size([64])\n",
            "output shape:  torch.Size([64, 11])\n",
            "label shape:  torch.Size([64])\n",
            "output shape:  torch.Size([64, 11])\n",
            "label shape:  torch.Size([64])\n",
            "output shape:  torch.Size([64, 11])\n",
            "label shape:  torch.Size([64])\n",
            "output shape:  torch.Size([64, 11])\n",
            "label shape:  torch.Size([64])\n",
            "output shape:  torch.Size([64, 11])\n",
            "label shape:  torch.Size([64])\n",
            "output shape:  torch.Size([64, 11])\n",
            "label shape:  torch.Size([64])\n",
            "output shape:  torch.Size([64, 11])\n",
            "label shape:  torch.Size([64])\n",
            "output shape:  torch.Size([64, 11])\n",
            "label shape:  torch.Size([64])\n",
            "output shape:  torch.Size([64, 11])\n",
            "label shape:  torch.Size([64])\n",
            "output shape:  torch.Size([64, 11])\n",
            "label shape:  torch.Size([64])\n",
            "output shape:  torch.Size([64, 11])\n",
            "label shape:  torch.Size([64])\n",
            "output shape:  torch.Size([64, 11])\n",
            "label shape:  torch.Size([64])\n",
            "output shape:  torch.Size([64, 11])\n",
            "label shape:  torch.Size([64])\n",
            "output shape:  torch.Size([64, 11])\n",
            "label shape:  torch.Size([64])\n",
            "output shape:  torch.Size([64, 11])\n",
            "label shape:  torch.Size([64])\n",
            "output shape:  torch.Size([64, 11])\n",
            "label shape:  torch.Size([64])\n",
            "output shape:  torch.Size([64, 11])\n",
            "label shape:  torch.Size([64])\n",
            "output shape:  torch.Size([64, 11])\n",
            "label shape:  torch.Size([64])\n",
            "output shape:  torch.Size([64, 11])\n",
            "label shape:  torch.Size([64])\n",
            "output shape:  torch.Size([64, 11])\n",
            "label shape:  torch.Size([64])\n",
            "output shape:  torch.Size([64, 11])\n",
            "label shape:  torch.Size([64])\n",
            "output shape:  torch.Size([64, 11])\n",
            "label shape:  torch.Size([64])\n",
            "output shape:  torch.Size([64, 11])\n",
            "label shape:  torch.Size([64])\n",
            "output shape:  torch.Size([64, 11])\n",
            "label shape:  torch.Size([64])\n",
            "output shape:  torch.Size([64, 11])\n",
            "label shape:  torch.Size([64])\n",
            "output shape:  torch.Size([64, 11])\n",
            "label shape:  torch.Size([64])\n",
            "output shape:  torch.Size([64, 11])\n",
            "label shape:  torch.Size([64])\n",
            "output shape:  torch.Size([64, 11])\n",
            "label shape:  torch.Size([64])\n",
            "output shape:  torch.Size([64, 11])\n",
            "label shape:  torch.Size([64])\n",
            "output shape:  torch.Size([64, 11])\n",
            "label shape:  torch.Size([64])\n",
            "output shape:  torch.Size([64, 11])\n",
            "label shape:  torch.Size([64])\n",
            "output shape:  torch.Size([64, 11])\n",
            "label shape:  torch.Size([64])\n",
            "output shape:  torch.Size([64, 11])\n",
            "label shape:  torch.Size([64])\n",
            "output shape:  torch.Size([64, 11])\n",
            "label shape:  torch.Size([64])\n",
            "output shape:  torch.Size([64, 11])\n",
            "label shape:  torch.Size([64])\n",
            "output shape:  torch.Size([64, 11])\n",
            "label shape:  torch.Size([64])\n",
            "output shape:  torch.Size([64, 11])\n",
            "label shape:  torch.Size([64])\n",
            "output shape:  torch.Size([64, 11])\n",
            "label shape:  torch.Size([64])\n",
            "output shape:  torch.Size([64, 11])\n",
            "label shape:  torch.Size([64])\n",
            "output shape:  torch.Size([64, 11])\n",
            "label shape:  torch.Size([64])\n",
            "output shape:  torch.Size([64, 11])\n",
            "label shape:  torch.Size([64])\n",
            "output shape:  torch.Size([64, 11])\n",
            "label shape:  torch.Size([64])\n",
            "output shape:  torch.Size([64, 11])\n",
            "label shape:  torch.Size([64])\n",
            "output shape:  torch.Size([64, 11])\n",
            "label shape:  torch.Size([64])\n",
            "output shape:  torch.Size([64, 11])\n",
            "label shape:  torch.Size([64])\n",
            "output shape:  torch.Size([64, 11])\n",
            "label shape:  torch.Size([64])\n",
            "output shape:  torch.Size([64, 11])\n",
            "label shape:  torch.Size([64])\n",
            "output shape:  torch.Size([64, 11])\n",
            "label shape:  torch.Size([64])\n",
            "output shape:  torch.Size([64, 11])\n",
            "label shape:  torch.Size([64])\n",
            "output shape:  torch.Size([64, 11])\n",
            "label shape:  torch.Size([64])\n",
            "output shape:  torch.Size([64, 11])\n",
            "label shape:  torch.Size([64])\n",
            "output shape:  torch.Size([64, 11])\n",
            "label shape:  torch.Size([64])\n",
            "output shape:  torch.Size([64, 11])\n",
            "label shape:  torch.Size([64])\n",
            "output shape:  torch.Size([64, 11])\n",
            "label shape:  torch.Size([64])\n",
            "output shape:  torch.Size([64, 11])\n",
            "label shape:  torch.Size([64])\n",
            "output shape:  torch.Size([64, 11])\n",
            "label shape:  torch.Size([64])\n",
            "output shape:  torch.Size([64, 11])\n",
            "label shape:  torch.Size([64])\n",
            "output shape:  torch.Size([64, 11])\n",
            "label shape:  torch.Size([64])\n",
            "output shape:  torch.Size([64, 11])\n",
            "label shape:  torch.Size([64])\n",
            "output shape:  torch.Size([64, 11])\n",
            "label shape:  torch.Size([64])\n",
            "output shape:  torch.Size([64, 11])\n",
            "label shape:  torch.Size([64])\n",
            "output shape:  torch.Size([64, 11])\n",
            "label shape:  torch.Size([64])\n",
            "output shape:  torch.Size([64, 11])\n",
            "label shape:  torch.Size([64])\n",
            "output shape:  torch.Size([64, 11])\n",
            "label shape:  torch.Size([64])\n",
            "output shape:  torch.Size([64, 11])\n",
            "label shape:  torch.Size([64])\n",
            "output shape:  torch.Size([64, 11])\n",
            "label shape:  torch.Size([64])\n",
            "output shape:  torch.Size([64, 11])\n",
            "label shape:  torch.Size([64])\n",
            "output shape:  torch.Size([64, 11])\n",
            "label shape:  torch.Size([64])\n",
            "output shape:  torch.Size([64, 11])\n",
            "label shape:  torch.Size([64])\n",
            "output shape:  torch.Size([64, 11])\n",
            "label shape:  torch.Size([64])\n",
            "output shape:  torch.Size([64, 11])\n",
            "label shape:  torch.Size([64])\n",
            "output shape:  torch.Size([64, 11])\n",
            "label shape:  torch.Size([64])\n",
            "output shape:  torch.Size([64, 11])\n",
            "label shape:  torch.Size([64])\n",
            "output shape:  torch.Size([64, 11])\n",
            "label shape:  torch.Size([64])\n",
            "output shape:  torch.Size([64, 11])\n",
            "label shape:  torch.Size([64])\n",
            "output shape:  torch.Size([64, 11])\n",
            "label shape:  torch.Size([64])\n",
            "output shape:  torch.Size([64, 11])\n",
            "label shape:  torch.Size([64])\n",
            "output shape:  torch.Size([64, 11])\n",
            "label shape:  torch.Size([64])\n",
            "output shape:  torch.Size([64, 11])\n",
            "label shape:  torch.Size([64])\n",
            "output shape:  torch.Size([64, 11])\n",
            "label shape:  torch.Size([64])\n",
            "output shape:  torch.Size([64, 11])\n",
            "label shape:  torch.Size([64])\n",
            "output shape:  torch.Size([64, 11])\n",
            "label shape:  torch.Size([64])\n",
            "output shape:  torch.Size([64, 11])\n",
            "label shape:  torch.Size([64])\n",
            "output shape:  torch.Size([64, 11])\n",
            "label shape:  torch.Size([64])\n",
            "output shape:  torch.Size([64, 11])\n",
            "label shape:  torch.Size([64])\n",
            "output shape:  torch.Size([64, 11])\n",
            "label shape:  torch.Size([64])\n",
            "output shape:  torch.Size([64, 11])\n",
            "label shape:  torch.Size([64])\n",
            "output shape:  torch.Size([64, 11])\n",
            "label shape:  torch.Size([64])\n",
            "output shape:  torch.Size([64, 11])\n",
            "label shape:  torch.Size([64])\n",
            "output shape:  torch.Size([64, 11])\n",
            "label shape:  torch.Size([64])\n",
            "output shape:  torch.Size([64, 11])\n",
            "label shape:  torch.Size([64])\n",
            "output shape:  torch.Size([64, 11])\n",
            "label shape:  torch.Size([64])\n",
            "output shape:  torch.Size([64, 11])\n",
            "label shape:  torch.Size([64])\n",
            "output shape:  torch.Size([64, 11])\n",
            "label shape:  torch.Size([64])\n",
            "output shape:  torch.Size([64, 11])\n",
            "label shape:  torch.Size([64])\n",
            "output shape:  torch.Size([64, 11])\n",
            "label shape:  torch.Size([64])\n",
            "output shape:  torch.Size([64, 11])\n",
            "label shape:  torch.Size([64])\n",
            "output shape:  torch.Size([64, 11])\n",
            "label shape:  torch.Size([64])\n",
            "output shape:  torch.Size([64, 11])\n",
            "label shape:  torch.Size([64])\n",
            "output shape:  torch.Size([64, 11])\n",
            "label shape:  torch.Size([64])\n",
            "output shape:  torch.Size([64, 11])\n",
            "label shape:  torch.Size([64])\n",
            "output shape:  torch.Size([64, 11])\n",
            "label shape:  torch.Size([64])\n",
            "output shape:  torch.Size([64, 11])\n",
            "label shape:  torch.Size([64])\n",
            "output shape:  torch.Size([64, 11])\n",
            "label shape:  torch.Size([64])\n",
            "output shape:  torch.Size([64, 11])\n",
            "label shape:  torch.Size([64])\n",
            "output shape:  torch.Size([64, 11])\n",
            "label shape:  torch.Size([64])\n",
            "output shape:  torch.Size([64, 11])\n",
            "label shape:  torch.Size([64])\n",
            "output shape:  torch.Size([64, 11])\n",
            "label shape:  torch.Size([64])\n",
            "output shape:  torch.Size([64, 11])\n",
            "label shape:  torch.Size([64])\n",
            "output shape:  torch.Size([64, 11])\n",
            "label shape:  torch.Size([64])\n",
            "output shape:  torch.Size([64, 11])\n",
            "label shape:  torch.Size([64])\n",
            "output shape:  torch.Size([64, 11])\n",
            "label shape:  torch.Size([64])\n",
            "output shape:  torch.Size([64, 11])\n",
            "label shape:  torch.Size([64])\n",
            "output shape:  torch.Size([64, 11])\n",
            "label shape:  torch.Size([64])\n",
            "output shape:  torch.Size([64, 11])\n",
            "label shape:  torch.Size([64])\n",
            "output shape:  torch.Size([64, 11])\n",
            "label shape:  torch.Size([64])\n",
            "output shape:  torch.Size([64, 11])\n",
            "label shape:  torch.Size([64])\n",
            "output shape:  torch.Size([64, 11])\n",
            "label shape:  torch.Size([64])\n",
            "output shape:  torch.Size([64, 11])\n",
            "label shape:  torch.Size([64])\n",
            "output shape:  torch.Size([64, 11])\n",
            "label shape:  torch.Size([64])\n",
            "output shape:  torch.Size([64, 11])\n",
            "label shape:  torch.Size([64])\n"
          ],
          "name": "stdout"
        },
        {
          "output_type": "error",
          "ename": "KeyboardInterrupt",
          "evalue": "ignored",
          "traceback": [
            "\u001b[0;31m---------------------------------------------------------------------------\u001b[0m",
            "\u001b[0;31mKeyboardInterrupt\u001b[0m                         Traceback (most recent call last)",
            "\u001b[0;32m<ipython-input-9-8ab379053f4e>\u001b[0m in \u001b[0;36m<module>\u001b[0;34m()\u001b[0m\n\u001b[1;32m      5\u001b[0m     \u001b[0mrunning_loss\u001b[0m \u001b[0;34m=\u001b[0m \u001b[0;36m0\u001b[0m\u001b[0;34m\u001b[0m\u001b[0;34m\u001b[0m\u001b[0m\n\u001b[1;32m      6\u001b[0m \u001b[0;34m\u001b[0m\u001b[0m\n\u001b[0;32m----> 7\u001b[0;31m     \u001b[0;32mfor\u001b[0m \u001b[0mimages\u001b[0m\u001b[0;34m,\u001b[0m \u001b[0mlabels\u001b[0m \u001b[0;32min\u001b[0m \u001b[0mtrainloader\u001b[0m\u001b[0;34m:\u001b[0m\u001b[0;34m\u001b[0m\u001b[0;34m\u001b[0m\u001b[0m\n\u001b[0m\u001b[1;32m      8\u001b[0m         \u001b[0;31m#lab = torch.zeros(labels.shape[0],2)\u001b[0m\u001b[0;34m\u001b[0m\u001b[0;34m\u001b[0m\u001b[0;34m\u001b[0m\u001b[0m\n\u001b[1;32m      9\u001b[0m         \u001b[0;31m#lab[:,0] = labels\u001b[0m\u001b[0;34m\u001b[0m\u001b[0;34m\u001b[0m\u001b[0;34m\u001b[0m\u001b[0m\n",
            "\u001b[0;32m/usr/local/lib/python3.7/dist-packages/torch/utils/data/dataloader.py\u001b[0m in \u001b[0;36m__next__\u001b[0;34m(self)\u001b[0m\n\u001b[1;32m    433\u001b[0m         \u001b[0;32mif\u001b[0m \u001b[0mself\u001b[0m\u001b[0;34m.\u001b[0m\u001b[0m_sampler_iter\u001b[0m \u001b[0;32mis\u001b[0m \u001b[0;32mNone\u001b[0m\u001b[0;34m:\u001b[0m\u001b[0;34m\u001b[0m\u001b[0;34m\u001b[0m\u001b[0m\n\u001b[1;32m    434\u001b[0m             \u001b[0mself\u001b[0m\u001b[0;34m.\u001b[0m\u001b[0m_reset\u001b[0m\u001b[0;34m(\u001b[0m\u001b[0;34m)\u001b[0m\u001b[0;34m\u001b[0m\u001b[0;34m\u001b[0m\u001b[0m\n\u001b[0;32m--> 435\u001b[0;31m         \u001b[0mdata\u001b[0m \u001b[0;34m=\u001b[0m \u001b[0mself\u001b[0m\u001b[0;34m.\u001b[0m\u001b[0m_next_data\u001b[0m\u001b[0;34m(\u001b[0m\u001b[0;34m)\u001b[0m\u001b[0;34m\u001b[0m\u001b[0;34m\u001b[0m\u001b[0m\n\u001b[0m\u001b[1;32m    436\u001b[0m         \u001b[0mself\u001b[0m\u001b[0;34m.\u001b[0m\u001b[0m_num_yielded\u001b[0m \u001b[0;34m+=\u001b[0m \u001b[0;36m1\u001b[0m\u001b[0;34m\u001b[0m\u001b[0;34m\u001b[0m\u001b[0m\n\u001b[1;32m    437\u001b[0m         \u001b[0;32mif\u001b[0m \u001b[0mself\u001b[0m\u001b[0;34m.\u001b[0m\u001b[0m_dataset_kind\u001b[0m \u001b[0;34m==\u001b[0m \u001b[0m_DatasetKind\u001b[0m\u001b[0;34m.\u001b[0m\u001b[0mIterable\u001b[0m \u001b[0;32mand\u001b[0m\u001b[0;31m \u001b[0m\u001b[0;31m\\\u001b[0m\u001b[0;34m\u001b[0m\u001b[0;34m\u001b[0m\u001b[0m\n",
            "\u001b[0;32m/usr/local/lib/python3.7/dist-packages/torch/utils/data/dataloader.py\u001b[0m in \u001b[0;36m_next_data\u001b[0;34m(self)\u001b[0m\n\u001b[1;32m    473\u001b[0m     \u001b[0;32mdef\u001b[0m \u001b[0m_next_data\u001b[0m\u001b[0;34m(\u001b[0m\u001b[0mself\u001b[0m\u001b[0;34m)\u001b[0m\u001b[0;34m:\u001b[0m\u001b[0;34m\u001b[0m\u001b[0;34m\u001b[0m\u001b[0m\n\u001b[1;32m    474\u001b[0m         \u001b[0mindex\u001b[0m \u001b[0;34m=\u001b[0m \u001b[0mself\u001b[0m\u001b[0;34m.\u001b[0m\u001b[0m_next_index\u001b[0m\u001b[0;34m(\u001b[0m\u001b[0;34m)\u001b[0m  \u001b[0;31m# may raise StopIteration\u001b[0m\u001b[0;34m\u001b[0m\u001b[0;34m\u001b[0m\u001b[0m\n\u001b[0;32m--> 475\u001b[0;31m         \u001b[0mdata\u001b[0m \u001b[0;34m=\u001b[0m \u001b[0mself\u001b[0m\u001b[0;34m.\u001b[0m\u001b[0m_dataset_fetcher\u001b[0m\u001b[0;34m.\u001b[0m\u001b[0mfetch\u001b[0m\u001b[0;34m(\u001b[0m\u001b[0mindex\u001b[0m\u001b[0;34m)\u001b[0m  \u001b[0;31m# may raise StopIteration\u001b[0m\u001b[0;34m\u001b[0m\u001b[0;34m\u001b[0m\u001b[0m\n\u001b[0m\u001b[1;32m    476\u001b[0m         \u001b[0;32mif\u001b[0m \u001b[0mself\u001b[0m\u001b[0;34m.\u001b[0m\u001b[0m_pin_memory\u001b[0m\u001b[0;34m:\u001b[0m\u001b[0;34m\u001b[0m\u001b[0;34m\u001b[0m\u001b[0m\n\u001b[1;32m    477\u001b[0m             \u001b[0mdata\u001b[0m \u001b[0;34m=\u001b[0m \u001b[0m_utils\u001b[0m\u001b[0;34m.\u001b[0m\u001b[0mpin_memory\u001b[0m\u001b[0;34m.\u001b[0m\u001b[0mpin_memory\u001b[0m\u001b[0;34m(\u001b[0m\u001b[0mdata\u001b[0m\u001b[0;34m)\u001b[0m\u001b[0;34m\u001b[0m\u001b[0;34m\u001b[0m\u001b[0m\n",
            "\u001b[0;32m/usr/local/lib/python3.7/dist-packages/torch/utils/data/_utils/fetch.py\u001b[0m in \u001b[0;36mfetch\u001b[0;34m(self, possibly_batched_index)\u001b[0m\n\u001b[1;32m     42\u001b[0m     \u001b[0;32mdef\u001b[0m \u001b[0mfetch\u001b[0m\u001b[0;34m(\u001b[0m\u001b[0mself\u001b[0m\u001b[0;34m,\u001b[0m \u001b[0mpossibly_batched_index\u001b[0m\u001b[0;34m)\u001b[0m\u001b[0;34m:\u001b[0m\u001b[0;34m\u001b[0m\u001b[0;34m\u001b[0m\u001b[0m\n\u001b[1;32m     43\u001b[0m         \u001b[0;32mif\u001b[0m \u001b[0mself\u001b[0m\u001b[0;34m.\u001b[0m\u001b[0mauto_collation\u001b[0m\u001b[0;34m:\u001b[0m\u001b[0;34m\u001b[0m\u001b[0;34m\u001b[0m\u001b[0m\n\u001b[0;32m---> 44\u001b[0;31m             \u001b[0mdata\u001b[0m \u001b[0;34m=\u001b[0m \u001b[0;34m[\u001b[0m\u001b[0mself\u001b[0m\u001b[0;34m.\u001b[0m\u001b[0mdataset\u001b[0m\u001b[0;34m[\u001b[0m\u001b[0midx\u001b[0m\u001b[0;34m]\u001b[0m \u001b[0;32mfor\u001b[0m \u001b[0midx\u001b[0m \u001b[0;32min\u001b[0m \u001b[0mpossibly_batched_index\u001b[0m\u001b[0;34m]\u001b[0m\u001b[0;34m\u001b[0m\u001b[0;34m\u001b[0m\u001b[0m\n\u001b[0m\u001b[1;32m     45\u001b[0m         \u001b[0;32melse\u001b[0m\u001b[0;34m:\u001b[0m\u001b[0;34m\u001b[0m\u001b[0;34m\u001b[0m\u001b[0m\n\u001b[1;32m     46\u001b[0m             \u001b[0mdata\u001b[0m \u001b[0;34m=\u001b[0m \u001b[0mself\u001b[0m\u001b[0;34m.\u001b[0m\u001b[0mdataset\u001b[0m\u001b[0;34m[\u001b[0m\u001b[0mpossibly_batched_index\u001b[0m\u001b[0;34m]\u001b[0m\u001b[0;34m\u001b[0m\u001b[0;34m\u001b[0m\u001b[0m\n",
            "\u001b[0;32m/usr/local/lib/python3.7/dist-packages/torch/utils/data/_utils/fetch.py\u001b[0m in \u001b[0;36m<listcomp>\u001b[0;34m(.0)\u001b[0m\n\u001b[1;32m     42\u001b[0m     \u001b[0;32mdef\u001b[0m \u001b[0mfetch\u001b[0m\u001b[0;34m(\u001b[0m\u001b[0mself\u001b[0m\u001b[0;34m,\u001b[0m \u001b[0mpossibly_batched_index\u001b[0m\u001b[0;34m)\u001b[0m\u001b[0;34m:\u001b[0m\u001b[0;34m\u001b[0m\u001b[0;34m\u001b[0m\u001b[0m\n\u001b[1;32m     43\u001b[0m         \u001b[0;32mif\u001b[0m \u001b[0mself\u001b[0m\u001b[0;34m.\u001b[0m\u001b[0mauto_collation\u001b[0m\u001b[0;34m:\u001b[0m\u001b[0;34m\u001b[0m\u001b[0;34m\u001b[0m\u001b[0m\n\u001b[0;32m---> 44\u001b[0;31m             \u001b[0mdata\u001b[0m \u001b[0;34m=\u001b[0m \u001b[0;34m[\u001b[0m\u001b[0mself\u001b[0m\u001b[0;34m.\u001b[0m\u001b[0mdataset\u001b[0m\u001b[0;34m[\u001b[0m\u001b[0midx\u001b[0m\u001b[0;34m]\u001b[0m \u001b[0;32mfor\u001b[0m \u001b[0midx\u001b[0m \u001b[0;32min\u001b[0m \u001b[0mpossibly_batched_index\u001b[0m\u001b[0;34m]\u001b[0m\u001b[0;34m\u001b[0m\u001b[0;34m\u001b[0m\u001b[0m\n\u001b[0m\u001b[1;32m     45\u001b[0m         \u001b[0;32melse\u001b[0m\u001b[0;34m:\u001b[0m\u001b[0;34m\u001b[0m\u001b[0;34m\u001b[0m\u001b[0m\n\u001b[1;32m     46\u001b[0m             \u001b[0mdata\u001b[0m \u001b[0;34m=\u001b[0m \u001b[0mself\u001b[0m\u001b[0;34m.\u001b[0m\u001b[0mdataset\u001b[0m\u001b[0;34m[\u001b[0m\u001b[0mpossibly_batched_index\u001b[0m\u001b[0;34m]\u001b[0m\u001b[0;34m\u001b[0m\u001b[0;34m\u001b[0m\u001b[0m\n",
            "\u001b[0;32m/usr/local/lib/python3.7/dist-packages/torchvision/datasets/mnist.py\u001b[0m in \u001b[0;36m__getitem__\u001b[0;34m(self, index)\u001b[0m\n\u001b[1;32m    104\u001b[0m \u001b[0;34m\u001b[0m\u001b[0m\n\u001b[1;32m    105\u001b[0m         \u001b[0;32mif\u001b[0m \u001b[0mself\u001b[0m\u001b[0;34m.\u001b[0m\u001b[0mtransform\u001b[0m \u001b[0;32mis\u001b[0m \u001b[0;32mnot\u001b[0m \u001b[0;32mNone\u001b[0m\u001b[0;34m:\u001b[0m\u001b[0;34m\u001b[0m\u001b[0;34m\u001b[0m\u001b[0m\n\u001b[0;32m--> 106\u001b[0;31m             \u001b[0mimg\u001b[0m \u001b[0;34m=\u001b[0m \u001b[0mself\u001b[0m\u001b[0;34m.\u001b[0m\u001b[0mtransform\u001b[0m\u001b[0;34m(\u001b[0m\u001b[0mimg\u001b[0m\u001b[0;34m)\u001b[0m\u001b[0;34m\u001b[0m\u001b[0;34m\u001b[0m\u001b[0m\n\u001b[0m\u001b[1;32m    107\u001b[0m \u001b[0;34m\u001b[0m\u001b[0m\n\u001b[1;32m    108\u001b[0m         \u001b[0;32mif\u001b[0m \u001b[0mself\u001b[0m\u001b[0;34m.\u001b[0m\u001b[0mtarget_transform\u001b[0m \u001b[0;32mis\u001b[0m \u001b[0;32mnot\u001b[0m \u001b[0;32mNone\u001b[0m\u001b[0;34m:\u001b[0m\u001b[0;34m\u001b[0m\u001b[0;34m\u001b[0m\u001b[0m\n",
            "\u001b[0;32m/usr/local/lib/python3.7/dist-packages/torchvision/transforms/transforms.py\u001b[0m in \u001b[0;36m__call__\u001b[0;34m(self, img)\u001b[0m\n\u001b[1;32m     65\u001b[0m     \u001b[0;32mdef\u001b[0m \u001b[0m__call__\u001b[0m\u001b[0;34m(\u001b[0m\u001b[0mself\u001b[0m\u001b[0;34m,\u001b[0m \u001b[0mimg\u001b[0m\u001b[0;34m)\u001b[0m\u001b[0;34m:\u001b[0m\u001b[0;34m\u001b[0m\u001b[0;34m\u001b[0m\u001b[0m\n\u001b[1;32m     66\u001b[0m         \u001b[0;32mfor\u001b[0m \u001b[0mt\u001b[0m \u001b[0;32min\u001b[0m \u001b[0mself\u001b[0m\u001b[0;34m.\u001b[0m\u001b[0mtransforms\u001b[0m\u001b[0;34m:\u001b[0m\u001b[0;34m\u001b[0m\u001b[0;34m\u001b[0m\u001b[0m\n\u001b[0;32m---> 67\u001b[0;31m             \u001b[0mimg\u001b[0m \u001b[0;34m=\u001b[0m \u001b[0mt\u001b[0m\u001b[0;34m(\u001b[0m\u001b[0mimg\u001b[0m\u001b[0;34m)\u001b[0m\u001b[0;34m\u001b[0m\u001b[0;34m\u001b[0m\u001b[0m\n\u001b[0m\u001b[1;32m     68\u001b[0m         \u001b[0;32mreturn\u001b[0m \u001b[0mimg\u001b[0m\u001b[0;34m\u001b[0m\u001b[0;34m\u001b[0m\u001b[0m\n\u001b[1;32m     69\u001b[0m \u001b[0;34m\u001b[0m\u001b[0m\n",
            "\u001b[0;32m/usr/local/lib/python3.7/dist-packages/torch/nn/modules/module.py\u001b[0m in \u001b[0;36m_call_impl\u001b[0;34m(self, *input, **kwargs)\u001b[0m\n\u001b[1;32m    725\u001b[0m             \u001b[0mresult\u001b[0m \u001b[0;34m=\u001b[0m \u001b[0mself\u001b[0m\u001b[0;34m.\u001b[0m\u001b[0m_slow_forward\u001b[0m\u001b[0;34m(\u001b[0m\u001b[0;34m*\u001b[0m\u001b[0minput\u001b[0m\u001b[0;34m,\u001b[0m \u001b[0;34m**\u001b[0m\u001b[0mkwargs\u001b[0m\u001b[0;34m)\u001b[0m\u001b[0;34m\u001b[0m\u001b[0;34m\u001b[0m\u001b[0m\n\u001b[1;32m    726\u001b[0m         \u001b[0;32melse\u001b[0m\u001b[0;34m:\u001b[0m\u001b[0;34m\u001b[0m\u001b[0;34m\u001b[0m\u001b[0m\n\u001b[0;32m--> 727\u001b[0;31m             \u001b[0mresult\u001b[0m \u001b[0;34m=\u001b[0m \u001b[0mself\u001b[0m\u001b[0;34m.\u001b[0m\u001b[0mforward\u001b[0m\u001b[0;34m(\u001b[0m\u001b[0;34m*\u001b[0m\u001b[0minput\u001b[0m\u001b[0;34m,\u001b[0m \u001b[0;34m**\u001b[0m\u001b[0mkwargs\u001b[0m\u001b[0;34m)\u001b[0m\u001b[0;34m\u001b[0m\u001b[0;34m\u001b[0m\u001b[0m\n\u001b[0m\u001b[1;32m    728\u001b[0m         for hook in itertools.chain(\n\u001b[1;32m    729\u001b[0m                 \u001b[0m_global_forward_hooks\u001b[0m\u001b[0;34m.\u001b[0m\u001b[0mvalues\u001b[0m\u001b[0;34m(\u001b[0m\u001b[0;34m)\u001b[0m\u001b[0;34m,\u001b[0m\u001b[0;34m\u001b[0m\u001b[0;34m\u001b[0m\u001b[0m\n",
            "\u001b[0;32m/usr/local/lib/python3.7/dist-packages/torchvision/transforms/transforms.py\u001b[0m in \u001b[0;36mforward\u001b[0;34m(self, tensor)\u001b[0m\n\u001b[1;32m    224\u001b[0m             \u001b[0mTensor\u001b[0m\u001b[0;34m:\u001b[0m \u001b[0mNormalized\u001b[0m \u001b[0mTensor\u001b[0m \u001b[0mimage\u001b[0m\u001b[0;34m.\u001b[0m\u001b[0;34m\u001b[0m\u001b[0;34m\u001b[0m\u001b[0m\n\u001b[1;32m    225\u001b[0m         \"\"\"\n\u001b[0;32m--> 226\u001b[0;31m         \u001b[0;32mreturn\u001b[0m \u001b[0mF\u001b[0m\u001b[0;34m.\u001b[0m\u001b[0mnormalize\u001b[0m\u001b[0;34m(\u001b[0m\u001b[0mtensor\u001b[0m\u001b[0;34m,\u001b[0m \u001b[0mself\u001b[0m\u001b[0;34m.\u001b[0m\u001b[0mmean\u001b[0m\u001b[0;34m,\u001b[0m \u001b[0mself\u001b[0m\u001b[0;34m.\u001b[0m\u001b[0mstd\u001b[0m\u001b[0;34m,\u001b[0m \u001b[0mself\u001b[0m\u001b[0;34m.\u001b[0m\u001b[0minplace\u001b[0m\u001b[0;34m)\u001b[0m\u001b[0;34m\u001b[0m\u001b[0;34m\u001b[0m\u001b[0m\n\u001b[0m\u001b[1;32m    227\u001b[0m \u001b[0;34m\u001b[0m\u001b[0m\n\u001b[1;32m    228\u001b[0m     \u001b[0;32mdef\u001b[0m \u001b[0m__repr__\u001b[0m\u001b[0;34m(\u001b[0m\u001b[0mself\u001b[0m\u001b[0;34m)\u001b[0m\u001b[0;34m:\u001b[0m\u001b[0;34m\u001b[0m\u001b[0;34m\u001b[0m\u001b[0m\n",
            "\u001b[0;32m/usr/local/lib/python3.7/dist-packages/torchvision/transforms/functional.py\u001b[0m in \u001b[0;36mnormalize\u001b[0;34m(tensor, mean, std, inplace)\u001b[0m\n\u001b[1;32m    282\u001b[0m     \u001b[0;32mif\u001b[0m \u001b[0mstd\u001b[0m\u001b[0;34m.\u001b[0m\u001b[0mndim\u001b[0m \u001b[0;34m==\u001b[0m \u001b[0;36m1\u001b[0m\u001b[0;34m:\u001b[0m\u001b[0;34m\u001b[0m\u001b[0;34m\u001b[0m\u001b[0m\n\u001b[1;32m    283\u001b[0m         \u001b[0mstd\u001b[0m \u001b[0;34m=\u001b[0m \u001b[0mstd\u001b[0m\u001b[0;34m.\u001b[0m\u001b[0mview\u001b[0m\u001b[0;34m(\u001b[0m\u001b[0;34m-\u001b[0m\u001b[0;36m1\u001b[0m\u001b[0;34m,\u001b[0m \u001b[0;36m1\u001b[0m\u001b[0;34m,\u001b[0m \u001b[0;36m1\u001b[0m\u001b[0;34m)\u001b[0m\u001b[0;34m\u001b[0m\u001b[0;34m\u001b[0m\u001b[0m\n\u001b[0;32m--> 284\u001b[0;31m     \u001b[0mtensor\u001b[0m\u001b[0;34m.\u001b[0m\u001b[0msub_\u001b[0m\u001b[0;34m(\u001b[0m\u001b[0mmean\u001b[0m\u001b[0;34m)\u001b[0m\u001b[0;34m.\u001b[0m\u001b[0mdiv_\u001b[0m\u001b[0;34m(\u001b[0m\u001b[0mstd\u001b[0m\u001b[0;34m)\u001b[0m\u001b[0;34m\u001b[0m\u001b[0;34m\u001b[0m\u001b[0m\n\u001b[0m\u001b[1;32m    285\u001b[0m     \u001b[0;32mreturn\u001b[0m \u001b[0mtensor\u001b[0m\u001b[0;34m\u001b[0m\u001b[0;34m\u001b[0m\u001b[0m\n\u001b[1;32m    286\u001b[0m \u001b[0;34m\u001b[0m\u001b[0m\n",
            "\u001b[0;31mKeyboardInterrupt\u001b[0m: "
          ]
        }
      ]
    },
    {
      "cell_type": "code",
      "metadata": {
        "colab": {
          "base_uri": "https://localhost:8080/"
        },
        "id": "rdDrF3sI_0Zs",
        "outputId": "08568e1f-5f89-421d-ef85-8b591e9b71c0"
      },
      "source": [
        "correct_count, all_count = 0, 0\r\n",
        "for images,labels in valloader:\r\n",
        "    for i in range(len(labels)):\r\n",
        "        if i%5 == 0:\r\n",
        "            img = (images[i]+images[i-1]).view(1, 784)\r\n",
        "            labels[i] = 10\r\n",
        "        else:\r\n",
        "            \r\n",
        "      \r\n",
        "            img = images[i].view(1, 784)\r\n",
        "        with torch.no_grad():\r\n",
        "            logps = model(img)\r\n",
        "\r\n",
        "    \r\n",
        "        ps = torch.exp(logps)\r\n",
        "        probab = list(ps.numpy()[0])\r\n",
        "        pred_label = probab.index(max(probab))\r\n",
        "        true_label = labels.numpy()[i]\r\n",
        "        if(true_label == pred_label):\r\n",
        "            correct_count += 1\r\n",
        "        all_count += 1\r\n",
        "\r\n",
        "print(\"Number Of Images Tested =\", all_count)\r\n",
        "print(\"\\nModel Accuracy =\", (correct_count/all_count))"
      ],
      "execution_count": null,
      "outputs": [
        {
          "output_type": "stream",
          "text": [
            "Number Of Images Tested = 10000\n",
            "\n",
            "Model Accuracy = 0.9837\n"
          ],
          "name": "stdout"
        }
      ]
    },
    {
      "cell_type": "code",
      "metadata": {
        "colab": {
          "base_uri": "https://localhost:8080/"
        },
        "id": "MQM1rGsM5Qiu",
        "outputId": "bb576f97-1c2e-4b3c-a0d6-b722f699de6b"
      },
      "source": [
        "dataiter = iter(valloader)\r\n",
        "vimg,vlab = dataiter.next()\r\n",
        "vlab[2]"
      ],
      "execution_count": null,
      "outputs": [
        {
          "output_type": "execute_result",
          "data": {
            "text/plain": [
              "tensor(6)"
            ]
          },
          "metadata": {
            "tags": []
          },
          "execution_count": 51
        }
      ]
    },
    {
      "cell_type": "code",
      "metadata": {
        "colab": {
          "base_uri": "https://localhost:8080/"
        },
        "id": "TDs8VmQ-6B6r",
        "outputId": "7636ad1a-f1d5-4073-a23b-12a83d34a5a1"
      },
      "source": [
        "img = (vimg[2]).view(1,784)\r\n",
        "with torch.no_grad():\r\n",
        "    logps = model(img)\r\n",
        "ps = torch.exp(logps)\r\n",
        "print(ps)\r\n",
        "probab = list(ps.numpy()[0])\r\n",
        "pred_label = probab.index(max(probab))\r\n",
        "pred_label"
      ],
      "execution_count": null,
      "outputs": [
        {
          "output_type": "stream",
          "text": [
            "tensor([[9.9985e-01, 3.5484e-06, 1.7004e-06, 1.0657e-06, 4.1744e-09, 1.2326e-04,\n",
            "         1.6296e-07, 6.0311e-06, 1.2062e-07, 1.1772e-06, 1.5953e-05]])\n"
          ],
          "name": "stdout"
        },
        {
          "output_type": "execute_result",
          "data": {
            "text/plain": [
              "0"
            ]
          },
          "metadata": {
            "tags": []
          },
          "execution_count": 50
        }
      ]
    },
    {
      "cell_type": "code",
      "metadata": {
        "colab": {
          "base_uri": "https://localhost:8080/"
        },
        "id": "yfYi8yXC_jbX",
        "outputId": "5ad904ae-20c1-40b9-c1a4-b57017e92ff6"
      },
      "source": [
        "correct_count, all_count = 0, 0\r\n",
        "for images,labels in valloader:\r\n",
        "  for i in range(len(labels)):\r\n",
        "      \r\n",
        "    img = images[i].view(1, 784)\r\n",
        "    with torch.no_grad():\r\n",
        "        logps = model(img)\r\n",
        "\r\n",
        "    \r\n",
        "    ps = torch.exp(logps)\r\n",
        "    probab = list(ps.numpy()[0])\r\n",
        "    pred_label = probab.index(max(probab))\r\n",
        "    true_label = labels.numpy()[i]\r\n",
        "    if(true_label == pred_label):\r\n",
        "      correct_count += 1\r\n",
        "    all_count += 1\r\n",
        "\r\n",
        "print(\"Number Of Images Tested =\", all_count)\r\n",
        "print(\"\\nModel Accuracy =\", (correct_count/all_count))"
      ],
      "execution_count": null,
      "outputs": [
        {
          "output_type": "stream",
          "text": [
            "Number Of Images Tested = 10000\n",
            "\n",
            "Model Accuracy = 0.9771\n"
          ],
          "name": "stdout"
        }
      ]
    },
    {
      "cell_type": "code",
      "metadata": {
        "id": "TBzfOPbtAdtY"
      },
      "source": [
        "torch.save(model, '/content/drive/MyDrive/MNISTdata/my_mnist_model_with_11.pt') "
      ],
      "execution_count": null,
      "outputs": []
    },
    {
      "cell_type": "code",
      "metadata": {
        "id": "8uFFNjSqAq5i"
      },
      "source": [
        "import torch\r\n",
        "import torch.nn as nn\r\n",
        "from tqdm import tqdm\r\n",
        "from torch.utils.tensorboard import SummaryWriter\r\n",
        "import numpy as np"
      ],
      "execution_count": null,
      "outputs": []
    },
    {
      "cell_type": "code",
      "metadata": {
        "id": "lRBrPXoteVZ4"
      },
      "source": [
        "\r\n",
        "class Encoder(nn.Module):\r\n",
        "  def __init__(self,device):\r\n",
        "    super().__init__()\r\n",
        "    self.enc1 = nn.Sequential(\r\n",
        "            nn.Conv2d(1, 16, 3, stride=3, padding=1),  # b, 16, 10, 10\r\n",
        "            nn.ReLU(True),\r\n",
        "            nn.MaxPool2d(2, stride=2))  # b, 16, 5, 5\r\n",
        "\r\n",
        "    self.enc2 = nn.Sequential(\r\n",
        "            nn.Conv2d(16, 8, 3, stride=2, padding=1),  # b, 8, 3, 3\r\n",
        "            nn.ReLU(True),\r\n",
        "            nn.MaxPool2d(2, stride=1))  # b, 8, 2, 2\r\n",
        "  def forward(self,x):\r\n",
        "    x=self.enc1(x)\r\n",
        "    #print(x.shape)\r\n",
        "    x=self.enc2(x)\r\n",
        "    #print(x.shape)\r\n",
        "    return x\r\n",
        "\r\n",
        "\r\n",
        "class Decoder(nn.Module):\r\n",
        "  def __init__(self,device):\r\n",
        "    super().__init__()\r\n",
        "    self.dec1 = nn.Sequential(nn.ConvTranspose2d(8, 16, 3, stride=2),  # b, 16, 5, 5\r\n",
        "            nn.ReLU(True))\r\n",
        "    self.dec2 = nn.Sequential(nn.ConvTranspose2d(16, 8, 5, stride=3, padding=1),  # b, 8, 15, 15\r\n",
        "            nn.ReLU(True))\r\n",
        "    self.dec3 = nn.Sequential(nn.ConvTranspose2d(8, 1, 2, stride=2, padding=1),  # b, 1, 28, 28\r\n",
        "            nn.Tanh())\r\n",
        "\r\n",
        "  def forward(self,x):\r\n",
        "    x=self.dec1(x)\r\n",
        "    x=self.dec2(x)\r\n",
        "    x=self.dec3(x)\r\n",
        "    return x\r\n",
        "\r\n",
        "class AutoEncoder(nn.Module):\r\n",
        "  def __init__(self,device):\r\n",
        "    super().__init__()\r\n",
        "    self.enc=Encoder(device).to(device = device)\r\n",
        "    self.dec =Decoder(device).to(device = device)\r\n",
        "  def forward(self,x):\r\n",
        "    enc=self.enc(x)\r\n",
        "    dec=self.dec(enc)\r\n",
        "    return dec\r\n",
        "\r\n",
        "\r\n",
        "\r\n"
      ],
      "execution_count": null,
      "outputs": []
    },
    {
      "cell_type": "code",
      "metadata": {
        "id": "EnJxrF2vPEzL"
      },
      "source": [
        "class Trainer:\r\n",
        "  def __init__(self,trainset,valset):\r\n",
        "    self.device =torch.device(\"cuda:0\" if torch.cuda.is_available() else \"cpu\")\r\n",
        "    self.model = AutoEncoder(self.device).to(device=self.device)\r\n",
        "    self.optimizer = torch.optim.AdamW(self.model.parameters(), lr=0.001)\r\n",
        "    self.trainset=trainset\r\n",
        "    self.valset=valset\r\n",
        "    self.train_loader = torch.utils.data.DataLoader(self.trainset,batch_size=64,shuffle=True,num_workers=2)\r\n",
        "    self.val_loader = torch.utils.data.DataLoader(self.valset,batch_size=64,shuffle=True,num_workers=2)\r\n",
        "    self.writer = SummaryWriter('/content/drive/MyDrive/MNISTdata/tblogs') \r\n",
        "  def train(self,epochs=10):\r\n",
        "    self.model.train()\r\n",
        "    step = 0\r\n",
        "    for epoch in tqdm(range(epochs),unit=\"epochs\"):\r\n",
        "      loss_list =[]\r\n",
        "      for images, labels in self.train_loader:\r\n",
        "        imgs=images.to(self.device)\r\n",
        "        pred = self.model(imgs)\r\n",
        "        losses =self.loss(pred,imgs)\r\n",
        "        self.optimizer.zero_grad()\r\n",
        "        losses.backward()\r\n",
        "        self.optimizer.step()\r\n",
        "        \r\n",
        "      \r\n",
        "        loss_list.append(losses.item())\r\n",
        "        if step%10 ==0:\r\n",
        "          self.writer.add_scalar('Loss/train', np.array(loss_list).mean(),step)\r\n",
        "      print(np.array(loss_list).mean())\r\n",
        "\r\n",
        "  def loss(self,pred,target):\r\n",
        "    return nn.MSELoss()(pred,target)\r\n",
        "  \r\n",
        "  def predict(self,x):\r\n",
        "    self.model.eval()\r\n",
        "    with torch.no_grad():\r\n",
        "      pred = self.model(x)\r\n",
        "    return pred "
      ],
      "execution_count": null,
      "outputs": []
    },
    {
      "cell_type": "code",
      "metadata": {
        "id": "bjlJ-U8j8hkw"
      },
      "source": [
        "transform  = transforms.Compose([transforms.ToTensor(), transforms.Normalize((0.5), (0.5))\r\n",
        "                                ])\r\n",
        "\r\n",
        "trainset = datasets.MNIST('/content/drive/MyDrive/MNISTdata/train/',download=False,train=True,transform=transform)\r\n",
        "valset = datasets.MNIST('/content/drive/MyDrive/MNISTdata/validation/',download=False,train=False,transform=transform)\r\n",
        "\r\n",
        "trainloader = torch.utils.data.DataLoader(trainset,batch_size=64,shuffle=True)\r\n",
        "\r\n",
        "valloader = torch.utils.data.DataLoader(valset,batch_size=64,shuffle=True)\r\n"
      ],
      "execution_count": null,
      "outputs": []
    },
    {
      "cell_type": "code",
      "metadata": {
        "id": "aBOpTpXy8xdA",
        "colab": {
          "base_uri": "https://localhost:8080/"
        },
        "outputId": "8964c721-33e8-4d16-9416-710c10117b19"
      },
      "source": [
        "dataiter = iter(valloader)\r\n",
        "images, labels = dataiter.next()\r\n",
        "\r\n",
        "print(images.shape,images.min(),images.max())\r\n",
        "print(labels.shape)"
      ],
      "execution_count": null,
      "outputs": [
        {
          "output_type": "stream",
          "text": [
            "torch.Size([64, 1, 28, 28]) tensor(-1.) tensor(1.)\n",
            "torch.Size([64])\n"
          ],
          "name": "stdout"
        }
      ]
    },
    {
      "cell_type": "code",
      "metadata": {
        "id": "0FyHisaFUPr5"
      },
      "source": [
        "\r\n",
        "trainer = Trainer(trainset,valset)"
      ],
      "execution_count": null,
      "outputs": []
    },
    {
      "cell_type": "code",
      "metadata": {
        "colab": {
          "base_uri": "https://localhost:8080/"
        },
        "id": "h5brbSYD9CxM",
        "outputId": "778048f0-0036-4e3f-d811-f868796bbb68"
      },
      "source": [
        "\r\n",
        "trainer.train(60)"
      ],
      "execution_count": null,
      "outputs": [
        {
          "output_type": "stream",
          "text": [
            "\n",
            "\n",
            "  0%|          | 0/60 [00:00<?, ?epochs/s]\u001b[A\u001b[A\n",
            "\n",
            "  2%|▏         | 1/60 [00:12<12:02, 12.24s/epochs]\u001b[A\u001b[A"
          ],
          "name": "stderr"
        },
        {
          "output_type": "stream",
          "text": [
            "0.09556191027768131\n"
          ],
          "name": "stdout"
        },
        {
          "output_type": "stream",
          "text": [
            "\n",
            "\n",
            "  3%|▎         | 2/60 [00:24<11:53, 12.31s/epochs]\u001b[A\u001b[A"
          ],
          "name": "stderr"
        },
        {
          "output_type": "stream",
          "text": [
            "0.09540037937891255\n"
          ],
          "name": "stdout"
        },
        {
          "output_type": "stream",
          "text": [
            "\n",
            "\n",
            "  5%|▌         | 3/60 [00:37<11:42, 12.33s/epochs]\u001b[A\u001b[A"
          ],
          "name": "stderr"
        },
        {
          "output_type": "stream",
          "text": [
            "0.09529360885749748\n"
          ],
          "name": "stdout"
        },
        {
          "output_type": "stream",
          "text": [
            "\n",
            "\n",
            "  7%|▋         | 4/60 [00:49<11:32, 12.37s/epochs]\u001b[A\u001b[A"
          ],
          "name": "stderr"
        },
        {
          "output_type": "stream",
          "text": [
            "0.09522708399749513\n"
          ],
          "name": "stdout"
        },
        {
          "output_type": "stream",
          "text": [
            "\n",
            "\n",
            "  8%|▊         | 5/60 [01:02<11:22, 12.41s/epochs]\u001b[A\u001b[A"
          ],
          "name": "stderr"
        },
        {
          "output_type": "stream",
          "text": [
            "0.09514994359315077\n"
          ],
          "name": "stdout"
        },
        {
          "output_type": "stream",
          "text": [
            "\n",
            "\n",
            " 10%|█         | 6/60 [01:14<11:09, 12.39s/epochs]\u001b[A\u001b[A"
          ],
          "name": "stderr"
        },
        {
          "output_type": "stream",
          "text": [
            "0.09501052567604254\n"
          ],
          "name": "stdout"
        },
        {
          "output_type": "stream",
          "text": [
            "\n",
            "\n",
            " 12%|█▏        | 7/60 [01:26<10:52, 12.31s/epochs]\u001b[A\u001b[A"
          ],
          "name": "stderr"
        },
        {
          "output_type": "stream",
          "text": [
            "0.09491425632699721\n"
          ],
          "name": "stdout"
        },
        {
          "output_type": "stream",
          "text": [
            "\n",
            "\n",
            " 13%|█▎        | 8/60 [01:38<10:39, 12.29s/epochs]\u001b[A\u001b[A"
          ],
          "name": "stderr"
        },
        {
          "output_type": "stream",
          "text": [
            "0.09476174576196081\n"
          ],
          "name": "stdout"
        },
        {
          "output_type": "stream",
          "text": [
            "\n",
            "\n",
            " 15%|█▌        | 9/60 [01:51<10:27, 12.30s/epochs]\u001b[A\u001b[A"
          ],
          "name": "stderr"
        },
        {
          "output_type": "stream",
          "text": [
            "0.09464668162437136\n"
          ],
          "name": "stdout"
        },
        {
          "output_type": "stream",
          "text": [
            "\n",
            "\n",
            " 17%|█▋        | 10/60 [02:03<10:15, 12.32s/epochs]\u001b[A\u001b[A"
          ],
          "name": "stderr"
        },
        {
          "output_type": "stream",
          "text": [
            "0.0946254873437795\n"
          ],
          "name": "stdout"
        },
        {
          "output_type": "stream",
          "text": [
            "\n",
            "\n",
            " 18%|█▊        | 11/60 [02:15<10:03, 12.33s/epochs]\u001b[A\u001b[A"
          ],
          "name": "stderr"
        },
        {
          "output_type": "stream",
          "text": [
            "0.0944909520590229\n"
          ],
          "name": "stdout"
        },
        {
          "output_type": "stream",
          "text": [
            "\n",
            "\n",
            " 20%|██        | 12/60 [02:28<09:52, 12.35s/epochs]\u001b[A\u001b[A"
          ],
          "name": "stderr"
        },
        {
          "output_type": "stream",
          "text": [
            "0.09450042964235297\n"
          ],
          "name": "stdout"
        },
        {
          "output_type": "stream",
          "text": [
            "\n",
            "\n",
            " 22%|██▏       | 13/60 [02:40<09:42, 12.39s/epochs]\u001b[A\u001b[A"
          ],
          "name": "stderr"
        },
        {
          "output_type": "stream",
          "text": [
            "0.09432821785971554\n"
          ],
          "name": "stdout"
        },
        {
          "output_type": "stream",
          "text": [
            "\n",
            "\n",
            " 23%|██▎       | 14/60 [02:53<09:29, 12.38s/epochs]\u001b[A\u001b[A"
          ],
          "name": "stderr"
        },
        {
          "output_type": "stream",
          "text": [
            "0.09423204608309244\n"
          ],
          "name": "stdout"
        },
        {
          "output_type": "stream",
          "text": [
            "\n",
            "\n",
            " 25%|██▌       | 15/60 [03:05<09:16, 12.37s/epochs]\u001b[A\u001b[A"
          ],
          "name": "stderr"
        },
        {
          "output_type": "stream",
          "text": [
            "0.0941311133695818\n"
          ],
          "name": "stdout"
        },
        {
          "output_type": "stream",
          "text": [
            "\n",
            "\n",
            " 27%|██▋       | 16/60 [03:18<09:11, 12.53s/epochs]\u001b[A\u001b[A"
          ],
          "name": "stderr"
        },
        {
          "output_type": "stream",
          "text": [
            "0.09408384992846294\n"
          ],
          "name": "stdout"
        },
        {
          "output_type": "stream",
          "text": [
            "\n",
            "\n",
            " 28%|██▊       | 17/60 [03:30<08:58, 12.52s/epochs]\u001b[A\u001b[A"
          ],
          "name": "stderr"
        },
        {
          "output_type": "stream",
          "text": [
            "0.09397007141317894\n"
          ],
          "name": "stdout"
        },
        {
          "output_type": "stream",
          "text": [
            "\n",
            "\n",
            " 30%|███       | 18/60 [03:43<08:43, 12.47s/epochs]\u001b[A\u001b[A"
          ],
          "name": "stderr"
        },
        {
          "output_type": "stream",
          "text": [
            "0.09397277982631472\n"
          ],
          "name": "stdout"
        },
        {
          "output_type": "stream",
          "text": [
            "\n",
            "\n",
            " 32%|███▏      | 19/60 [03:55<08:32, 12.49s/epochs]\u001b[A\u001b[A"
          ],
          "name": "stderr"
        },
        {
          "output_type": "stream",
          "text": [
            "0.09376240767903928\n"
          ],
          "name": "stdout"
        },
        {
          "output_type": "stream",
          "text": [
            "\n",
            "\n",
            " 33%|███▎      | 20/60 [04:07<08:16, 12.42s/epochs]\u001b[A\u001b[A"
          ],
          "name": "stderr"
        },
        {
          "output_type": "stream",
          "text": [
            "0.093667774375822\n"
          ],
          "name": "stdout"
        },
        {
          "output_type": "stream",
          "text": [
            "\n",
            "\n",
            " 35%|███▌      | 21/60 [04:20<08:01, 12.35s/epochs]\u001b[A\u001b[A"
          ],
          "name": "stderr"
        },
        {
          "output_type": "stream",
          "text": [
            "0.09363321956795162\n"
          ],
          "name": "stdout"
        },
        {
          "output_type": "stream",
          "text": [
            "\n",
            "\n",
            " 37%|███▋      | 22/60 [04:32<07:49, 12.35s/epochs]\u001b[A\u001b[A"
          ],
          "name": "stderr"
        },
        {
          "output_type": "stream",
          "text": [
            "0.09340216529204139\n"
          ],
          "name": "stdout"
        },
        {
          "output_type": "stream",
          "text": [
            "\n",
            "\n",
            " 38%|███▊      | 23/60 [04:44<07:36, 12.33s/epochs]\u001b[A\u001b[A"
          ],
          "name": "stderr"
        },
        {
          "output_type": "stream",
          "text": [
            "0.09340262796674202\n"
          ],
          "name": "stdout"
        },
        {
          "output_type": "stream",
          "text": [
            "\n",
            "\n",
            " 40%|████      | 24/60 [04:57<07:25, 12.36s/epochs]\u001b[A\u001b[A"
          ],
          "name": "stderr"
        },
        {
          "output_type": "stream",
          "text": [
            "0.0933793221773115\n"
          ],
          "name": "stdout"
        },
        {
          "output_type": "stream",
          "text": [
            "\n",
            "\n",
            " 42%|████▏     | 25/60 [05:09<07:11, 12.33s/epochs]\u001b[A\u001b[A"
          ],
          "name": "stderr"
        },
        {
          "output_type": "stream",
          "text": [
            "0.09323286238128442\n"
          ],
          "name": "stdout"
        },
        {
          "output_type": "stream",
          "text": [
            "\n",
            "\n",
            " 43%|████▎     | 26/60 [05:21<06:57, 12.29s/epochs]\u001b[A\u001b[A"
          ],
          "name": "stderr"
        },
        {
          "output_type": "stream",
          "text": [
            "0.09308813413037166\n"
          ],
          "name": "stdout"
        },
        {
          "output_type": "stream",
          "text": [
            "\n",
            "\n",
            " 45%|████▌     | 27/60 [05:33<06:44, 12.26s/epochs]\u001b[A\u001b[A"
          ],
          "name": "stderr"
        },
        {
          "output_type": "stream",
          "text": [
            "0.09307996607792657\n"
          ],
          "name": "stdout"
        },
        {
          "output_type": "stream",
          "text": [
            "\n",
            "\n",
            " 47%|████▋     | 28/60 [05:45<06:30, 12.22s/epochs]\u001b[A\u001b[A"
          ],
          "name": "stderr"
        },
        {
          "output_type": "stream",
          "text": [
            "0.09295420143713574\n"
          ],
          "name": "stdout"
        },
        {
          "output_type": "stream",
          "text": [
            "\n",
            "\n",
            " 48%|████▊     | 29/60 [05:58<06:19, 12.23s/epochs]\u001b[A\u001b[A"
          ],
          "name": "stderr"
        },
        {
          "output_type": "stream",
          "text": [
            "0.09294632666591388\n"
          ],
          "name": "stdout"
        },
        {
          "output_type": "stream",
          "text": [
            "\n",
            "\n",
            " 50%|█████     | 30/60 [06:10<06:06, 12.23s/epochs]\u001b[A\u001b[A"
          ],
          "name": "stderr"
        },
        {
          "output_type": "stream",
          "text": [
            "0.09285161130305038\n"
          ],
          "name": "stdout"
        },
        {
          "output_type": "stream",
          "text": [
            "\n",
            "\n",
            " 52%|█████▏    | 31/60 [06:22<05:53, 12.20s/epochs]\u001b[A\u001b[A"
          ],
          "name": "stderr"
        },
        {
          "output_type": "stream",
          "text": [
            "0.09275901483606173\n"
          ],
          "name": "stdout"
        },
        {
          "output_type": "stream",
          "text": [
            "\n",
            "\n",
            " 53%|█████▎    | 32/60 [06:34<05:40, 12.15s/epochs]\u001b[A\u001b[A"
          ],
          "name": "stderr"
        },
        {
          "output_type": "stream",
          "text": [
            "0.09270677103130802\n"
          ],
          "name": "stdout"
        },
        {
          "output_type": "stream",
          "text": [
            "\n",
            "\n",
            " 55%|█████▌    | 33/60 [06:46<05:28, 12.16s/epochs]\u001b[A\u001b[A"
          ],
          "name": "stderr"
        },
        {
          "output_type": "stream",
          "text": [
            "0.09264714162804678\n"
          ],
          "name": "stdout"
        },
        {
          "output_type": "stream",
          "text": [
            "\n",
            "\n",
            " 57%|█████▋    | 34/60 [06:58<05:16, 12.18s/epochs]\u001b[A\u001b[A"
          ],
          "name": "stderr"
        },
        {
          "output_type": "stream",
          "text": [
            "0.09253706555090734\n"
          ],
          "name": "stdout"
        },
        {
          "output_type": "stream",
          "text": [
            "\n",
            "\n",
            " 58%|█████▊    | 35/60 [07:11<05:05, 12.21s/epochs]\u001b[A\u001b[A"
          ],
          "name": "stderr"
        },
        {
          "output_type": "stream",
          "text": [
            "0.09239985488815856\n"
          ],
          "name": "stdout"
        },
        {
          "output_type": "stream",
          "text": [
            "\n",
            "\n",
            " 60%|██████    | 36/60 [07:23<04:54, 12.25s/epochs]\u001b[A\u001b[A"
          ],
          "name": "stderr"
        },
        {
          "output_type": "stream",
          "text": [
            "0.09247025710814544\n"
          ],
          "name": "stdout"
        },
        {
          "output_type": "stream",
          "text": [
            "\n",
            "\n",
            " 62%|██████▏   | 37/60 [07:36<04:43, 12.31s/epochs]\u001b[A\u001b[A"
          ],
          "name": "stderr"
        },
        {
          "output_type": "stream",
          "text": [
            "0.09239494208810425\n"
          ],
          "name": "stdout"
        },
        {
          "output_type": "stream",
          "text": [
            "\n",
            "\n",
            " 63%|██████▎   | 38/60 [07:48<04:31, 12.33s/epochs]\u001b[A\u001b[A"
          ],
          "name": "stderr"
        },
        {
          "output_type": "stream",
          "text": [
            "0.0923274687961983\n"
          ],
          "name": "stdout"
        },
        {
          "output_type": "stream",
          "text": [
            "\n",
            "\n",
            " 65%|██████▌   | 39/60 [08:00<04:18, 12.29s/epochs]\u001b[A\u001b[A"
          ],
          "name": "stderr"
        },
        {
          "output_type": "stream",
          "text": [
            "0.09224138480386754\n"
          ],
          "name": "stdout"
        },
        {
          "output_type": "stream",
          "text": [
            "\n",
            "\n",
            " 67%|██████▋   | 40/60 [08:13<04:06, 12.32s/epochs]\u001b[A\u001b[A"
          ],
          "name": "stderr"
        },
        {
          "output_type": "stream",
          "text": [
            "0.09219784525507041\n"
          ],
          "name": "stdout"
        },
        {
          "output_type": "stream",
          "text": [
            "\n",
            "\n",
            " 68%|██████▊   | 41/60 [08:25<03:53, 12.31s/epochs]\u001b[A\u001b[A"
          ],
          "name": "stderr"
        },
        {
          "output_type": "stream",
          "text": [
            "0.09215084067794052\n"
          ],
          "name": "stdout"
        },
        {
          "output_type": "stream",
          "text": [
            "\n",
            "\n",
            " 70%|███████   | 42/60 [08:37<03:41, 12.30s/epochs]\u001b[A\u001b[A"
          ],
          "name": "stderr"
        },
        {
          "output_type": "stream",
          "text": [
            "0.09202841560501279\n"
          ],
          "name": "stdout"
        },
        {
          "output_type": "stream",
          "text": [
            "\n",
            "\n",
            " 72%|███████▏  | 43/60 [08:49<03:29, 12.32s/epochs]\u001b[A\u001b[A"
          ],
          "name": "stderr"
        },
        {
          "output_type": "stream",
          "text": [
            "0.09206234014777741\n"
          ],
          "name": "stdout"
        },
        {
          "output_type": "stream",
          "text": [
            "\n",
            "\n",
            " 73%|███████▎  | 44/60 [09:02<03:16, 12.31s/epochs]\u001b[A\u001b[A"
          ],
          "name": "stderr"
        },
        {
          "output_type": "stream",
          "text": [
            "0.09203224766578501\n"
          ],
          "name": "stdout"
        },
        {
          "output_type": "stream",
          "text": [
            "\n",
            "\n",
            " 75%|███████▌  | 45/60 [09:14<03:03, 12.27s/epochs]\u001b[A\u001b[A"
          ],
          "name": "stderr"
        },
        {
          "output_type": "stream",
          "text": [
            "0.09188097803545658\n"
          ],
          "name": "stdout"
        },
        {
          "output_type": "stream",
          "text": [
            "\n",
            "\n",
            " 77%|███████▋  | 46/60 [09:26<02:51, 12.25s/epochs]\u001b[A\u001b[A"
          ],
          "name": "stderr"
        },
        {
          "output_type": "stream",
          "text": [
            "0.09185536602126763\n"
          ],
          "name": "stdout"
        },
        {
          "output_type": "stream",
          "text": [
            "\n",
            "\n",
            " 78%|███████▊  | 47/60 [09:38<02:38, 12.22s/epochs]\u001b[A\u001b[A"
          ],
          "name": "stderr"
        },
        {
          "output_type": "stream",
          "text": [
            "0.09173033296712425\n"
          ],
          "name": "stdout"
        },
        {
          "output_type": "stream",
          "text": [
            "\n",
            "\n",
            " 80%|████████  | 48/60 [09:50<02:26, 12.21s/epochs]\u001b[A\u001b[A"
          ],
          "name": "stderr"
        },
        {
          "output_type": "stream",
          "text": [
            "0.0917308063411128\n"
          ],
          "name": "stdout"
        },
        {
          "output_type": "stream",
          "text": [
            "\n",
            "\n",
            " 82%|████████▏ | 49/60 [10:03<02:14, 12.25s/epochs]\u001b[A\u001b[A"
          ],
          "name": "stderr"
        },
        {
          "output_type": "stream",
          "text": [
            "0.09163552379684407\n"
          ],
          "name": "stdout"
        },
        {
          "output_type": "stream",
          "text": [
            "\n",
            "\n",
            " 83%|████████▎ | 50/60 [10:15<02:02, 12.26s/epochs]\u001b[A\u001b[A"
          ],
          "name": "stderr"
        },
        {
          "output_type": "stream",
          "text": [
            "0.0916273468561264\n"
          ],
          "name": "stdout"
        },
        {
          "output_type": "stream",
          "text": [
            "\n",
            "\n",
            " 85%|████████▌ | 51/60 [10:27<01:49, 12.22s/epochs]\u001b[A\u001b[A"
          ],
          "name": "stderr"
        },
        {
          "output_type": "stream",
          "text": [
            "0.09158981910773686\n"
          ],
          "name": "stdout"
        },
        {
          "output_type": "stream",
          "text": [
            "\n",
            "\n",
            " 87%|████████▋ | 52/60 [10:39<01:37, 12.18s/epochs]\u001b[A\u001b[A"
          ],
          "name": "stderr"
        },
        {
          "output_type": "stream",
          "text": [
            "0.09144445034518425\n"
          ],
          "name": "stdout"
        },
        {
          "output_type": "stream",
          "text": [
            "\n",
            "\n",
            " 88%|████████▊ | 53/60 [10:51<01:25, 12.18s/epochs]\u001b[A\u001b[A"
          ],
          "name": "stderr"
        },
        {
          "output_type": "stream",
          "text": [
            "0.09139679774228952\n"
          ],
          "name": "stdout"
        },
        {
          "output_type": "stream",
          "text": [
            "\n",
            "\n",
            " 90%|█████████ | 54/60 [11:04<01:13, 12.21s/epochs]\u001b[A\u001b[A"
          ],
          "name": "stderr"
        },
        {
          "output_type": "stream",
          "text": [
            "0.09141925775579043\n"
          ],
          "name": "stdout"
        },
        {
          "output_type": "stream",
          "text": [
            "\n",
            "\n",
            " 92%|█████████▏| 55/60 [11:16<01:00, 12.18s/epochs]\u001b[A\u001b[A"
          ],
          "name": "stderr"
        },
        {
          "output_type": "stream",
          "text": [
            "0.09133668104087365\n"
          ],
          "name": "stdout"
        },
        {
          "output_type": "stream",
          "text": [
            "\n",
            "\n",
            " 93%|█████████▎| 56/60 [11:28<00:48, 12.18s/epochs]\u001b[A\u001b[A"
          ],
          "name": "stderr"
        },
        {
          "output_type": "stream",
          "text": [
            "0.09130367400772027\n"
          ],
          "name": "stdout"
        },
        {
          "output_type": "stream",
          "text": [
            "\n",
            "\n",
            " 95%|█████████▌| 57/60 [11:40<00:36, 12.19s/epochs]\u001b[A\u001b[A"
          ],
          "name": "stderr"
        },
        {
          "output_type": "stream",
          "text": [
            "0.09124290346622721\n"
          ],
          "name": "stdout"
        },
        {
          "output_type": "stream",
          "text": [
            "\n",
            "\n",
            " 97%|█████████▋| 58/60 [11:53<00:24, 12.21s/epochs]\u001b[A\u001b[A"
          ],
          "name": "stderr"
        },
        {
          "output_type": "stream",
          "text": [
            "0.09124582901851201\n"
          ],
          "name": "stdout"
        },
        {
          "output_type": "stream",
          "text": [
            "\n",
            "\n",
            " 98%|█████████▊| 59/60 [12:05<00:12, 12.20s/epochs]\u001b[A\u001b[A"
          ],
          "name": "stderr"
        },
        {
          "output_type": "stream",
          "text": [
            "0.09120099935958635\n"
          ],
          "name": "stdout"
        },
        {
          "output_type": "stream",
          "text": [
            "\n",
            "\n",
            "100%|██████████| 60/60 [12:17<00:00, 12.29s/epochs]"
          ],
          "name": "stderr"
        },
        {
          "output_type": "stream",
          "text": [
            "0.0912041702011882\n"
          ],
          "name": "stdout"
        },
        {
          "output_type": "stream",
          "text": [
            "\n"
          ],
          "name": "stderr"
        }
      ]
    },
    {
      "cell_type": "code",
      "metadata": {
        "colab": {
          "base_uri": "https://localhost:8080/",
          "height": 1000
        },
        "id": "UTchku_6Xl5Y",
        "outputId": "268ed1e0-cddd-4b55-c4c7-ddd311d321c4"
      },
      "source": [
        "\r\n",
        "pred =trainer.predict(images.to(device=trainer.device))\r\n",
        "for i in range(5):\r\n",
        "  id=i*10\r\n",
        "  plt.figure()\r\n",
        "  plt.imshow(images[id].numpy().squeeze(),cmap='gray_r')\r\n",
        "  plt.figure()\r\n",
        "  plt.imshow(pred[id].cpu().numpy().squeeze(),cmap='gray_r')"
      ],
      "execution_count": null,
      "outputs": [
        {
          "output_type": "display_data",
          "data": {
            "image/png": "[encoded data removed]",
            "text/plain": [
              "<Figure size 432x288 with 1 Axes>"
            ]
          },
          "metadata": {
            "tags": [],
            "needs_background": "light"
          }
        },
        {
          "output_type": "display_data",
          "data": {
            "image/png": "[encoded data removed]",
            "text/plain": [
              "<Figure size 432x288 with 1 Axes>"
            ]
          },
          "metadata": {
            "tags": [],
            "needs_background": "light"
          }
        },
        {
          "output_type": "display_data",
          "data": {
            "image/png": "[encoded data removed]",
            "text/plain": [
              "<Figure size 432x288 with 1 Axes>"
            ]
          },
          "metadata": {
            "tags": [],
            "needs_background": "light"
          }
        },
        {
          "output_type": "display_data",
          "data": {
            "image/png": "[encoded data removed]",
            "text/plain": [
              "<Figure size 432x288 with 1 Axes>"
            ]
          },
          "metadata": {
            "tags": [],
            "needs_background": "light"
          }
        },
        {
          "output_type": "display_data",
          "data": {
            "image/png": "[encoded data removed]",
            "text/plain": [
              "<Figure size 432x288 with 1 Axes>"
            ]
          },
          "metadata": {
            "tags": [],
            "needs_background": "light"
          }
        },
        {
          "output_type": "display_data",
          "data": {
            "image/png": "[encoded data removed]",
            "text/plain": [
              "<Figure size 432x288 with 1 Axes>"
            ]
          },
          "metadata": {
            "tags": [],
            "needs_background": "light"
          }
        },
        {
          "output_type": "display_data",
          "data": {
            "image/png": "[encoded data removed]",
            "text/plain": [
              "<Figure size 432x288 with 1 Axes>"
            ]
          },
          "metadata": {
            "tags": [],
            "needs_background": "light"
          }
        },
        {
          "output_type": "display_data",
          "data": {
            "image/png": "[encoded data removed]",
            "text/plain": [
              "<Figure size 432x288 with 1 Axes>"
            ]
          },
          "metadata": {
            "tags": [],
            "needs_background": "light"
          }
        },
        {
          "output_type": "display_data",
          "data": {
            "image/png": "[encoded data removed]",
            "text/plain": [
              "<Figure size 432x288 with 1 Axes>"
            ]
          },
          "metadata": {
            "tags": [],
            "needs_background": "light"
          }
        },
        {
          "output_type": "display_data",
          "data": {
            "image/png": "[encoded data removed]",
            "text/plain": [
              "<Figure size 432x288 with 1 Axes>"
            ]
          },
          "metadata": {
            "tags": [],
            "needs_background": "light"
          }
        }
      ]
    },
    {
      "cell_type": "code",
      "metadata": {
        "id": "7o4R1csOeyTk"
      },
      "source": [
        "class Attacker(nn.Module):\r\n",
        "\r\n",
        "  def __init__(self):\r\n",
        "    super().__init__()\r\n",
        "    self.fc1 =nn.Linear(32,32)\r\n",
        "    self.fc2 = nn.Linear(32,32)\r\n",
        "    self.fc3=nn.Linear(32,11)\r\n",
        "    self.softmax =nn.Softmax(dim=1)\r\n",
        "  def forward(self,x):\r\n",
        "    x=nn.Flatten()(x)\r\n",
        "    x=nn.ReLU()(self.fc1(x))\r\n",
        "    x=nn.ReLU()(self.fc2(x))\r\n",
        "    x=self.softmax(self.fc3(x))\r\n",
        "    return x\r\n",
        "\r\n",
        "class GAN(nn.Module):\r\n",
        "  def __init__(self,device):\r\n",
        "    super().__init__()\r\n",
        "    self.attacker=Attacker().to(device)\r\n",
        "    self.enc= Encoder(device).to(device)\r\n",
        "  def forward(self,x):\r\n",
        "    x=self.enc(x)\r\n",
        "    x=self.attacker(x)\r\n",
        "    return x\r\n",
        "\r\n",
        "class GANTrainer:\r\n",
        "  def __init__(self,trainset,valset,batch_sz=64):\r\n",
        "      self.device = torch.device(\"cuda:0\" if torch.cuda.is_available() else \"cpu\")\r\n",
        "\r\n",
        "      self.enc = Encoder(self.device).to(self.device)\r\n",
        "      self.attacker= Attacker().to(self.device)\r\n",
        "\r\n",
        "      self.optim_enc=torch.optim.AdamW(self.enc.parameters(),lr=0.001)\r\n",
        "      self.optim_attack=torch.optim.AdamW(self.attacker.parameters(),lr=0.001)\r\n",
        "\r\n",
        "      self.trainset=trainset\r\n",
        "      self.valset=valset\r\n",
        "      self.train_loader = torch.utils.data.DataLoader(self.trainset,batch_size=batch_sz,shuffle=True,num_workers=2)\r\n",
        "      self.val_loader = torch.utils.data.DataLoader(self.valset,batch_size=batch_sz,shuffle=True,num_workers=2)\r\n",
        "      self.batch_sz =batch_sz\r\n",
        "\r\n",
        "\r\n",
        "  def attacker_loss(self,pred,labels):\r\n",
        "      delta=0.01\r\n",
        "      one_hot =torch.zeros_like(pred).to(self.device)\r\n",
        "      one_hot.scatter_(1,labels.unsqueeze(1),1)\r\n",
        "      loss =-torch.sum(torch.log(pred+delta)*one_hot)/self.batch_sz\r\n",
        "      return loss\r\n",
        "\r\n",
        "  def create_onehot(self,one_hot,labels):\r\n",
        "\r\n",
        "      out = one_hot.detach().clone()\r\n",
        "      for indx,val in enumerate(labels):\r\n",
        "\r\n",
        "          if val == 10:\r\n",
        "              out[indx] *= 0.\r\n",
        "              out[indx][val] = 1.\r\n",
        "          else :\r\n",
        "              out[indx] *= 0.1\r\n",
        "              out[indx][10] = 0.\r\n",
        "      return out\r\n",
        "\r\n",
        "  def enc_loss(self,pred,labels):\r\n",
        "\r\n",
        "    # one_hot =torch.zeros_like(pred).to(self.device)\r\n",
        "    # one_hot.scatter_(1,labels.unsqueeze(1),1)\r\n",
        "    # delta=0.01\r\n",
        "    # loss = -(torch.sum(torch.log(1-pred[:,-1]+delta)*(1-one_hot[:,-1]))+torch.sum(torch.log(1-pred[:,:-1]+delta)*one_hot[:,:-1])+torch.sum(torch.log(pred[:,-1]+delta)*one_hot[:,-1]))/self.batch_sz\r\n",
        "    # return loss\r\n",
        "    # -----------------------------------------------------------------------------\r\n",
        "    # logps =pred\r\n",
        "    # one_hot = torch.ones_like(logps).to(self.device)\r\n",
        "    # one_hot = torch.tensor(self.create_onehot(one_hot,labels),requires_grad=True)\r\n",
        "\r\n",
        "    #     #return torch.square(logps-one_hot)\r\n",
        "    # loss = torch.sum(torch.square(logps-one_hot))/self.batch_sz\r\n",
        "    #     #print(\" function loss: \",loss)\r\n",
        "    # return loss\r\n",
        "    # -----------------------------------------------------------------------------\r\n",
        "    logps = pred\r\n",
        "    one_hot = torch.ones_like(logps).to(self.device)\r\n",
        "    one_hot = torch.tensor(self.create_onehot(one_hot,labels),requires_grad=True)\r\n",
        "    #print(one_hot)\r\n",
        "    m = nn.Softmax(dim=-1)\r\n",
        "    q = m(logps)\r\n",
        "    eps = 1e-10\r\n",
        "    #print(q)\r\n",
        "    pq = one_hot*q\r\n",
        "    # print(pq)\r\n",
        "    # print(pq.shape)\r\n",
        "    #loss = torch.sum(-torch.log(q+eps)*one_hot)/self.batch_sz\r\n",
        "    loss = torch.sum(-torch.log(one_hot*q+eps))/self.batch_sz\r\n",
        "    return loss\r\n",
        "\r\n",
        "#   def test_model(self):\r\n",
        "\r\n",
        "#     print(\"here\")\r\n",
        "#     total_nan = 0\r\n",
        "#     total_no = 0\r\n",
        "#     classified_nan = 0\r\n",
        "#     classified_no = 0\r\n",
        "#     classified_nan_false = 0\r\n",
        "#     classified_no_false = 0\r\n",
        "#     logits = []\r\n",
        "#     for images,labels in self.valset :\r\n",
        "#         for i in range(1,6):\r\n",
        "#             images[5*i] = images[5*i] + images[5*i + 1]\r\n",
        "#             total_nan += 1\r\n",
        "#         total_no += images.shape[0] - 5\r\n",
        "#         imgs = images.to(self.device)\r\n",
        "#         labels = labels.to(self.device)\r\n",
        "#         with torch.no_grad() :\r\n",
        "#             z = self.enc(imgs)\r\n",
        "#             preds = self.attacker(z).cpu().numpy()\r\n",
        "#         for i in range(labels.shape[0]):\r\n",
        "\r\n",
        "#             if np.argmax(preds[i]) == 10 and labels[i] == 10:\r\n",
        "\r\n",
        "#                 classified_nan += 1\r\n",
        "#             elif np.argmax(preds[i]) == 10 and labels[i] != 10:\r\n",
        "#                 classified_nan_false += 1\r\n",
        "#             elif np.argmax(preds[i]) == labels[i]:\r\n",
        "#                 classified_no += 1\r\n",
        "#             else:\r\n",
        "#                 classifeid_no_fasle += 1\r\n",
        "#     print(\" Accuracy nan: {} Accuracy no: {}\".format(classified_nan/total_nan,classified_no/total_no))\r\n",
        "#     print(\" total nan {} total no {} classified_nan {} classified_no {} classified_nan_false {} classified_no_false {}\".format(\r\n",
        "#             total_nan,total_no,classified_nan,classified_no,classified_nan_false,classified_no_false\r\n",
        "#             ))\r\n",
        "\r\n",
        "\r\n",
        "\r\n",
        "\r\n",
        "  \r\n",
        "  def train(self,epochs=10,train_both=True):\r\n",
        "    attack_train = not(train_both)\r\n",
        "    for epoch in tqdm(range(epochs),unit=\"epochs\"):\r\n",
        "      step =0\r\n",
        "      count =0\r\n",
        "      loss_list_enc=[]\r\n",
        "      loss_list_atk=[]\r\n",
        "      for images, labels in self.train_loader:\r\n",
        "        for i in range(1,6):\r\n",
        "          images[5*i] = images[5*i] + images[5*i + 1]\r\n",
        "          labels[5*i] = 10\r\n",
        "        imgs=images.to(self.device)\r\n",
        "        labels=labels.to(self.device)\r\n",
        "\r\n",
        "        if not(attack_train):\r\n",
        "          self.optim_enc.zero_grad()\r\n",
        "          enc = self.enc(imgs)\r\n",
        "          pred_enc = self.attacker(enc)\r\n",
        "          enc_loss = self.enc_loss(pred_enc,labels)\r\n",
        "          enc_loss.backward()\r\n",
        "          self.optim_enc.step()\r\n",
        "          loss_list_enc.append(enc_loss.item())\r\n",
        "        else:\r\n",
        "          self.optim_attack.zero_grad()\r\n",
        "          enc = self.enc(imgs)\r\n",
        "          pred_attack=self.attacker(enc.detach())\r\n",
        "          attack_loss= self.attacker_loss(pred_attack,labels)\r\n",
        "          attack_loss.backward()\r\n",
        "          self.optim_attack.step()\r\n",
        "          loss_list_atk.append(attack_loss.item())\r\n",
        "\r\n",
        "        if train_both:\r\n",
        "          count+=1\r\n",
        "          if count==30 and attack_train:\r\n",
        "            attack_train = False\r\n",
        "            count =0\r\n",
        "          elif count ==5 and not(attack_train):\r\n",
        "            attack_train = True\r\n",
        "            count =0\r\n",
        "        else:\r\n",
        "          attack_train=True\r\n",
        "        \r\n",
        "      print(np.array(loss_list_enc).mean() if train_both else \"Enc fixed\",np.array(loss_list_atk).mean())\r\n",
        "    # def test_model(self):\r\n",
        "        \r\n",
        "\r\n",
        "\r\n",
        "#         print(\"here\")\r\n",
        "#         total_nan = 0\r\n",
        "#         total_no = 0\r\n",
        "#         classified_nan = 0\r\n",
        "#         classified_no = 0\r\n",
        "#         classified_nan_false = 0\r\n",
        "#         classified_no_false = 0\r\n",
        "#         logits = []\r\n",
        "#         for images,labels in self.valset :\r\n",
        "#             for i in range(1,6):\r\n",
        "#                 images[5*i] = images[5*i] + images[5*i + 1]\r\n",
        "#                 total_nan += 1\r\n",
        "#             total_no += images.shape[0] - 5\r\n",
        "#             imgs = images.to(self.device)\r\n",
        "#             labels = labels.to(self.device)\r\n",
        "#             with torch.no_grad() :\r\n",
        "#                 z = self.enc(imgs)\r\n",
        "#                 preds = self.attacker(z).cpu().numpy()\r\n",
        "#             for i in range(labels.shape[0]):\r\n",
        "#                 if np.argmax(preds[i]) == 10 and labels[i] == 10:\r\n",
        "#                     classified_nan += 1\r\n",
        "#                 elif np.argmax(preds[i]) == 10 and labels[i] != 10:\r\n",
        "#                     classified_nan_false += 1\r\n",
        "#                 elif np.argmax(preds[i]) == labels[i]:\r\n",
        "#                     classified_no += 1\r\n",
        "#                 else:\r\n",
        "#                     classifeid_no_fasle += 1\r\n",
        "#         print(\" Accuracy nan: {} Accuracy no: {}\".format(classified_nan/total_nan,classified_no/total_no))\r\n",
        "#         print(\" total nan {} total no {} classified_nan {} classified_no {} classified_nan_false {} classified_no_false {}\".format(\r\n",
        "#             total_nan,total_no,classified_nan,classified_no,classified_nan_false,classified_no_false\r\n",
        "#             ))\r\n",
        "    \r\n",
        "  def train_attacker(self,epochs=10):\r\n",
        "    \r\n",
        "    for epoch in tqdm(range(epochs),unit=\"epochs\"):\r\n",
        "      step =0\r\n",
        "      count =0\r\n",
        "      loss_list=[]\r\n",
        "      for images, labels in self.train_loader:\r\n",
        "        for i in range(1,6):\r\n",
        "          images[5*i] = images[5*i] + images[5*i + 1]\r\n",
        "          labels[5*i] = 10\r\n",
        "        imgs=images.to(self.device)\r\n",
        "        labels=labels.to(self.device)\r\n",
        "      \r\n",
        "        pred = self.attacker(self.enc(imgs))\r\n",
        "\r\n",
        "        losses =self.attacker_loss(pred,labels)\r\n",
        "        self.optim_attack.zero_grad()\r\n",
        "        self.optim_enc.zero_grad()\r\n",
        "        losses.backward()\r\n",
        "        self.optim_enc.step()\r\n",
        "        self.optim_attack.step()\r\n",
        "\r\n",
        "        loss_list.append(losses.item())\r\n",
        "      print(np.array(loss_list).mean())\r\n",
        "   \r\n",
        "\r\n",
        "\r\n",
        "        \r\n",
        "\r\n",
        "            \r\n",
        "\r\n",
        "\r\n",
        "  \r\n",
        "gantrainer =GANTrainer(trainset,valset)"
      ],
      "execution_count": null,
      "outputs": []
    },
    {
      "cell_type": "code",
      "metadata": {
        "id": "U50DePhVqwRT",
        "colab": {
          "base_uri": "https://localhost:8080/"
        },
        "outputId": "0bf502f2-ab16-4828-96f5-0a9ef3837707"
      },
      "source": [
        "gantrainer.train(20)\r\n"
      ],
      "execution_count": null,
      "outputs": [
        {
          "output_type": "stream",
          "text": [
            "  0%|          | 0/20 [00:00<?, ?epochs/s]/usr/local/lib/python3.7/dist-packages/ipykernel_launcher.py:82: UserWarning: To copy construct from a tensor, it is recommended to use sourceTensor.clone().detach() or sourceTensor.clone().detach().requires_grad_(True), rather than torch.tensor(sourceTensor).\n",
            "  5%|▌         | 1/20 [00:16<05:22, 16.97s/epochs]"
          ],
          "name": "stderr"
        },
        {
          "output_type": "stream",
          "text": [
            "82.72451618335865 2.2838564585629912\n"
          ],
          "name": "stdout"
        },
        {
          "output_type": "stream",
          "text": [
            "\r 10%|█         | 2/20 [00:34<05:06, 17.00s/epochs]"
          ],
          "name": "stderr"
        },
        {
          "output_type": "stream",
          "text": [
            "82.72427626389724 2.2903027358916725\n"
          ],
          "name": "stdout"
        },
        {
          "output_type": "stream",
          "text": [
            "\r 15%|█▌        | 3/20 [00:51<04:49, 17.04s/epochs]"
          ],
          "name": "stderr"
        },
        {
          "output_type": "stream",
          "text": [
            "82.68165024977463 2.2013444142176373\n"
          ],
          "name": "stdout"
        },
        {
          "output_type": "stream",
          "text": [
            "\r 20%|██        | 4/20 [01:08<04:32, 17.02s/epochs]"
          ],
          "name": "stderr"
        },
        {
          "output_type": "stream",
          "text": [
            "82.58967825082632 2.033004696416383\n"
          ],
          "name": "stdout"
        },
        {
          "output_type": "stream",
          "text": [
            "\r 25%|██▌       | 5/20 [01:25<04:15, 17.01s/epochs]"
          ],
          "name": "stderr"
        },
        {
          "output_type": "stream",
          "text": [
            "82.58942372248723 2.0318700652016273\n"
          ],
          "name": "stdout"
        },
        {
          "output_type": "stream",
          "text": [
            "\r 30%|███       | 6/20 [01:42<03:58, 17.01s/epochs]"
          ],
          "name": "stderr"
        },
        {
          "output_type": "stream",
          "text": [
            "82.5892430818998 2.032002895775408\n"
          ],
          "name": "stdout"
        },
        {
          "output_type": "stream",
          "text": [
            "\r 35%|███▌      | 7/20 [01:59<03:40, 16.99s/epochs]"
          ],
          "name": "stderr"
        },
        {
          "output_type": "stream",
          "text": [
            "82.58920311560998 2.032264009855761\n"
          ],
          "name": "stdout"
        },
        {
          "output_type": "stream",
          "text": [
            "\r 40%|████      | 8/20 [02:16<03:24, 17.01s/epochs]"
          ],
          "name": "stderr"
        },
        {
          "output_type": "stream",
          "text": [
            "82.58918380737305 2.032016197348585\n"
          ],
          "name": "stdout"
        },
        {
          "output_type": "stream",
          "text": [
            "\r 45%|████▌     | 9/20 [02:33<03:07, 17.02s/epochs]"
          ],
          "name": "stderr"
        },
        {
          "output_type": "stream",
          "text": [
            "82.58916837252103 2.031990246902598\n"
          ],
          "name": "stdout"
        },
        {
          "output_type": "stream",
          "text": [
            "\r 50%|█████     | 10/20 [02:50<02:50, 17.03s/epochs]"
          ],
          "name": "stderr"
        },
        {
          "output_type": "stream",
          "text": [
            "82.58914519089919 2.0321070488431667\n"
          ],
          "name": "stdout"
        },
        {
          "output_type": "stream",
          "text": [
            "\r 55%|█████▌    | 11/20 [03:07<02:32, 16.98s/epochs]"
          ],
          "name": "stderr"
        },
        {
          "output_type": "stream",
          "text": [
            "82.5891130887545 2.03201560513808\n"
          ],
          "name": "stdout"
        },
        {
          "output_type": "stream",
          "text": [
            "\r 60%|██████    | 12/20 [03:24<02:16, 17.01s/epochs]"
          ],
          "name": "stderr"
        },
        {
          "output_type": "stream",
          "text": [
            "82.58912488497221 2.031787382641641\n"
          ],
          "name": "stdout"
        },
        {
          "output_type": "stream",
          "text": [
            "\r 65%|██████▌   | 13/20 [03:41<01:59, 17.01s/epochs]"
          ],
          "name": "stderr"
        },
        {
          "output_type": "stream",
          "text": [
            "82.5891378549429 2.031694073635753\n"
          ],
          "name": "stdout"
        },
        {
          "output_type": "stream",
          "text": [
            "\r 70%|███████   | 14/20 [03:58<01:41, 16.96s/epochs]"
          ],
          "name": "stderr"
        },
        {
          "output_type": "stream",
          "text": [
            "82.58910569411057 2.0319093164093425\n"
          ],
          "name": "stdout"
        },
        {
          "output_type": "stream",
          "text": [
            "\r 75%|███████▌  | 15/20 [04:14<01:24, 16.88s/epochs]"
          ],
          "name": "stderr"
        },
        {
          "output_type": "stream",
          "text": [
            "82.58909935584435 2.031694446902464\n"
          ],
          "name": "stdout"
        },
        {
          "output_type": "stream",
          "text": [
            "\r 80%|████████  | 16/20 [04:31<01:07, 16.93s/epochs]"
          ],
          "name": "stderr"
        },
        {
          "output_type": "stream",
          "text": [
            "82.58908943763146 2.031692680746022\n"
          ],
          "name": "stdout"
        },
        {
          "output_type": "stream",
          "text": [
            "\r 85%|████████▌ | 17/20 [04:48<00:50, 16.87s/epochs]"
          ],
          "name": "stderr"
        },
        {
          "output_type": "stream",
          "text": [
            "82.58910493117112 2.0315973177404687\n"
          ],
          "name": "stdout"
        },
        {
          "output_type": "stream",
          "text": [
            "\r 90%|█████████ | 18/20 [05:05<00:33, 16.89s/epochs]"
          ],
          "name": "stderr"
        },
        {
          "output_type": "stream",
          "text": [
            "82.58907946073091 2.03166351703429\n"
          ],
          "name": "stdout"
        },
        {
          "output_type": "stream",
          "text": [
            "\r 95%|█████████▌| 19/20 [05:22<00:16, 16.84s/epochs]"
          ],
          "name": "stderr"
        },
        {
          "output_type": "stream",
          "text": [
            "82.58907740666316 2.03167955754417\n"
          ],
          "name": "stdout"
        },
        {
          "output_type": "stream",
          "text": [
            "100%|██████████| 20/20 [05:39<00:00, 16.95s/epochs]"
          ],
          "name": "stderr"
        },
        {
          "output_type": "stream",
          "text": [
            "82.5890858576848 2.0316178772856692\n"
          ],
          "name": "stdout"
        },
        {
          "output_type": "stream",
          "text": [
            "\n"
          ],
          "name": "stderr"
        }
      ]
    },
    {
      "cell_type": "code",
      "metadata": {
        "colab": {
          "base_uri": "https://localhost:8080/",
          "height": 162
        },
        "id": "djziLAgXH0fS",
        "outputId": "4201c4a3-8e3b-488a-bd7c-66b17b5d4421"
      },
      "source": [
        " gantrainer.test_model"
      ],
      "execution_count": null,
      "outputs": [
        {
          "output_type": "error",
          "ename": "AttributeError",
          "evalue": "ignored",
          "traceback": [
            "\u001b[0;31m---------------------------------------------------------------------------\u001b[0m",
            "\u001b[0;31mAttributeError\u001b[0m                            Traceback (most recent call last)",
            "\u001b[0;32m<ipython-input-21-1c078c2596fe>\u001b[0m in \u001b[0;36m<module>\u001b[0;34m()\u001b[0m\n\u001b[0;32m----> 1\u001b[0;31m \u001b[0mgantrainer\u001b[0m\u001b[0;34m.\u001b[0m\u001b[0mtest_model\u001b[0m\u001b[0;34m\u001b[0m\u001b[0;34m\u001b[0m\u001b[0m\n\u001b[0m",
            "\u001b[0;31mAttributeError\u001b[0m: 'GANTrainer' object has no attribute 'test_model'"
          ]
        }
      ]
    },
    {
      "cell_type": "code",
      "metadata": {
        "id": "Bzrp8ityk2d8"
      },
      "source": [
        "attk_state = gantrainer.attacker.state_dict()\r\n",
        "enc_state = gantrainer.enc.state_dict()"
      ],
      "execution_count": null,
      "outputs": []
    },
    {
      "cell_type": "code",
      "metadata": {
        "colab": {
          "base_uri": "https://localhost:8080/"
        },
        "id": "XIFPjyrenLgU",
        "outputId": "0b9efde5-7d00-4c27-8e0d-60cb45f6a90f"
      },
      "source": [
        "gantrainer.train(20,False)"
      ],
      "execution_count": null,
      "outputs": [
        {
          "output_type": "stream",
          "text": [
            "  0%|          | 0/20 [00:00<?, ?epochs/s]/usr/local/lib/python3.7/dist-packages/ipykernel_launcher.py:98: RuntimeWarning: Mean of empty slice.\n",
            "/usr/local/lib/python3.7/dist-packages/numpy/core/_methods.py:170: RuntimeWarning: invalid value encountered in double_scalars\n",
            "  ret = ret.dtype.type(ret / rcount)\n",
            "  5%|▌         | 1/20 [00:11<03:37, 11.45s/epochs]"
          ],
          "name": "stderr"
        },
        {
          "output_type": "stream",
          "text": [
            "nan 2.0318244255300777\n"
          ],
          "name": "stdout"
        },
        {
          "output_type": "stream",
          "text": [
            "\r 10%|█         | 2/20 [00:23<03:27, 11.52s/epochs]"
          ],
          "name": "stderr"
        },
        {
          "output_type": "stream",
          "text": [
            "nan 2.031702670715511\n"
          ],
          "name": "stdout"
        },
        {
          "output_type": "stream",
          "text": [
            "\r 15%|█▌        | 3/20 [00:34<03:14, 11.42s/epochs]"
          ],
          "name": "stderr"
        },
        {
          "output_type": "stream",
          "text": [
            "nan 2.030593406353424\n"
          ],
          "name": "stdout"
        },
        {
          "output_type": "stream",
          "text": [
            "\r 20%|██        | 4/20 [00:45<03:02, 11.39s/epochs]"
          ],
          "name": "stderr"
        },
        {
          "output_type": "stream",
          "text": [
            "nan 2.0297277783279988\n"
          ],
          "name": "stdout"
        },
        {
          "output_type": "stream",
          "text": [
            "\r 25%|██▌       | 5/20 [00:56<02:49, 11.29s/epochs]"
          ],
          "name": "stderr"
        },
        {
          "output_type": "stream",
          "text": [
            "nan 2.0280616959529136\n"
          ],
          "name": "stdout"
        },
        {
          "output_type": "stream",
          "text": [
            "\r 30%|███       | 6/20 [01:07<02:36, 11.20s/epochs]"
          ],
          "name": "stderr"
        },
        {
          "output_type": "stream",
          "text": [
            "nan 2.0272106051699184\n"
          ],
          "name": "stdout"
        },
        {
          "output_type": "stream",
          "text": [
            "\r 35%|███▌      | 7/20 [01:18<02:24, 11.13s/epochs]"
          ],
          "name": "stderr"
        },
        {
          "output_type": "stream",
          "text": [
            "nan 2.0258422607679103\n"
          ],
          "name": "stdout"
        },
        {
          "output_type": "stream",
          "text": [
            "\r 40%|████      | 8/20 [01:30<02:14, 11.23s/epochs]"
          ],
          "name": "stderr"
        },
        {
          "output_type": "stream",
          "text": [
            "nan 2.024081849848538\n"
          ],
          "name": "stdout"
        },
        {
          "output_type": "stream",
          "text": [
            "\r 45%|████▌     | 9/20 [01:41<02:03, 11.19s/epochs]"
          ],
          "name": "stderr"
        },
        {
          "output_type": "stream",
          "text": [
            "nan 2.0237463425471582\n"
          ],
          "name": "stdout"
        },
        {
          "output_type": "stream",
          "text": [
            "\r 50%|█████     | 10/20 [01:52<01:52, 11.27s/epochs]"
          ],
          "name": "stderr"
        },
        {
          "output_type": "stream",
          "text": [
            "nan 2.0224919026848602\n"
          ],
          "name": "stdout"
        },
        {
          "output_type": "stream",
          "text": [
            "\r 55%|█████▌    | 11/20 [02:04<01:41, 11.32s/epochs]"
          ],
          "name": "stderr"
        },
        {
          "output_type": "stream",
          "text": [
            "nan 2.02173127637489\n"
          ],
          "name": "stdout"
        },
        {
          "output_type": "stream",
          "text": [
            "\r 60%|██████    | 12/20 [02:15<01:30, 11.29s/epochs]"
          ],
          "name": "stderr"
        },
        {
          "output_type": "stream",
          "text": [
            "nan 2.020994836460553\n"
          ],
          "name": "stdout"
        },
        {
          "output_type": "stream",
          "text": [
            "\r 65%|██████▌   | 13/20 [02:26<01:19, 11.31s/epochs]"
          ],
          "name": "stderr"
        },
        {
          "output_type": "stream",
          "text": [
            "nan 2.020335299564577\n"
          ],
          "name": "stdout"
        },
        {
          "output_type": "stream",
          "text": [
            "\r 70%|███████   | 14/20 [02:37<01:07, 11.29s/epochs]"
          ],
          "name": "stderr"
        },
        {
          "output_type": "stream",
          "text": [
            "nan 2.0201954931846813\n"
          ],
          "name": "stdout"
        },
        {
          "output_type": "stream",
          "text": [
            "\r 75%|███████▌  | 15/20 [02:49<00:56, 11.26s/epochs]"
          ],
          "name": "stderr"
        },
        {
          "output_type": "stream",
          "text": [
            "nan 2.0187305043628223\n"
          ],
          "name": "stdout"
        },
        {
          "output_type": "stream",
          "text": [
            "\r 80%|████████  | 16/20 [03:00<00:45, 11.26s/epochs]"
          ],
          "name": "stderr"
        },
        {
          "output_type": "stream",
          "text": [
            "nan 2.019456482963013\n"
          ],
          "name": "stdout"
        },
        {
          "output_type": "stream",
          "text": [
            "\r 85%|████████▌ | 17/20 [03:11<00:33, 11.32s/epochs]"
          ],
          "name": "stderr"
        },
        {
          "output_type": "stream",
          "text": [
            "nan 2.019151851947882\n"
          ],
          "name": "stdout"
        },
        {
          "output_type": "stream",
          "text": [
            "\r 90%|█████████ | 18/20 [03:23<00:22, 11.31s/epochs]"
          ],
          "name": "stderr"
        },
        {
          "output_type": "stream",
          "text": [
            "nan 2.017869128347206\n"
          ],
          "name": "stdout"
        },
        {
          "output_type": "stream",
          "text": [
            "\r 95%|█████████▌| 19/20 [03:34<00:11, 11.35s/epochs]"
          ],
          "name": "stderr"
        },
        {
          "output_type": "stream",
          "text": [
            "nan 2.0182566352998776\n"
          ],
          "name": "stdout"
        },
        {
          "output_type": "stream",
          "text": [
            "100%|██████████| 20/20 [03:46<00:00, 11.32s/epochs]"
          ],
          "name": "stderr"
        },
        {
          "output_type": "stream",
          "text": [
            "nan 2.0169002212313956\n"
          ],
          "name": "stdout"
        },
        {
          "output_type": "stream",
          "text": [
            "\n"
          ],
          "name": "stderr"
        }
      ]
    },
    {
      "cell_type": "code",
      "metadata": {
        "colab": {
          "base_uri": "https://localhost:8080/",
          "height": 930
        },
        "id": "Tn_DJLePT0Ll",
        "outputId": "c04ec404-fdb0-4733-bd41-b2140d5909c7"
      },
      "source": [
        "import matplotlib.pyplot as plt\r\n",
        "tp=np.array([0]*12)\r\n",
        "tot=np.array([0]*12)\r\n",
        "no_0 = np.array([])\r\n",
        "no_1 = np.array([])\r\n",
        "no_2 = np.array([])\r\n",
        "no_3 = np.array([])\r\n",
        "no_4 = np.array([])\r\n",
        "no_5 = np.array([])\r\n",
        "no_6 = np.array([])\r\n",
        "no_7 = np.array([])\r\n",
        "no_8 = np.array([])\r\n",
        "no_9 = np.array([])\r\n",
        "no_10 = np.array([])\r\n",
        "\r\n",
        "for images,labels in gantrainer.val_loader:\r\n",
        "      try:\r\n",
        "        for i in range(1,16):\r\n",
        "          images[4*i] = images[4*i] + images[4*i + 1]\r\n",
        "          labels[4*i] = 10\r\n",
        "      except:\r\n",
        "        break\r\n",
        "      imgs=images.to(gantrainer.device)\r\n",
        "      labels=labels.cpu().numpy()\r\n",
        "      with torch.no_grad():\r\n",
        "        pred=gantrainer.attacker(gantrainer.enc(imgs)).cpu().numpy()\r\n",
        "      p=pred\r\n",
        "      no_0 = np.append(no_0,pred[:,0])\r\n",
        "      no_1 = np.append(no_1,pred[:,1])\r\n",
        "      no_2 = np.append(no_2,pred[:,2])\r\n",
        "      no_3 = np.append(no_3,pred[:,3])\r\n",
        "      no_4 = np.append(no_4,pred[:,4])\r\n",
        "      no_5 = np.append(no_5,pred[:,5])\r\n",
        "      no_6 = np.append(no_6,pred[:,6])\r\n",
        "      no_7 = np.append(no_7,pred[:,7])\r\n",
        "      no_8 = np.append(no_8,pred[:,8])\r\n",
        "      no_9 = np.append(no_9,pred[:,9])\r\n",
        "      no_10 = np.append(no_10,pred[:,10])\r\n",
        "\r\n",
        "      pred =np.argmax(pred,1)\r\n",
        "      for i in range(11):\r\n",
        "        tot[i]+=sum(labels==i)\r\n",
        "        tp[i]+=sum(pred[labels==i]==i)\r\n",
        "      tot[11]+=sum(labels!=10)\r\n",
        "      tp[11]+=sum(pred[labels!=10]!=10)\r\n",
        "      # pred=np.expand_dims(pred,1)\r\n",
        "      # labels = np.expand_dims(labels,1)\r\n",
        "      # print(pred.shape)\r\n",
        "      # print(labels.shape)\r\n",
        "      # out=np.concatenate((pred,labels,p),1)\r\n",
        "      # print(out)\r\n",
        "      #break\r\n",
        "fig,ax = plt.subplots(2,6,figsize=(20,15),sharex=True,sharey=True)\r\n",
        "\r\n",
        "ax[0][0].plot(no_0,'o')\r\n",
        "ax[0][1].plot(no_1,'o')\r\n",
        "ax[0][2].plot(no_2,'o')\r\n",
        "ax[0][3].plot(no_3,'o')\r\n",
        "ax[0][4].plot(no_4,'o')\r\n",
        "ax[1][0].plot(no_5,'o')\r\n",
        "ax[1][1].plot(no_6,'o')\r\n",
        "ax[1][2].plot(no_7,'o')\r\n",
        "ax[1][3].plot(no_8,'o')\r\n",
        "ax[1][4].plot(no_9,'o')\r\n",
        "ax[1][5].plot(no_10,'o')\r\n",
        "ax[0][0].set_title(\"number 0\")\r\n",
        "ax[0][1].set_title(\"number 1\")\r\n",
        "ax[0][2].set_title(\"number 2\")\r\n",
        "ax[0][3].set_title(\"number 3\")\r\n",
        "ax[0][4].set_title(\"number 4\")\r\n",
        "ax[1][0].set_title(\"number 5\")\r\n",
        "ax[1][1].set_title(\"number 6\")\r\n",
        "ax[1][2].set_title(\"number 7\")\r\n",
        "ax[1][3].set_title(\"number 8\")\r\n",
        "ax[1][4].set_title(\"number 9\")\r\n",
        "ax[1][5].set_title(\"NAN\")\r\n",
        "plt.show()\r\n",
        "\r\n",
        "\r\n",
        "print(tp)\r\n",
        "print(tot)\r\n",
        "print(tp/tot)"
      ],
      "execution_count": null,
      "outputs": [
        {
          "output_type": "display_data",
          "data": {
            "image/png": "[encoded data removed]",
            "text/plain": [
              "<Figure size 1440x1080 with 12 Axes>"
            ]
          },
          "metadata": {
            "tags": [],
            "needs_background": "light"
          }
        },
        {
          "output_type": "stream",
          "text": [
            "[   0  859    0    0    0    0    0    0    0    0 2340 7644]\n",
            "[ 742  859  781  779  749  672  739  801  750  772 2340 7644]\n",
            "[0. 1. 0. 0. 0. 0. 0. 0. 0. 0. 1. 1.]\n"
          ],
          "name": "stdout"
        }
      ]
    },
    {
      "cell_type": "code",
      "metadata": {
        "id": "6pFhCl_5QU6Y",
        "colab": {
          "base_uri": "https://localhost:8080/",
          "height": 609
        },
        "outputId": "fc5ddbda-ef3c-47e9-acb4-955c2866ed25"
      },
      "source": [
        "fig,ax = plt.subplots(figsize=(20,10))\r\n",
        "ax.plot(no_0,'o')"
      ],
      "execution_count": null,
      "outputs": [
        {
          "output_type": "execute_result",
          "data": {
            "text/plain": [
              "[<matplotlib.lines.Line2D at 0x7f0300f02b10>]"
            ]
          },
          "metadata": {
            "tags": []
          },
          "execution_count": 25
        },
        {
          "output_type": "display_data",
          "data": {
            "image/png": "[encoded data removed]",
            "text/plain": [
              "<Figure size 1440x720 with 1 Axes>"
            ]
          },
          "metadata": {
            "tags": [],
            "needs_background": "light"
          }
        }
      ]
    },
    {
      "cell_type": "code",
      "metadata": {
        "colab": {
          "base_uri": "https://localhost:8080/",
          "height": 609
        },
        "id": "xonTjK_-3QxV",
        "outputId": "7027ba03-cfb8-45db-cd9b-d8de3c50fa77"
      },
      "source": [
        "fig,ax = plt.subplots(figsize=(20,10))\r\n",
        "ax.plot(no_1,'o')"
      ],
      "execution_count": null,
      "outputs": [
        {
          "output_type": "execute_result",
          "data": {
            "text/plain": [
              "[<matplotlib.lines.Line2D at 0x7f0300e90190>]"
            ]
          },
          "metadata": {
            "tags": []
          },
          "execution_count": 26
        },
        {
          "output_type": "display_data",
          "data": {
            "image/png": "[encoded data removed]",
            "text/plain": [
              "<Figure size 1440x720 with 1 Axes>"
            ]
          },
          "metadata": {
            "tags": [],
            "needs_background": "light"
          }
        }
      ]
    },
    {
      "cell_type": "code",
      "metadata": {
        "colab": {
          "base_uri": "https://localhost:8080/",
          "height": 609
        },
        "id": "vyIYt1KC31Qv",
        "outputId": "9dfe6d0b-2ee0-4e34-8f83-a52f896c82b6"
      },
      "source": [
        "fig,ax = plt.subplots(figsize=(20,10))\r\n",
        "ax.plot(no_2,'o')"
      ],
      "execution_count": null,
      "outputs": [
        {
          "output_type": "execute_result",
          "data": {
            "text/plain": [
              "[<matplotlib.lines.Line2D at 0x7f0300e05190>]"
            ]
          },
          "metadata": {
            "tags": []
          },
          "execution_count": 27
        },
        {
          "output_type": "display_data",
          "data": {
            "image/png": "[encoded data removed]",
            "text/plain": [
              "<Figure size 1440x720 with 1 Axes>"
            ]
          },
          "metadata": {
            "tags": [],
            "needs_background": "light"
          }
        }
      ]
    },
    {
      "cell_type": "code",
      "metadata": {
        "colab": {
          "base_uri": "https://localhost:8080/",
          "height": 609
        },
        "id": "PtVdo4o035lC",
        "outputId": "85bc7176-178b-402d-8914-49ac8914bfd2"
      },
      "source": [
        "fig,ax = plt.subplots(figsize=(20,10))\r\n",
        "ax.plot(no_3,'o')"
      ],
      "execution_count": null,
      "outputs": [
        {
          "output_type": "execute_result",
          "data": {
            "text/plain": [
              "[<matplotlib.lines.Line2D at 0x7f0300de0710>]"
            ]
          },
          "metadata": {
            "tags": []
          },
          "execution_count": 28
        },
        {
          "output_type": "display_data",
          "data": {
            "image/png": "[encoded data removed]",
            "text/plain": [
              "<Figure size 1440x720 with 1 Axes>"
            ]
          },
          "metadata": {
            "tags": [],
            "needs_background": "light"
          }
        }
      ]
    },
    {
      "cell_type": "code",
      "metadata": {
        "colab": {
          "base_uri": "https://localhost:8080/",
          "height": 609
        },
        "id": "aCgtFr5p39Xh",
        "outputId": "b1877bac-3ee7-48b7-a9de-e4cc73bd033a"
      },
      "source": [
        "fig,ax = plt.subplots(figsize=(20,10))\r\n",
        "ax.plot(no_4,'o')"
      ],
      "execution_count": null,
      "outputs": [
        {
          "output_type": "execute_result",
          "data": {
            "text/plain": [
              "[<matplotlib.lines.Line2D at 0x7f0300d5f190>]"
            ]
          },
          "metadata": {
            "tags": []
          },
          "execution_count": 29
        },
        {
          "output_type": "display_data",
          "data": {
            "image/png": "[encoded data removed]",
            "text/plain": [
              "<Figure size 1440x720 with 1 Axes>"
            ]
          },
          "metadata": {
            "tags": [],
            "needs_background": "light"
          }
        }
      ]
    },
    {
      "cell_type": "code",
      "metadata": {
        "colab": {
          "base_uri": "https://localhost:8080/",
          "height": 609
        },
        "id": "NSwiMSOn4BTY",
        "outputId": "fd69d55b-a974-4519-ecc2-26852432ae1d"
      },
      "source": [
        "fig,ax = plt.subplots(figsize=(20,10))\r\n",
        "ax.plot(no_5,'o')"
      ],
      "execution_count": null,
      "outputs": [
        {
          "output_type": "execute_result",
          "data": {
            "text/plain": [
              "[<matplotlib.lines.Line2D at 0x7f0300cb4610>]"
            ]
          },
          "metadata": {
            "tags": []
          },
          "execution_count": 30
        },
        {
          "output_type": "display_data",
          "data": {
            "image/png": "[encoded data removed]",
            "text/plain": [
              "<Figure size 1440x720 with 1 Axes>"
            ]
          },
          "metadata": {
            "tags": [],
            "needs_background": "light"
          }
        }
      ]
    },
    {
      "cell_type": "code",
      "metadata": {
        "colab": {
          "base_uri": "https://localhost:8080/",
          "height": 609
        },
        "id": "ktp3opu14D3x",
        "outputId": "bc3a4487-1fb5-44d2-fd90-6dc9cf3770ef"
      },
      "source": [
        "fig,ax = plt.subplots(figsize=(20,10))\r\n",
        "ax.plot(no_6,'o')"
      ],
      "execution_count": null,
      "outputs": [
        {
          "output_type": "execute_result",
          "data": {
            "text/plain": [
              "[<matplotlib.lines.Line2D at 0x7f0300c37750>]"
            ]
          },
          "metadata": {
            "tags": []
          },
          "execution_count": 31
        },
        {
          "output_type": "display_data",
          "data": {
            "image/png": "[encoded data removed]",
            "text/plain": [
              "<Figure size 1440x720 with 1 Axes>"
            ]
          },
          "metadata": {
            "tags": [],
            "needs_background": "light"
          }
        }
      ]
    },
    {
      "cell_type": "code",
      "metadata": {
        "colab": {
          "base_uri": "https://localhost:8080/",
          "height": 609
        },
        "id": "4iG7TTiA4JPI",
        "outputId": "4461644d-183a-4571-c7ad-507ea8fd6700"
      },
      "source": [
        "fig,ax = plt.subplots(figsize=(20,10))\r\n",
        "ax.plot(no_7,'o')"
      ],
      "execution_count": null,
      "outputs": [
        {
          "output_type": "execute_result",
          "data": {
            "text/plain": [
              "[<matplotlib.lines.Line2D at 0x7f0300bfdb10>]"
            ]
          },
          "metadata": {
            "tags": []
          },
          "execution_count": 32
        },
        {
          "output_type": "display_data",
          "data": {
            "image/png": "[encoded data removed]",
            "text/plain": [
              "<Figure size 1440x720 with 1 Axes>"
            ]
          },
          "metadata": {
            "tags": [],
            "needs_background": "light"
          }
        }
      ]
    },
    {
      "cell_type": "code",
      "metadata": {
        "colab": {
          "base_uri": "https://localhost:8080/",
          "height": 612
        },
        "id": "tVMvggzV4Mkh",
        "outputId": "ed9e8aa4-5e29-4586-c5dd-c95c7144e13c"
      },
      "source": [
        "fig,ax = plt.subplots(figsize=(20,10))\r\n",
        "ax.plot(no_8,'o')"
      ],
      "execution_count": null,
      "outputs": [
        {
          "output_type": "execute_result",
          "data": {
            "text/plain": [
              "[<matplotlib.lines.Line2D at 0x7f0300bec2d0>]"
            ]
          },
          "metadata": {
            "tags": []
          },
          "execution_count": 33
        },
        {
          "output_type": "display_data",
          "data": {
            "image/png": "[encoded data removed]",
            "text/plain": [
              "<Figure size 1440x720 with 1 Axes>"
            ]
          },
          "metadata": {
            "tags": [],
            "needs_background": "light"
          }
        }
      ]
    },
    {
      "cell_type": "code",
      "metadata": {
        "colab": {
          "base_uri": "https://localhost:8080/",
          "height": 609
        },
        "id": "EjXrCiYV4QRz",
        "outputId": "34aa883b-3066-4294-c38b-01763e05b5f4"
      },
      "source": [
        "fig,ax = plt.subplots(figsize=(20,10))\r\n",
        "ax.plot(no_9,'o')"
      ],
      "execution_count": null,
      "outputs": [
        {
          "output_type": "execute_result",
          "data": {
            "text/plain": [
              "[<matplotlib.lines.Line2D at 0x7f0300ba7a90>]"
            ]
          },
          "metadata": {
            "tags": []
          },
          "execution_count": 34
        },
        {
          "output_type": "display_data",
          "data": {
            "image/png": "[encoded data removed]",
            "text/plain": [
              "<Figure size 1440x720 with 1 Axes>"
            ]
          },
          "metadata": {
            "tags": [],
            "needs_background": "light"
          }
        }
      ]
    },
    {
      "cell_type": "code",
      "metadata": {
        "colab": {
          "base_uri": "https://localhost:8080/",
          "height": 609
        },
        "id": "z21MP-4Y4TRE",
        "outputId": "3980ea60-1566-413e-ba5b-0e6b9153efe0"
      },
      "source": [
        "fig,ax = plt.subplots(figsize=(20,10))\r\n",
        "ax.plot(no_10,'o')"
      ],
      "execution_count": null,
      "outputs": [
        {
          "output_type": "execute_result",
          "data": {
            "text/plain": [
              "[<matplotlib.lines.Line2D at 0x7f0300ac2350>]"
            ]
          },
          "metadata": {
            "tags": []
          },
          "execution_count": 35
        },
        {
          "output_type": "display_data",
          "data": {
            "image/png": "[encoded data removed]",
            "text/plain": [
              "<Figure size 1440x720 with 1 Axes>"
            ]
          },
          "metadata": {
            "tags": [],
            "needs_background": "light"
          }
        }
      ]
    },
    {
      "cell_type": "code",
      "metadata": {
        "id": "wmQF1HEZ4VmJ"
      },
      "source": [
        ""
      ],
      "execution_count": null,
      "outputs": []
    }
  ]
}