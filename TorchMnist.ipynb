{
  "nbformat": 4,
  "nbformat_minor": 0,
  "metadata": {
    "colab": {
      "name": "TorchMnist.ipynb",
      "provenance": [],
      "collapsed_sections": []
    },
    "kernelspec": {
      "name": "python3",
      "display_name": "Python 3"
    },
    "accelerator": "GPU"
  },
  "cells": [
    {
      "cell_type": "code",
      "metadata": {
        "id": "Ww9yquXAoGl-"
      },
      "source": [
        "import numpy as np\r\n",
        "import torch\r\n",
        "import torchvision\r\n",
        "import matplotlib.pyplot as plt\r\n",
        "from time import time\r\n",
        "from torchvision import datasets, transforms\r\n",
        "from torch import nn, optim"
      ],
      "execution_count": null,
      "outputs": []
    },
    {
      "cell_type": "code",
      "metadata": {
        "id": "fIf1hKQnokbV"
      },
      "source": [
        "transform  = transforms.Compose([transforms.ToTensor(),\r\n",
        "                                 transforms.Normalize((0.5,),(0.5,))])"
      ],
      "execution_count": null,
      "outputs": []
    },
    {
      "cell_type": "code",
      "metadata": {
        "colab": {
          "base_uri": "https://localhost:8080/"
        },
        "id": "izvhzyKS64pw",
        "outputId": "e95e6d6f-05fd-4f0d-9ac6-48688cb92820"
      },
      "source": [
        "from google.colab import drive\n",
        "drive.mount('/content/drive')"
      ],
      "execution_count": null,
      "outputs": [
        {
          "output_type": "stream",
          "text": [
            "Mounted at /content/drive\n"
          ],
          "name": "stdout"
        }
      ]
    },
    {
      "cell_type": "code",
      "metadata": {
        "colab": {
          "base_uri": "https://localhost:8080/"
        },
        "id": "ZP91d0b5o0dJ",
        "outputId": "d1b93938-27ed-4b4d-bb17-c7c5781c1509"
      },
      "source": [
        "%cd /content/drive/MyDrive"
      ],
      "execution_count": null,
      "outputs": [
        {
          "output_type": "stream",
          "text": [
            "/content/drive/MyDrive\n"
          ],
          "name": "stdout"
        }
      ]
    },
    {
      "cell_type": "code",
      "metadata": {
        "id": "OciVqK0mo_sp"
      },
      "source": [
        "!mkdir MNISTdata"
      ],
      "execution_count": null,
      "outputs": []
    },
    {
      "cell_type": "code",
      "metadata": {
        "colab": {
          "base_uri": "https://localhost:8080/"
        },
        "id": "FlK1J9R9pH9M",
        "outputId": "be038dd2-2299-41ae-e8e3-ff0fcb21326c"
      },
      "source": [
        "%cd MNISTdata"
      ],
      "execution_count": null,
      "outputs": [
        {
          "output_type": "stream",
          "text": [
            "/content/drive/MyDrive/MNISTdata\n"
          ],
          "name": "stdout"
        }
      ]
    },
    {
      "cell_type": "code",
      "metadata": {
        "id": "UmlfE7dkpK_b"
      },
      "source": [
        "!mkdir train\r\n",
        "!mkdir validation"
      ],
      "execution_count": null,
      "outputs": []
    },
    {
      "cell_type": "code",
      "metadata": {
        "id": "oDtmctkppT09"
      },
      "source": [
        "trainset = datasets.MNIST('/content/drive/MyDrive/MNISTdata/train/',download=False,train=True,transform=transform)\r\n",
        "valset = datasets.MNIST('/content/drive/MyDrive/MNISTdata/validation/',download=False,train=False,transform=transform)\r\n",
        "\r\n",
        "trainloader = torch.utils.data.DataLoader(trainset,batch_size=64,shuffle=True)\r\n",
        "\r\n",
        "valloader = torch.utils.data.DataLoader(valset,batch_size=64,shuffle=True)\r\n"
      ],
      "execution_count": null,
      "outputs": []
    },
    {
      "cell_type": "code",
      "metadata": {
        "colab": {
          "base_uri": "https://localhost:8080/"
        },
        "id": "fNp3Zwf8rAzx",
        "outputId": "bcc74f27-13fc-499d-f86a-70b0417d6693"
      },
      "source": [
        "dataiter = iter(trainloader)\r\n",
        "images, labels = dataiter.next()\r\n",
        "\r\n",
        "print(images.shape)\r\n",
        "print(labels.shape)"
      ],
      "execution_count": null,
      "outputs": [
        {
          "output_type": "stream",
          "text": [
            "torch.Size([64, 1, 28, 28]) tensor(1.)\n",
            "torch.Size([64])\n"
          ],
          "name": "stdout"
        }
      ]
    },
    {
      "cell_type": "code",
      "metadata": {
        "colab": {
          "base_uri": "https://localhost:8080/"
        },
        "id": "ooAJVTJY0XSK",
        "outputId": "3520565d-04d7-4db4-8b2c-ed830eb965f3"
      },
      "source": [
        "lab = torch.zeros(2,2)\r\n",
        "lab"
      ],
      "execution_count": null,
      "outputs": [
        {
          "output_type": "execute_result",
          "data": {
            "text/plain": [
              "tensor([[0., 0.],\n",
              "        [0., 0.]])"
            ]
          },
          "metadata": {
            "tags": []
          },
          "execution_count": 12
        }
      ]
    },
    {
      "cell_type": "code",
      "metadata": {
        "colab": {
          "base_uri": "https://localhost:8080/"
        },
        "id": "POoF2Y5y3Vt-",
        "outputId": "a8b7c951-d2ef-4446-c857-2c22b5bc781d"
      },
      "source": [
        "labels"
      ],
      "execution_count": null,
      "outputs": [
        {
          "output_type": "execute_result",
          "data": {
            "text/plain": [
              "tensor([3, 2, 0, 8, 4, 3, 2, 2, 2, 8, 8, 6, 7, 2, 0, 7, 3, 6, 9, 7, 2, 4, 9, 5,\n",
              "        4, 3, 0, 2, 2, 8, 0, 9, 5, 4, 5, 8, 5, 0, 2, 5, 9, 7, 7, 1, 2, 7, 9, 8,\n",
              "        8, 6, 9, 2, 5, 0, 0, 7, 2, 7, 9, 3, 4, 9, 7, 9])"
            ]
          },
          "metadata": {
            "tags": []
          },
          "execution_count": 20
        }
      ]
    },
    {
      "cell_type": "code",
      "metadata": {
        "id": "ViEEDPvYzLk3"
      },
      "source": [
        "lab = torch.zeros(2,labels.shape[0])\r\n",
        "lab[0,:] = labels\r\n",
        "for i in range(labels.shape[0]):\r\n",
        "    lab[0,i] = labels[i]\r\n",
        "    lab[1,i] = 1"
      ],
      "execution_count": null,
      "outputs": []
    },
    {
      "cell_type": "code",
      "metadata": {
        "colab": {
          "base_uri": "https://localhost:8080/"
        },
        "id": "DIhVmIhK0_yq",
        "outputId": "9254a7db-ba91-4100-d02d-fab7013a617b"
      },
      "source": [
        "lab"
      ],
      "execution_count": null,
      "outputs": [
        {
          "output_type": "execute_result",
          "data": {
            "text/plain": [
              "tensor([[3., 2., 0., 8., 4., 3., 2., 2., 2., 8., 8., 6., 7., 2., 0., 7., 3., 6.,\n",
              "         9., 7., 2., 4., 9., 5., 4., 3., 0., 2., 2., 8., 0., 9., 5., 4., 5., 8.,\n",
              "         5., 0., 2., 5., 9., 7., 7., 1., 2., 7., 9., 8., 8., 6., 9., 2., 5., 0.,\n",
              "         0., 7., 2., 7., 9., 3., 4., 9., 7., 9.],\n",
              "        [1., 1., 1., 1., 1., 1., 1., 1., 1., 1., 1., 1., 1., 1., 1., 1., 1., 1.,\n",
              "         1., 1., 1., 1., 1., 1., 1., 1., 1., 1., 1., 1., 1., 1., 1., 1., 1., 1.,\n",
              "         1., 1., 1., 1., 1., 1., 1., 1., 1., 1., 1., 1., 1., 1., 1., 1., 1., 1.,\n",
              "         1., 1., 1., 1., 1., 1., 1., 1., 1., 1.]])"
            ]
          },
          "metadata": {
            "tags": []
          },
          "execution_count": 21
        }
      ]
    },
    {
      "cell_type": "code",
      "metadata": {
        "colab": {
          "base_uri": "https://localhost:8080/",
          "height": 282
        },
        "id": "584ign_YyGR-",
        "outputId": "f5d40415-fdc0-4316-81f8-b04e03f1ed20"
      },
      "source": [
        "plt.imshow((images[0]+images[1]).numpy().squeeze(),cmap='gray_r')"
      ],
      "execution_count": null,
      "outputs": [
        {
          "output_type": "execute_result",
          "data": {
            "text/plain": [
              "<matplotlib.image.AxesImage at 0x7ff1fd9affd0>"
            ]
          },
          "metadata": {
            "tags": []
          },
          "execution_count": 8
        },
        {
          "output_type": "display_data",
          "data": {
            "image/png": "[encoded data removed]",
            "text/plain": [
              "<Figure size 432x288 with 1 Axes>"
            ]
          },
          "metadata": {
            "tags": [],
            "needs_background": "light"
          }
        }
      ]
    },
    {
      "cell_type": "code",
      "metadata": {
        "colab": {
          "base_uri": "https://localhost:8080/",
          "height": 282
        },
        "id": "4ueGYvm6r4cJ",
        "outputId": "46a96e90-a296-47ba-eefb-c1d133cde12a"
      },
      "source": [
        "plt.imshow(images[0].numpy().squeeze(),cmap='gray_r')"
      ],
      "execution_count": null,
      "outputs": [
        {
          "output_type": "execute_result",
          "data": {
            "text/plain": [
              "<matplotlib.image.AxesImage at 0x7f0712f44240>"
            ]
          },
          "metadata": {
            "tags": []
          },
          "execution_count": 10
        },
        {
          "output_type": "display_data",
          "data": {
            "image/png": "[encoded data removed]",
            "text/plain": [
              "<Figure size 432x288 with 1 Axes>"
            ]
          },
          "metadata": {
            "tags": [],
            "needs_background": "light"
          }
        }
      ]
    },
    {
      "cell_type": "code",
      "metadata": {
        "id": "n90HABZJsXVB"
      },
      "source": [
        "input_size = 784\r\n",
        "hidden_sizes = [128, 64]\r\n",
        "output_size = 11"
      ],
      "execution_count": null,
      "outputs": []
    },
    {
      "cell_type": "code",
      "metadata": {
        "colab": {
          "base_uri": "https://localhost:8080/"
        },
        "id": "nEWAD-zttSfO",
        "outputId": "e8dd9d25-4504-43a4-8b32-a8cbfae89407"
      },
      "source": [
        "model = nn.Sequential(nn.Linear(input_size,hidden_sizes[0]),\r\n",
        "                      nn.ReLU(),\r\n",
        "                      nn.Linear(hidden_sizes[0],hidden_sizes[1]),\r\n",
        "                      nn.ReLU(),\r\n",
        "                      nn.Linear(hidden_sizes[1],output_size),\r\n",
        "                      nn.LogSoftmax(dim=1))\r\n",
        "\r\n",
        "print(model)"
      ],
      "execution_count": null,
      "outputs": [
        {
          "output_type": "stream",
          "text": [
            "Sequential(\n",
            "  (0): Linear(in_features=784, out_features=128, bias=True)\n",
            "  (1): ReLU()\n",
            "  (2): Linear(in_features=128, out_features=64, bias=True)\n",
            "  (3): ReLU()\n",
            "  (4): Linear(in_features=64, out_features=11, bias=True)\n",
            "  (5): LogSoftmax(dim=1)\n",
            ")\n"
          ],
          "name": "stdout"
        }
      ]
    },
    {
      "cell_type": "code",
      "metadata": {
        "colab": {
          "base_uri": "https://localhost:8080/"
        },
        "id": "RWmbINjzuzxk",
        "outputId": "92d22cb1-1c71-45bb-be35-77d4167af99f"
      },
      "source": [
        "criterion = nn.NLLLoss()\r\n",
        "images, labels = next(iter(trainloader))\r\n",
        "images = images.view(images.shape[0],-1)\r\n",
        "#print(images.shape)\r\n",
        "logps = model(images)\r\n",
        "loss = criterion(logps,labels)\r\n",
        "print('Before back pass: ',model[0].weight.grad)\r\n",
        "loss.backward()\r\n",
        "print('After ',model[0].weight.grad)\r\n"
      ],
      "execution_count": null,
      "outputs": [
        {
          "output_type": "stream",
          "text": [
            "Before back pass:  None\n",
            "After  tensor([[-9.5139e-06, -9.5139e-06, -9.5139e-06,  ..., -9.5139e-06,\n",
            "         -9.5139e-06, -9.5139e-06],\n",
            "        [-3.9178e-04, -3.9178e-04, -3.9178e-04,  ..., -3.9178e-04,\n",
            "         -3.9178e-04, -3.9178e-04],\n",
            "        [ 0.0000e+00,  0.0000e+00,  0.0000e+00,  ...,  0.0000e+00,\n",
            "          0.0000e+00,  0.0000e+00],\n",
            "        ...,\n",
            "        [-7.9936e-04, -7.9936e-04, -7.9936e-04,  ..., -7.9936e-04,\n",
            "         -7.9936e-04, -7.9936e-04],\n",
            "        [-4.1806e-04, -4.1806e-04, -4.1806e-04,  ..., -4.1806e-04,\n",
            "         -4.1806e-04, -4.1806e-04],\n",
            "        [-3.6436e-03, -3.6436e-03, -3.6436e-03,  ..., -3.6436e-03,\n",
            "         -3.6436e-03, -3.6436e-03]])\n"
          ],
          "name": "stdout"
        }
      ]
    },
    {
      "cell_type": "code",
      "metadata": {
        "colab": {
          "base_uri": "https://localhost:8080/",
          "height": 1000
        },
        "id": "xkzvqna5501j",
        "outputId": "013d7b6d-8f3d-43e6-d5c0-89660d697ced"
      },
      "source": [
        "optimizer = optim.SGD(model.parameters(),lr = 0.003, momentum=0.9)\r\n",
        "time0 = time()\r\n",
        "epochs = 15\r\n",
        "for e in range(epochs):\r\n",
        "    running_loss = 0\r\n",
        "    \r\n",
        "    for images, labels in trainloader:\r\n",
        "        #lab = torch.zeros(labels.shape[0],2)\r\n",
        "        #lab[:,0] = labels\r\n",
        "        for i in range(1,6):\r\n",
        "            images[5*i] = images[5*i] + images[5*i + 1]\r\n",
        "            labels[5*i] = 10\r\n",
        "        images = images.view(images.shape[0],-1)\r\n",
        "\r\n",
        "        optimizer.zero_grad()\r\n",
        "        output = model(images)\r\n",
        "        print(\"output shape: \",output.shape)\r\n",
        "        print(\"label shape: \",labels.shape)\r\n",
        "        loss = criterion(output,labels)\r\n",
        "\r\n",
        "        loss.backward()\r\n",
        "        optimizer.step()\r\n",
        "        running_loss += loss.item()\r\n",
        "    else:\r\n",
        "        print(\"Epoch {} - Training loss: {}\".format(e,running_loss/len(trainloader)))\r\n",
        "print(\"\\nTraining Time (in minutes) = \", (time()-time0)/60)       "
      ],
      "execution_count": null,
      "outputs": [
        {
          "output_type": "stream",
          "text": [
            "output shape:  torch.Size([64, 11])\n",
            "label shape:  torch.Size([64])\n",
            "output shape:  torch.Size([64, 11])\n",
            "label shape:  torch.Size([64])\n",
            "output shape:  torch.Size([64, 11])\n",
            "label shape:  torch.Size([64])\n",
            "output shape:  torch.Size([64, 11])\n",
            "label shape:  torch.Size([64])\n",
            "output shape:  torch.Size([64, 11])\n",
            "label shape:  torch.Size([64])\n",
            "output shape:  torch.Size([64, 11])\n",
            "label shape:  torch.Size([64])\n",
            "output shape:  torch.Size([64, 11])\n",
            "label shape:  torch.Size([64])\n",
            "output shape:  torch.Size([64, 11])\n",
            "label shape:  torch.Size([64])\n",
            "output shape:  torch.Size([64, 11])\n",
            "label shape:  torch.Size([64])\n",
            "output shape:  torch.Size([64, 11])\n",
            "label shape:  torch.Size([64])\n",
            "output shape:  torch.Size([64, 11])\n",
            "label shape:  torch.Size([64])\n",
            "output shape:  torch.Size([64, 11])\n",
            "label shape:  torch.Size([64])\n",
            "output shape:  torch.Size([64, 11])\n",
            "label shape:  torch.Size([64])\n",
            "output shape:  torch.Size([64, 11])\n",
            "label shape:  torch.Size([64])\n",
            "output shape:  torch.Size([64, 11])\n",
            "label shape:  torch.Size([64])\n",
            "output shape:  torch.Size([64, 11])\n",
            "label shape:  torch.Size([64])\n",
            "output shape:  torch.Size([64, 11])\n",
            "label shape:  torch.Size([64])\n",
            "output shape:  torch.Size([64, 11])\n",
            "label shape:  torch.Size([64])\n",
            "output shape:  torch.Size([64, 11])\n",
            "label shape:  torch.Size([64])\n",
            "output shape:  torch.Size([64, 11])\n",
            "label shape:  torch.Size([64])\n",
            "output shape:  torch.Size([64, 11])\n",
            "label shape:  torch.Size([64])\n",
            "output shape:  torch.Size([64, 11])\n",
            "label shape:  torch.Size([64])\n",
            "output shape:  torch.Size([64, 11])\n",
            "label shape:  torch.Size([64])\n",
            "output shape:  torch.Size([64, 11])\n",
            "label shape:  torch.Size([64])\n",
            "output shape:  torch.Size([64, 11])\n",
            "label shape:  torch.Size([64])\n",
            "output shape:  torch.Size([64, 11])\n",
            "label shape:  torch.Size([64])\n",
            "output shape:  torch.Size([64, 11])\n",
            "label shape:  torch.Size([64])\n",
            "output shape:  torch.Size([64, 11])\n",
            "label shape:  torch.Size([64])\n",
            "output shape:  torch.Size([64, 11])\n",
            "label shape:  torch.Size([64])\n",
            "output shape:  torch.Size([64, 11])\n",
            "label shape:  torch.Size([64])\n",
            "output shape:  torch.Size([64, 11])\n",
            "label shape:  torch.Size([64])\n",
            "output shape:  torch.Size([64, 11])\n",
            "label shape:  torch.Size([64])\n",
            "output shape:  torch.Size([64, 11])\n",
            "label shape:  torch.Size([64])\n",
            "output shape:  torch.Size([64, 11])\n",
            "label shape:  torch.Size([64])\n",
            "output shape:  torch.Size([64, 11])\n",
            "label shape:  torch.Size([64])\n",
            "output shape:  torch.Size([64, 11])\n",
            "label shape:  torch.Size([64])\n",
            "output shape:  torch.Size([64, 11])\n",
            "label shape:  torch.Size([64])\n",
            "output shape:  torch.Size([64, 11])\n",
            "label shape:  torch.Size([64])\n",
            "output shape:  torch.Size([64, 11])\n",
            "label shape:  torch.Size([64])\n",
            "output shape:  torch.Size([64, 11])\n",
            "label shape:  torch.Size([64])\n",
            "output shape:  torch.Size([64, 11])\n",
            "label shape:  torch.Size([64])\n",
            "output shape:  torch.Size([64, 11])\n",
            "label shape:  torch.Size([64])\n",
            "output shape:  torch.Size([64, 11])\n",
            "label shape:  torch.Size([64])\n",
            "output shape:  torch.Size([64, 11])\n",
            "label shape:  torch.Size([64])\n",
            "output shape:  torch.Size([64, 11])\n",
            "label shape:  torch.Size([64])\n",
            "output shape:  torch.Size([64, 11])\n",
            "label shape:  torch.Size([64])\n",
            "output shape:  torch.Size([64, 11])\n",
            "label shape:  torch.Size([64])\n",
            "output shape:  torch.Size([64, 11])\n",
            "label shape:  torch.Size([64])\n",
            "output shape:  torch.Size([64, 11])\n",
            "label shape:  torch.Size([64])\n",
            "output shape:  torch.Size([64, 11])\n",
            "label shape:  torch.Size([64])\n",
            "output shape:  torch.Size([64, 11])\n",
            "label shape:  torch.Size([64])\n",
            "output shape:  torch.Size([64, 11])\n",
            "label shape:  torch.Size([64])\n",
            "output shape:  torch.Size([64, 11])\n",
            "label shape:  torch.Size([64])\n",
            "output shape:  torch.Size([64, 11])\n",
            "label shape:  torch.Size([64])\n",
            "output shape:  torch.Size([64, 11])\n",
            "label shape:  torch.Size([64])\n",
            "output shape:  torch.Size([64, 11])\n",
            "label shape:  torch.Size([64])\n",
            "output shape:  torch.Size([64, 11])\n",
            "label shape:  torch.Size([64])\n",
            "output shape:  torch.Size([64, 11])\n",
            "label shape:  torch.Size([64])\n",
            "output shape:  torch.Size([64, 11])\n",
            "label shape:  torch.Size([64])\n",
            "output shape:  torch.Size([64, 11])\n",
            "label shape:  torch.Size([64])\n",
            "output shape:  torch.Size([64, 11])\n",
            "label shape:  torch.Size([64])\n",
            "output shape:  torch.Size([64, 11])\n",
            "label shape:  torch.Size([64])\n",
            "output shape:  torch.Size([64, 11])\n",
            "label shape:  torch.Size([64])\n",
            "output shape:  torch.Size([64, 11])\n",
            "label shape:  torch.Size([64])\n",
            "output shape:  torch.Size([64, 11])\n",
            "label shape:  torch.Size([64])\n",
            "output shape:  torch.Size([64, 11])\n",
            "label shape:  torch.Size([64])\n",
            "output shape:  torch.Size([64, 11])\n",
            "label shape:  torch.Size([64])\n",
            "output shape:  torch.Size([64, 11])\n",
            "label shape:  torch.Size([64])\n",
            "output shape:  torch.Size([64, 11])\n",
            "label shape:  torch.Size([64])\n",
            "output shape:  torch.Size([64, 11])\n",
            "label shape:  torch.Size([64])\n",
            "output shape:  torch.Size([64, 11])\n",
            "label shape:  torch.Size([64])\n",
            "output shape:  torch.Size([64, 11])\n",
            "label shape:  torch.Size([64])\n",
            "output shape:  torch.Size([64, 11])\n",
            "label shape:  torch.Size([64])\n",
            "output shape:  torch.Size([64, 11])\n",
            "label shape:  torch.Size([64])\n",
            "output shape:  torch.Size([64, 11])\n",
            "label shape:  torch.Size([64])\n",
            "output shape:  torch.Size([64, 11])\n",
            "label shape:  torch.Size([64])\n",
            "output shape:  torch.Size([64, 11])\n",
            "label shape:  torch.Size([64])\n",
            "output shape:  torch.Size([64, 11])\n",
            "label shape:  torch.Size([64])\n",
            "output shape:  torch.Size([64, 11])\n",
            "label shape:  torch.Size([64])\n",
            "output shape:  torch.Size([64, 11])\n",
            "label shape:  torch.Size([64])\n",
            "output shape:  torch.Size([64, 11])\n",
            "label shape:  torch.Size([64])\n",
            "output shape:  torch.Size([64, 11])\n",
            "label shape:  torch.Size([64])\n",
            "output shape:  torch.Size([64, 11])\n",
            "label shape:  torch.Size([64])\n",
            "output shape:  torch.Size([64, 11])\n",
            "label shape:  torch.Size([64])\n",
            "output shape:  torch.Size([64, 11])\n",
            "label shape:  torch.Size([64])\n",
            "output shape:  torch.Size([64, 11])\n",
            "label shape:  torch.Size([64])\n",
            "output shape:  torch.Size([64, 11])\n",
            "label shape:  torch.Size([64])\n",
            "output shape:  torch.Size([64, 11])\n",
            "label shape:  torch.Size([64])\n",
            "output shape:  torch.Size([64, 11])\n",
            "label shape:  torch.Size([64])\n",
            "output shape:  torch.Size([64, 11])\n",
            "label shape:  torch.Size([64])\n",
            "output shape:  torch.Size([64, 11])\n",
            "label shape:  torch.Size([64])\n",
            "output shape:  torch.Size([64, 11])\n",
            "label shape:  torch.Size([64])\n",
            "output shape:  torch.Size([64, 11])\n",
            "label shape:  torch.Size([64])\n",
            "output shape:  torch.Size([64, 11])\n",
            "label shape:  torch.Size([64])\n",
            "output shape:  torch.Size([64, 11])\n",
            "label shape:  torch.Size([64])\n",
            "output shape:  torch.Size([64, 11])\n",
            "label shape:  torch.Size([64])\n",
            "output shape:  torch.Size([64, 11])\n",
            "label shape:  torch.Size([64])\n",
            "output shape:  torch.Size([64, 11])\n",
            "label shape:  torch.Size([64])\n",
            "output shape:  torch.Size([64, 11])\n",
            "label shape:  torch.Size([64])\n",
            "output shape:  torch.Size([64, 11])\n",
            "label shape:  torch.Size([64])\n",
            "output shape:  torch.Size([64, 11])\n",
            "label shape:  torch.Size([64])\n",
            "output shape:  torch.Size([64, 11])\n",
            "label shape:  torch.Size([64])\n",
            "output shape:  torch.Size([64, 11])\n",
            "label shape:  torch.Size([64])\n",
            "output shape:  torch.Size([64, 11])\n",
            "label shape:  torch.Size([64])\n",
            "output shape:  torch.Size([64, 11])\n",
            "label shape:  torch.Size([64])\n",
            "output shape:  torch.Size([64, 11])\n",
            "label shape:  torch.Size([64])\n",
            "output shape:  torch.Size([64, 11])\n",
            "label shape:  torch.Size([64])\n",
            "output shape:  torch.Size([64, 11])\n",
            "label shape:  torch.Size([64])\n",
            "output shape:  torch.Size([64, 11])\n",
            "label shape:  torch.Size([64])\n",
            "output shape:  torch.Size([64, 11])\n",
            "label shape:  torch.Size([64])\n",
            "output shape:  torch.Size([64, 11])\n",
            "label shape:  torch.Size([64])\n",
            "output shape:  torch.Size([64, 11])\n",
            "label shape:  torch.Size([64])\n",
            "output shape:  torch.Size([64, 11])\n",
            "label shape:  torch.Size([64])\n",
            "output shape:  torch.Size([64, 11])\n",
            "label shape:  torch.Size([64])\n",
            "output shape:  torch.Size([64, 11])\n",
            "label shape:  torch.Size([64])\n",
            "output shape:  torch.Size([64, 11])\n",
            "label shape:  torch.Size([64])\n",
            "output shape:  torch.Size([64, 11])\n",
            "label shape:  torch.Size([64])\n",
            "output shape:  torch.Size([64, 11])\n",
            "label shape:  torch.Size([64])\n",
            "output shape:  torch.Size([64, 11])\n",
            "label shape:  torch.Size([64])\n",
            "output shape:  torch.Size([64, 11])\n",
            "label shape:  torch.Size([64])\n",
            "output shape:  torch.Size([64, 11])\n",
            "label shape:  torch.Size([64])\n",
            "output shape:  torch.Size([64, 11])\n",
            "label shape:  torch.Size([64])\n",
            "output shape:  torch.Size([64, 11])\n",
            "label shape:  torch.Size([64])\n",
            "output shape:  torch.Size([64, 11])\n",
            "label shape:  torch.Size([64])\n",
            "output shape:  torch.Size([64, 11])\n",
            "label shape:  torch.Size([64])\n",
            "output shape:  torch.Size([64, 11])\n",
            "label shape:  torch.Size([64])\n",
            "output shape:  torch.Size([64, 11])\n",
            "label shape:  torch.Size([64])\n",
            "output shape:  torch.Size([64, 11])\n",
            "label shape:  torch.Size([64])\n",
            "output shape:  torch.Size([64, 11])\n",
            "label shape:  torch.Size([64])\n",
            "output shape:  torch.Size([64, 11])\n",
            "label shape:  torch.Size([64])\n",
            "output shape:  torch.Size([64, 11])\n",
            "label shape:  torch.Size([64])\n",
            "output shape:  torch.Size([64, 11])\n",
            "label shape:  torch.Size([64])\n",
            "output shape:  torch.Size([64, 11])\n",
            "label shape:  torch.Size([64])\n",
            "output shape:  torch.Size([64, 11])\n",
            "label shape:  torch.Size([64])\n",
            "output shape:  torch.Size([64, 11])\n",
            "label shape:  torch.Size([64])\n",
            "output shape:  torch.Size([64, 11])\n",
            "label shape:  torch.Size([64])\n",
            "output shape:  torch.Size([64, 11])\n",
            "label shape:  torch.Size([64])\n",
            "output shape:  torch.Size([64, 11])\n",
            "label shape:  torch.Size([64])\n",
            "output shape:  torch.Size([64, 11])\n",
            "label shape:  torch.Size([64])\n",
            "output shape:  torch.Size([64, 11])\n",
            "label shape:  torch.Size([64])\n",
            "output shape:  torch.Size([64, 11])\n",
            "label shape:  torch.Size([64])\n",
            "output shape:  torch.Size([64, 11])\n",
            "label shape:  torch.Size([64])\n",
            "output shape:  torch.Size([64, 11])\n",
            "label shape:  torch.Size([64])\n",
            "output shape:  torch.Size([64, 11])\n",
            "label shape:  torch.Size([64])\n",
            "output shape:  torch.Size([64, 11])\n",
            "label shape:  torch.Size([64])\n",
            "output shape:  torch.Size([64, 11])\n",
            "label shape:  torch.Size([64])\n",
            "output shape:  torch.Size([64, 11])\n",
            "label shape:  torch.Size([64])\n",
            "output shape:  torch.Size([64, 11])\n",
            "label shape:  torch.Size([64])\n",
            "output shape:  torch.Size([64, 11])\n",
            "label shape:  torch.Size([64])\n",
            "output shape:  torch.Size([64, 11])\n",
            "label shape:  torch.Size([64])\n",
            "output shape:  torch.Size([64, 11])\n",
            "label shape:  torch.Size([64])\n",
            "output shape:  torch.Size([64, 11])\n",
            "label shape:  torch.Size([64])\n",
            "output shape:  torch.Size([64, 11])\n",
            "label shape:  torch.Size([64])\n",
            "output shape:  torch.Size([64, 11])\n",
            "label shape:  torch.Size([64])\n",
            "output shape:  torch.Size([64, 11])\n",
            "label shape:  torch.Size([64])\n",
            "output shape:  torch.Size([64, 11])\n",
            "label shape:  torch.Size([64])\n",
            "output shape:  torch.Size([64, 11])\n",
            "label shape:  torch.Size([64])\n",
            "output shape:  torch.Size([64, 11])\n",
            "label shape:  torch.Size([64])\n",
            "output shape:  torch.Size([64, 11])\n",
            "label shape:  torch.Size([64])\n",
            "output shape:  torch.Size([64, 11])\n",
            "label shape:  torch.Size([64])\n",
            "output shape:  torch.Size([64, 11])\n",
            "label shape:  torch.Size([64])\n",
            "output shape:  torch.Size([64, 11])\n",
            "label shape:  torch.Size([64])\n",
            "output shape:  torch.Size([64, 11])\n",
            "label shape:  torch.Size([64])\n",
            "output shape:  torch.Size([64, 11])\n",
            "label shape:  torch.Size([64])\n",
            "output shape:  torch.Size([64, 11])\n",
            "label shape:  torch.Size([64])\n",
            "output shape:  torch.Size([64, 11])\n",
            "label shape:  torch.Size([64])\n",
            "output shape:  torch.Size([64, 11])\n",
            "label shape:  torch.Size([64])\n",
            "output shape:  torch.Size([64, 11])\n",
            "label shape:  torch.Size([64])\n",
            "output shape:  torch.Size([64, 11])\n",
            "label shape:  torch.Size([64])\n",
            "output shape:  torch.Size([64, 11])\n",
            "label shape:  torch.Size([64])\n",
            "output shape:  torch.Size([64, 11])\n",
            "label shape:  torch.Size([64])\n",
            "output shape:  torch.Size([64, 11])\n",
            "label shape:  torch.Size([64])\n",
            "output shape:  torch.Size([64, 11])\n",
            "label shape:  torch.Size([64])\n",
            "output shape:  torch.Size([64, 11])\n",
            "label shape:  torch.Size([64])\n",
            "output shape:  torch.Size([64, 11])\n",
            "label shape:  torch.Size([64])\n",
            "output shape:  torch.Size([64, 11])\n",
            "label shape:  torch.Size([64])\n",
            "output shape:  torch.Size([64, 11])\n",
            "label shape:  torch.Size([64])\n",
            "output shape:  torch.Size([64, 11])\n",
            "label shape:  torch.Size([64])\n",
            "output shape:  torch.Size([64, 11])\n",
            "label shape:  torch.Size([64])\n",
            "output shape:  torch.Size([64, 11])\n",
            "label shape:  torch.Size([64])\n",
            "output shape:  torch.Size([64, 11])\n",
            "label shape:  torch.Size([64])\n",
            "output shape:  torch.Size([64, 11])\n",
            "label shape:  torch.Size([64])\n",
            "output shape:  torch.Size([64, 11])\n",
            "label shape:  torch.Size([64])\n",
            "output shape:  torch.Size([64, 11])\n",
            "label shape:  torch.Size([64])\n",
            "output shape:  torch.Size([64, 11])\n",
            "label shape:  torch.Size([64])\n",
            "output shape:  torch.Size([64, 11])\n",
            "label shape:  torch.Size([64])\n",
            "output shape:  torch.Size([64, 11])\n",
            "label shape:  torch.Size([64])\n",
            "output shape:  torch.Size([64, 11])\n",
            "label shape:  torch.Size([64])\n",
            "output shape:  torch.Size([64, 11])\n",
            "label shape:  torch.Size([64])\n",
            "output shape:  torch.Size([64, 11])\n",
            "label shape:  torch.Size([64])\n",
            "output shape:  torch.Size([64, 11])\n",
            "label shape:  torch.Size([64])\n",
            "output shape:  torch.Size([64, 11])\n",
            "label shape:  torch.Size([64])\n",
            "output shape:  torch.Size([64, 11])\n",
            "label shape:  torch.Size([64])\n",
            "output shape:  torch.Size([64, 11])\n",
            "label shape:  torch.Size([64])\n",
            "output shape:  torch.Size([64, 11])\n",
            "label shape:  torch.Size([64])\n",
            "output shape:  torch.Size([64, 11])\n",
            "label shape:  torch.Size([64])\n",
            "output shape:  torch.Size([64, 11])\n",
            "label shape:  torch.Size([64])\n",
            "output shape:  torch.Size([64, 11])\n",
            "label shape:  torch.Size([64])\n",
            "output shape:  torch.Size([64, 11])\n",
            "label shape:  torch.Size([64])\n",
            "output shape:  torch.Size([64, 11])\n",
            "label shape:  torch.Size([64])\n",
            "output shape:  torch.Size([64, 11])\n",
            "label shape:  torch.Size([64])\n",
            "output shape:  torch.Size([64, 11])\n",
            "label shape:  torch.Size([64])\n",
            "output shape:  torch.Size([64, 11])\n",
            "label shape:  torch.Size([64])\n",
            "output shape:  torch.Size([64, 11])\n",
            "label shape:  torch.Size([64])\n",
            "output shape:  torch.Size([64, 11])\n",
            "label shape:  torch.Size([64])\n",
            "output shape:  torch.Size([64, 11])\n",
            "label shape:  torch.Size([64])\n",
            "output shape:  torch.Size([64, 11])\n",
            "label shape:  torch.Size([64])\n",
            "output shape:  torch.Size([64, 11])\n",
            "label shape:  torch.Size([64])\n",
            "output shape:  torch.Size([64, 11])\n",
            "label shape:  torch.Size([64])\n",
            "output shape:  torch.Size([64, 11])\n",
            "label shape:  torch.Size([64])\n",
            "output shape:  torch.Size([64, 11])\n",
            "label shape:  torch.Size([64])\n",
            "output shape:  torch.Size([64, 11])\n",
            "label shape:  torch.Size([64])\n",
            "output shape:  torch.Size([64, 11])\n",
            "label shape:  torch.Size([64])\n",
            "output shape:  torch.Size([64, 11])\n",
            "label shape:  torch.Size([64])\n",
            "output shape:  torch.Size([64, 11])\n",
            "label shape:  torch.Size([64])\n",
            "output shape:  torch.Size([64, 11])\n",
            "label shape:  torch.Size([64])\n",
            "output shape:  torch.Size([64, 11])\n",
            "label shape:  torch.Size([64])\n",
            "output shape:  torch.Size([64, 11])\n",
            "label shape:  torch.Size([64])\n",
            "output shape:  torch.Size([64, 11])\n",
            "label shape:  torch.Size([64])\n",
            "output shape:  torch.Size([64, 11])\n",
            "label shape:  torch.Size([64])\n",
            "output shape:  torch.Size([64, 11])\n",
            "label shape:  torch.Size([64])\n",
            "output shape:  torch.Size([64, 11])\n",
            "label shape:  torch.Size([64])\n",
            "output shape:  torch.Size([64, 11])\n",
            "label shape:  torch.Size([64])\n",
            "output shape:  torch.Size([64, 11])\n",
            "label shape:  torch.Size([64])\n",
            "output shape:  torch.Size([64, 11])\n",
            "label shape:  torch.Size([64])\n",
            "output shape:  torch.Size([64, 11])\n",
            "label shape:  torch.Size([64])\n",
            "output shape:  torch.Size([64, 11])\n",
            "label shape:  torch.Size([64])\n",
            "output shape:  torch.Size([64, 11])\n",
            "label shape:  torch.Size([64])\n",
            "output shape:  torch.Size([64, 11])\n",
            "label shape:  torch.Size([64])\n",
            "output shape:  torch.Size([64, 11])\n",
            "label shape:  torch.Size([64])\n",
            "output shape:  torch.Size([64, 11])\n",
            "label shape:  torch.Size([64])\n",
            "output shape:  torch.Size([64, 11])\n",
            "label shape:  torch.Size([64])\n",
            "output shape:  torch.Size([64, 11])\n",
            "label shape:  torch.Size([64])\n",
            "output shape:  torch.Size([64, 11])\n",
            "label shape:  torch.Size([64])\n",
            "output shape:  torch.Size([64, 11])\n",
            "label shape:  torch.Size([64])\n",
            "output shape:  torch.Size([64, 11])\n",
            "label shape:  torch.Size([64])\n",
            "output shape:  torch.Size([64, 11])\n",
            "label shape:  torch.Size([64])\n",
            "output shape:  torch.Size([64, 11])\n",
            "label shape:  torch.Size([64])\n",
            "output shape:  torch.Size([64, 11])\n",
            "label shape:  torch.Size([64])\n",
            "output shape:  torch.Size([64, 11])\n",
            "label shape:  torch.Size([64])\n",
            "output shape:  torch.Size([64, 11])\n",
            "label shape:  torch.Size([64])\n",
            "output shape:  torch.Size([64, 11])\n",
            "label shape:  torch.Size([64])\n",
            "output shape:  torch.Size([64, 11])\n",
            "label shape:  torch.Size([64])\n",
            "output shape:  torch.Size([64, 11])\n",
            "label shape:  torch.Size([64])\n",
            "output shape:  torch.Size([64, 11])\n",
            "label shape:  torch.Size([64])\n",
            "output shape:  torch.Size([64, 11])\n",
            "label shape:  torch.Size([64])\n",
            "output shape:  torch.Size([64, 11])\n",
            "label shape:  torch.Size([64])\n",
            "output shape:  torch.Size([64, 11])\n",
            "label shape:  torch.Size([64])\n",
            "output shape:  torch.Size([64, 11])\n",
            "label shape:  torch.Size([64])\n",
            "output shape:  torch.Size([64, 11])\n",
            "label shape:  torch.Size([64])\n",
            "output shape:  torch.Size([64, 11])\n",
            "label shape:  torch.Size([64])\n",
            "output shape:  torch.Size([64, 11])\n",
            "label shape:  torch.Size([64])\n",
            "output shape:  torch.Size([64, 11])\n",
            "label shape:  torch.Size([64])\n",
            "output shape:  torch.Size([64, 11])\n",
            "label shape:  torch.Size([64])\n",
            "output shape:  torch.Size([64, 11])\n",
            "label shape:  torch.Size([64])\n",
            "output shape:  torch.Size([64, 11])\n",
            "label shape:  torch.Size([64])\n",
            "output shape:  torch.Size([64, 11])\n",
            "label shape:  torch.Size([64])\n",
            "output shape:  torch.Size([64, 11])\n",
            "label shape:  torch.Size([64])\n",
            "output shape:  torch.Size([64, 11])\n",
            "label shape:  torch.Size([64])\n",
            "output shape:  torch.Size([64, 11])\n",
            "label shape:  torch.Size([64])\n",
            "output shape:  torch.Size([64, 11])\n",
            "label shape:  torch.Size([64])\n",
            "output shape:  torch.Size([64, 11])\n",
            "label shape:  torch.Size([64])\n",
            "output shape:  torch.Size([64, 11])\n",
            "label shape:  torch.Size([64])\n",
            "output shape:  torch.Size([64, 11])\n",
            "label shape:  torch.Size([64])\n",
            "output shape:  torch.Size([64, 11])\n",
            "label shape:  torch.Size([64])\n"
          ],
          "name": "stdout"
        },
        {
          "output_type": "error",
          "ename": "KeyboardInterrupt",
          "evalue": "ignored",
          "traceback": [
            "\u001b[0;31m---------------------------------------------------------------------------\u001b[0m",
            "\u001b[0;31mKeyboardInterrupt\u001b[0m                         Traceback (most recent call last)",
            "\u001b[0;32m<ipython-input-9-8ab379053f4e>\u001b[0m in \u001b[0;36m<module>\u001b[0;34m()\u001b[0m\n\u001b[1;32m      5\u001b[0m     \u001b[0mrunning_loss\u001b[0m \u001b[0;34m=\u001b[0m \u001b[0;36m0\u001b[0m\u001b[0;34m\u001b[0m\u001b[0;34m\u001b[0m\u001b[0m\n\u001b[1;32m      6\u001b[0m \u001b[0;34m\u001b[0m\u001b[0m\n\u001b[0;32m----> 7\u001b[0;31m     \u001b[0;32mfor\u001b[0m \u001b[0mimages\u001b[0m\u001b[0;34m,\u001b[0m \u001b[0mlabels\u001b[0m \u001b[0;32min\u001b[0m \u001b[0mtrainloader\u001b[0m\u001b[0;34m:\u001b[0m\u001b[0;34m\u001b[0m\u001b[0;34m\u001b[0m\u001b[0m\n\u001b[0m\u001b[1;32m      8\u001b[0m         \u001b[0;31m#lab = torch.zeros(labels.shape[0],2)\u001b[0m\u001b[0;34m\u001b[0m\u001b[0;34m\u001b[0m\u001b[0;34m\u001b[0m\u001b[0m\n\u001b[1;32m      9\u001b[0m         \u001b[0;31m#lab[:,0] = labels\u001b[0m\u001b[0;34m\u001b[0m\u001b[0;34m\u001b[0m\u001b[0;34m\u001b[0m\u001b[0m\n",
            "\u001b[0;32m/usr/local/lib/python3.7/dist-packages/torch/utils/data/dataloader.py\u001b[0m in \u001b[0;36m__next__\u001b[0;34m(self)\u001b[0m\n\u001b[1;32m    433\u001b[0m         \u001b[0;32mif\u001b[0m \u001b[0mself\u001b[0m\u001b[0;34m.\u001b[0m\u001b[0m_sampler_iter\u001b[0m \u001b[0;32mis\u001b[0m \u001b[0;32mNone\u001b[0m\u001b[0;34m:\u001b[0m\u001b[0;34m\u001b[0m\u001b[0;34m\u001b[0m\u001b[0m\n\u001b[1;32m    434\u001b[0m             \u001b[0mself\u001b[0m\u001b[0;34m.\u001b[0m\u001b[0m_reset\u001b[0m\u001b[0;34m(\u001b[0m\u001b[0;34m)\u001b[0m\u001b[0;34m\u001b[0m\u001b[0;34m\u001b[0m\u001b[0m\n\u001b[0;32m--> 435\u001b[0;31m         \u001b[0mdata\u001b[0m \u001b[0;34m=\u001b[0m \u001b[0mself\u001b[0m\u001b[0;34m.\u001b[0m\u001b[0m_next_data\u001b[0m\u001b[0;34m(\u001b[0m\u001b[0;34m)\u001b[0m\u001b[0;34m\u001b[0m\u001b[0;34m\u001b[0m\u001b[0m\n\u001b[0m\u001b[1;32m    436\u001b[0m         \u001b[0mself\u001b[0m\u001b[0;34m.\u001b[0m\u001b[0m_num_yielded\u001b[0m \u001b[0;34m+=\u001b[0m \u001b[0;36m1\u001b[0m\u001b[0;34m\u001b[0m\u001b[0;34m\u001b[0m\u001b[0m\n\u001b[1;32m    437\u001b[0m         \u001b[0;32mif\u001b[0m \u001b[0mself\u001b[0m\u001b[0;34m.\u001b[0m\u001b[0m_dataset_kind\u001b[0m \u001b[0;34m==\u001b[0m \u001b[0m_DatasetKind\u001b[0m\u001b[0;34m.\u001b[0m\u001b[0mIterable\u001b[0m \u001b[0;32mand\u001b[0m\u001b[0;31m \u001b[0m\u001b[0;31m\\\u001b[0m\u001b[0;34m\u001b[0m\u001b[0;34m\u001b[0m\u001b[0m\n",
            "\u001b[0;32m/usr/local/lib/python3.7/dist-packages/torch/utils/data/dataloader.py\u001b[0m in \u001b[0;36m_next_data\u001b[0;34m(self)\u001b[0m\n\u001b[1;32m    473\u001b[0m     \u001b[0;32mdef\u001b[0m \u001b[0m_next_data\u001b[0m\u001b[0;34m(\u001b[0m\u001b[0mself\u001b[0m\u001b[0;34m)\u001b[0m\u001b[0;34m:\u001b[0m\u001b[0;34m\u001b[0m\u001b[0;34m\u001b[0m\u001b[0m\n\u001b[1;32m    474\u001b[0m         \u001b[0mindex\u001b[0m \u001b[0;34m=\u001b[0m \u001b[0mself\u001b[0m\u001b[0;34m.\u001b[0m\u001b[0m_next_index\u001b[0m\u001b[0;34m(\u001b[0m\u001b[0;34m)\u001b[0m  \u001b[0;31m# may raise StopIteration\u001b[0m\u001b[0;34m\u001b[0m\u001b[0;34m\u001b[0m\u001b[0m\n\u001b[0;32m--> 475\u001b[0;31m         \u001b[0mdata\u001b[0m \u001b[0;34m=\u001b[0m \u001b[0mself\u001b[0m\u001b[0;34m.\u001b[0m\u001b[0m_dataset_fetcher\u001b[0m\u001b[0;34m.\u001b[0m\u001b[0mfetch\u001b[0m\u001b[0;34m(\u001b[0m\u001b[0mindex\u001b[0m\u001b[0;34m)\u001b[0m  \u001b[0;31m# may raise StopIteration\u001b[0m\u001b[0;34m\u001b[0m\u001b[0;34m\u001b[0m\u001b[0m\n\u001b[0m\u001b[1;32m    476\u001b[0m         \u001b[0;32mif\u001b[0m \u001b[0mself\u001b[0m\u001b[0;34m.\u001b[0m\u001b[0m_pin_memory\u001b[0m\u001b[0;34m:\u001b[0m\u001b[0;34m\u001b[0m\u001b[0;34m\u001b[0m\u001b[0m\n\u001b[1;32m    477\u001b[0m             \u001b[0mdata\u001b[0m \u001b[0;34m=\u001b[0m \u001b[0m_utils\u001b[0m\u001b[0;34m.\u001b[0m\u001b[0mpin_memory\u001b[0m\u001b[0;34m.\u001b[0m\u001b[0mpin_memory\u001b[0m\u001b[0;34m(\u001b[0m\u001b[0mdata\u001b[0m\u001b[0;34m)\u001b[0m\u001b[0;34m\u001b[0m\u001b[0;34m\u001b[0m\u001b[0m\n",
            "\u001b[0;32m/usr/local/lib/python3.7/dist-packages/torch/utils/data/_utils/fetch.py\u001b[0m in \u001b[0;36mfetch\u001b[0;34m(self, possibly_batched_index)\u001b[0m\n\u001b[1;32m     42\u001b[0m     \u001b[0;32mdef\u001b[0m \u001b[0mfetch\u001b[0m\u001b[0;34m(\u001b[0m\u001b[0mself\u001b[0m\u001b[0;34m,\u001b[0m \u001b[0mpossibly_batched_index\u001b[0m\u001b[0;34m)\u001b[0m\u001b[0;34m:\u001b[0m\u001b[0;34m\u001b[0m\u001b[0;34m\u001b[0m\u001b[0m\n\u001b[1;32m     43\u001b[0m         \u001b[0;32mif\u001b[0m \u001b[0mself\u001b[0m\u001b[0;34m.\u001b[0m\u001b[0mauto_collation\u001b[0m\u001b[0;34m:\u001b[0m\u001b[0;34m\u001b[0m\u001b[0;34m\u001b[0m\u001b[0m\n\u001b[0;32m---> 44\u001b[0;31m             \u001b[0mdata\u001b[0m \u001b[0;34m=\u001b[0m \u001b[0;34m[\u001b[0m\u001b[0mself\u001b[0m\u001b[0;34m.\u001b[0m\u001b[0mdataset\u001b[0m\u001b[0;34m[\u001b[0m\u001b[0midx\u001b[0m\u001b[0;34m]\u001b[0m \u001b[0;32mfor\u001b[0m \u001b[0midx\u001b[0m \u001b[0;32min\u001b[0m \u001b[0mpossibly_batched_index\u001b[0m\u001b[0;34m]\u001b[0m\u001b[0;34m\u001b[0m\u001b[0;34m\u001b[0m\u001b[0m\n\u001b[0m\u001b[1;32m     45\u001b[0m         \u001b[0;32melse\u001b[0m\u001b[0;34m:\u001b[0m\u001b[0;34m\u001b[0m\u001b[0;34m\u001b[0m\u001b[0m\n\u001b[1;32m     46\u001b[0m             \u001b[0mdata\u001b[0m \u001b[0;34m=\u001b[0m \u001b[0mself\u001b[0m\u001b[0;34m.\u001b[0m\u001b[0mdataset\u001b[0m\u001b[0;34m[\u001b[0m\u001b[0mpossibly_batched_index\u001b[0m\u001b[0;34m]\u001b[0m\u001b[0;34m\u001b[0m\u001b[0;34m\u001b[0m\u001b[0m\n",
            "\u001b[0;32m/usr/local/lib/python3.7/dist-packages/torch/utils/data/_utils/fetch.py\u001b[0m in \u001b[0;36m<listcomp>\u001b[0;34m(.0)\u001b[0m\n\u001b[1;32m     42\u001b[0m     \u001b[0;32mdef\u001b[0m \u001b[0mfetch\u001b[0m\u001b[0;34m(\u001b[0m\u001b[0mself\u001b[0m\u001b[0;34m,\u001b[0m \u001b[0mpossibly_batched_index\u001b[0m\u001b[0;34m)\u001b[0m\u001b[0;34m:\u001b[0m\u001b[0;34m\u001b[0m\u001b[0;34m\u001b[0m\u001b[0m\n\u001b[1;32m     43\u001b[0m         \u001b[0;32mif\u001b[0m \u001b[0mself\u001b[0m\u001b[0;34m.\u001b[0m\u001b[0mauto_collation\u001b[0m\u001b[0;34m:\u001b[0m\u001b[0;34m\u001b[0m\u001b[0;34m\u001b[0m\u001b[0m\n\u001b[0;32m---> 44\u001b[0;31m             \u001b[0mdata\u001b[0m \u001b[0;34m=\u001b[0m \u001b[0;34m[\u001b[0m\u001b[0mself\u001b[0m\u001b[0;34m.\u001b[0m\u001b[0mdataset\u001b[0m\u001b[0;34m[\u001b[0m\u001b[0midx\u001b[0m\u001b[0;34m]\u001b[0m \u001b[0;32mfor\u001b[0m \u001b[0midx\u001b[0m \u001b[0;32min\u001b[0m \u001b[0mpossibly_batched_index\u001b[0m\u001b[0;34m]\u001b[0m\u001b[0;34m\u001b[0m\u001b[0;34m\u001b[0m\u001b[0m\n\u001b[0m\u001b[1;32m     45\u001b[0m         \u001b[0;32melse\u001b[0m\u001b[0;34m:\u001b[0m\u001b[0;34m\u001b[0m\u001b[0;34m\u001b[0m\u001b[0m\n\u001b[1;32m     46\u001b[0m             \u001b[0mdata\u001b[0m \u001b[0;34m=\u001b[0m \u001b[0mself\u001b[0m\u001b[0;34m.\u001b[0m\u001b[0mdataset\u001b[0m\u001b[0;34m[\u001b[0m\u001b[0mpossibly_batched_index\u001b[0m\u001b[0;34m]\u001b[0m\u001b[0;34m\u001b[0m\u001b[0;34m\u001b[0m\u001b[0m\n",
            "\u001b[0;32m/usr/local/lib/python3.7/dist-packages/torchvision/datasets/mnist.py\u001b[0m in \u001b[0;36m__getitem__\u001b[0;34m(self, index)\u001b[0m\n\u001b[1;32m    104\u001b[0m \u001b[0;34m\u001b[0m\u001b[0m\n\u001b[1;32m    105\u001b[0m         \u001b[0;32mif\u001b[0m \u001b[0mself\u001b[0m\u001b[0;34m.\u001b[0m\u001b[0mtransform\u001b[0m \u001b[0;32mis\u001b[0m \u001b[0;32mnot\u001b[0m \u001b[0;32mNone\u001b[0m\u001b[0;34m:\u001b[0m\u001b[0;34m\u001b[0m\u001b[0;34m\u001b[0m\u001b[0m\n\u001b[0;32m--> 106\u001b[0;31m             \u001b[0mimg\u001b[0m \u001b[0;34m=\u001b[0m \u001b[0mself\u001b[0m\u001b[0;34m.\u001b[0m\u001b[0mtransform\u001b[0m\u001b[0;34m(\u001b[0m\u001b[0mimg\u001b[0m\u001b[0;34m)\u001b[0m\u001b[0;34m\u001b[0m\u001b[0;34m\u001b[0m\u001b[0m\n\u001b[0m\u001b[1;32m    107\u001b[0m \u001b[0;34m\u001b[0m\u001b[0m\n\u001b[1;32m    108\u001b[0m         \u001b[0;32mif\u001b[0m \u001b[0mself\u001b[0m\u001b[0;34m.\u001b[0m\u001b[0mtarget_transform\u001b[0m \u001b[0;32mis\u001b[0m \u001b[0;32mnot\u001b[0m \u001b[0;32mNone\u001b[0m\u001b[0;34m:\u001b[0m\u001b[0;34m\u001b[0m\u001b[0;34m\u001b[0m\u001b[0m\n",
            "\u001b[0;32m/usr/local/lib/python3.7/dist-packages/torchvision/transforms/transforms.py\u001b[0m in \u001b[0;36m__call__\u001b[0;34m(self, img)\u001b[0m\n\u001b[1;32m     65\u001b[0m     \u001b[0;32mdef\u001b[0m \u001b[0m__call__\u001b[0m\u001b[0;34m(\u001b[0m\u001b[0mself\u001b[0m\u001b[0;34m,\u001b[0m \u001b[0mimg\u001b[0m\u001b[0;34m)\u001b[0m\u001b[0;34m:\u001b[0m\u001b[0;34m\u001b[0m\u001b[0;34m\u001b[0m\u001b[0m\n\u001b[1;32m     66\u001b[0m         \u001b[0;32mfor\u001b[0m \u001b[0mt\u001b[0m \u001b[0;32min\u001b[0m \u001b[0mself\u001b[0m\u001b[0;34m.\u001b[0m\u001b[0mtransforms\u001b[0m\u001b[0;34m:\u001b[0m\u001b[0;34m\u001b[0m\u001b[0;34m\u001b[0m\u001b[0m\n\u001b[0;32m---> 67\u001b[0;31m             \u001b[0mimg\u001b[0m \u001b[0;34m=\u001b[0m \u001b[0mt\u001b[0m\u001b[0;34m(\u001b[0m\u001b[0mimg\u001b[0m\u001b[0;34m)\u001b[0m\u001b[0;34m\u001b[0m\u001b[0;34m\u001b[0m\u001b[0m\n\u001b[0m\u001b[1;32m     68\u001b[0m         \u001b[0;32mreturn\u001b[0m \u001b[0mimg\u001b[0m\u001b[0;34m\u001b[0m\u001b[0;34m\u001b[0m\u001b[0m\n\u001b[1;32m     69\u001b[0m \u001b[0;34m\u001b[0m\u001b[0m\n",
            "\u001b[0;32m/usr/local/lib/python3.7/dist-packages/torch/nn/modules/module.py\u001b[0m in \u001b[0;36m_call_impl\u001b[0;34m(self, *input, **kwargs)\u001b[0m\n\u001b[1;32m    725\u001b[0m             \u001b[0mresult\u001b[0m \u001b[0;34m=\u001b[0m \u001b[0mself\u001b[0m\u001b[0;34m.\u001b[0m\u001b[0m_slow_forward\u001b[0m\u001b[0;34m(\u001b[0m\u001b[0;34m*\u001b[0m\u001b[0minput\u001b[0m\u001b[0;34m,\u001b[0m \u001b[0;34m**\u001b[0m\u001b[0mkwargs\u001b[0m\u001b[0;34m)\u001b[0m\u001b[0;34m\u001b[0m\u001b[0;34m\u001b[0m\u001b[0m\n\u001b[1;32m    726\u001b[0m         \u001b[0;32melse\u001b[0m\u001b[0;34m:\u001b[0m\u001b[0;34m\u001b[0m\u001b[0;34m\u001b[0m\u001b[0m\n\u001b[0;32m--> 727\u001b[0;31m             \u001b[0mresult\u001b[0m \u001b[0;34m=\u001b[0m \u001b[0mself\u001b[0m\u001b[0;34m.\u001b[0m\u001b[0mforward\u001b[0m\u001b[0;34m(\u001b[0m\u001b[0;34m*\u001b[0m\u001b[0minput\u001b[0m\u001b[0;34m,\u001b[0m \u001b[0;34m**\u001b[0m\u001b[0mkwargs\u001b[0m\u001b[0;34m)\u001b[0m\u001b[0;34m\u001b[0m\u001b[0;34m\u001b[0m\u001b[0m\n\u001b[0m\u001b[1;32m    728\u001b[0m         for hook in itertools.chain(\n\u001b[1;32m    729\u001b[0m                 \u001b[0m_global_forward_hooks\u001b[0m\u001b[0;34m.\u001b[0m\u001b[0mvalues\u001b[0m\u001b[0;34m(\u001b[0m\u001b[0;34m)\u001b[0m\u001b[0;34m,\u001b[0m\u001b[0;34m\u001b[0m\u001b[0;34m\u001b[0m\u001b[0m\n",
            "\u001b[0;32m/usr/local/lib/python3.7/dist-packages/torchvision/transforms/transforms.py\u001b[0m in \u001b[0;36mforward\u001b[0;34m(self, tensor)\u001b[0m\n\u001b[1;32m    224\u001b[0m             \u001b[0mTensor\u001b[0m\u001b[0;34m:\u001b[0m \u001b[0mNormalized\u001b[0m \u001b[0mTensor\u001b[0m \u001b[0mimage\u001b[0m\u001b[0;34m.\u001b[0m\u001b[0;34m\u001b[0m\u001b[0;34m\u001b[0m\u001b[0m\n\u001b[1;32m    225\u001b[0m         \"\"\"\n\u001b[0;32m--> 226\u001b[0;31m         \u001b[0;32mreturn\u001b[0m \u001b[0mF\u001b[0m\u001b[0;34m.\u001b[0m\u001b[0mnormalize\u001b[0m\u001b[0;34m(\u001b[0m\u001b[0mtensor\u001b[0m\u001b[0;34m,\u001b[0m \u001b[0mself\u001b[0m\u001b[0;34m.\u001b[0m\u001b[0mmean\u001b[0m\u001b[0;34m,\u001b[0m \u001b[0mself\u001b[0m\u001b[0;34m.\u001b[0m\u001b[0mstd\u001b[0m\u001b[0;34m,\u001b[0m \u001b[0mself\u001b[0m\u001b[0;34m.\u001b[0m\u001b[0minplace\u001b[0m\u001b[0;34m)\u001b[0m\u001b[0;34m\u001b[0m\u001b[0;34m\u001b[0m\u001b[0m\n\u001b[0m\u001b[1;32m    227\u001b[0m \u001b[0;34m\u001b[0m\u001b[0m\n\u001b[1;32m    228\u001b[0m     \u001b[0;32mdef\u001b[0m \u001b[0m__repr__\u001b[0m\u001b[0;34m(\u001b[0m\u001b[0mself\u001b[0m\u001b[0;34m)\u001b[0m\u001b[0;34m:\u001b[0m\u001b[0;34m\u001b[0m\u001b[0;34m\u001b[0m\u001b[0m\n",
            "\u001b[0;32m/usr/local/lib/python3.7/dist-packages/torchvision/transforms/functional.py\u001b[0m in \u001b[0;36mnormalize\u001b[0;34m(tensor, mean, std, inplace)\u001b[0m\n\u001b[1;32m    282\u001b[0m     \u001b[0;32mif\u001b[0m \u001b[0mstd\u001b[0m\u001b[0;34m.\u001b[0m\u001b[0mndim\u001b[0m \u001b[0;34m==\u001b[0m \u001b[0;36m1\u001b[0m\u001b[0;34m:\u001b[0m\u001b[0;34m\u001b[0m\u001b[0;34m\u001b[0m\u001b[0m\n\u001b[1;32m    283\u001b[0m         \u001b[0mstd\u001b[0m \u001b[0;34m=\u001b[0m \u001b[0mstd\u001b[0m\u001b[0;34m.\u001b[0m\u001b[0mview\u001b[0m\u001b[0;34m(\u001b[0m\u001b[0;34m-\u001b[0m\u001b[0;36m1\u001b[0m\u001b[0;34m,\u001b[0m \u001b[0;36m1\u001b[0m\u001b[0;34m,\u001b[0m \u001b[0;36m1\u001b[0m\u001b[0;34m)\u001b[0m\u001b[0;34m\u001b[0m\u001b[0;34m\u001b[0m\u001b[0m\n\u001b[0;32m--> 284\u001b[0;31m     \u001b[0mtensor\u001b[0m\u001b[0;34m.\u001b[0m\u001b[0msub_\u001b[0m\u001b[0;34m(\u001b[0m\u001b[0mmean\u001b[0m\u001b[0;34m)\u001b[0m\u001b[0;34m.\u001b[0m\u001b[0mdiv_\u001b[0m\u001b[0;34m(\u001b[0m\u001b[0mstd\u001b[0m\u001b[0;34m)\u001b[0m\u001b[0;34m\u001b[0m\u001b[0;34m\u001b[0m\u001b[0m\n\u001b[0m\u001b[1;32m    285\u001b[0m     \u001b[0;32mreturn\u001b[0m \u001b[0mtensor\u001b[0m\u001b[0;34m\u001b[0m\u001b[0;34m\u001b[0m\u001b[0m\n\u001b[1;32m    286\u001b[0m \u001b[0;34m\u001b[0m\u001b[0m\n",
            "\u001b[0;31mKeyboardInterrupt\u001b[0m: "
          ]
        }
      ]
    },
    {
      "cell_type": "code",
      "metadata": {
        "colab": {
          "base_uri": "https://localhost:8080/"
        },
        "id": "rdDrF3sI_0Zs",
        "outputId": "08568e1f-5f89-421d-ef85-8b591e9b71c0"
      },
      "source": [
        "correct_count, all_count = 0, 0\r\n",
        "for images,labels in valloader:\r\n",
        "    for i in range(len(labels)):\r\n",
        "        if i%5 == 0:\r\n",
        "            img = (images[i]+images[i-1]).view(1, 784)\r\n",
        "            labels[i] = 10\r\n",
        "        else:\r\n",
        "            \r\n",
        "      \r\n",
        "            img = images[i].view(1, 784)\r\n",
        "        with torch.no_grad():\r\n",
        "            logps = model(img)\r\n",
        "\r\n",
        "    \r\n",
        "        ps = torch.exp(logps)\r\n",
        "        probab = list(ps.numpy()[0])\r\n",
        "        pred_label = probab.index(max(probab))\r\n",
        "        true_label = labels.numpy()[i]\r\n",
        "        if(true_label == pred_label):\r\n",
        "            correct_count += 1\r\n",
        "        all_count += 1\r\n",
        "\r\n",
        "print(\"Number Of Images Tested =\", all_count)\r\n",
        "print(\"\\nModel Accuracy =\", (correct_count/all_count))"
      ],
      "execution_count": null,
      "outputs": [
        {
          "output_type": "stream",
          "text": [
            "Number Of Images Tested = 10000\n",
            "\n",
            "Model Accuracy = 0.9837\n"
          ],
          "name": "stdout"
        }
      ]
    },
    {
      "cell_type": "code",
      "metadata": {
        "colab": {
          "base_uri": "https://localhost:8080/"
        },
        "id": "MQM1rGsM5Qiu",
        "outputId": "bb576f97-1c2e-4b3c-a0d6-b722f699de6b"
      },
      "source": [
        "dataiter = iter(valloader)\r\n",
        "vimg,vlab = dataiter.next()\r\n",
        "vlab[2]"
      ],
      "execution_count": null,
      "outputs": [
        {
          "output_type": "execute_result",
          "data": {
            "text/plain": [
              "tensor(6)"
            ]
          },
          "metadata": {
            "tags": []
          },
          "execution_count": 51
        }
      ]
    },
    {
      "cell_type": "code",
      "metadata": {
        "colab": {
          "base_uri": "https://localhost:8080/"
        },
        "id": "TDs8VmQ-6B6r",
        "outputId": "7636ad1a-f1d5-4073-a23b-12a83d34a5a1"
      },
      "source": [
        "img = (vimg[2]).view(1,784)\r\n",
        "with torch.no_grad():\r\n",
        "    logps = model(img)\r\n",
        "ps = torch.exp(logps)\r\n",
        "print(ps)\r\n",
        "probab = list(ps.numpy()[0])\r\n",
        "pred_label = probab.index(max(probab))\r\n",
        "pred_label"
      ],
      "execution_count": null,
      "outputs": [
        {
          "output_type": "stream",
          "text": [
            "tensor([[9.9985e-01, 3.5484e-06, 1.7004e-06, 1.0657e-06, 4.1744e-09, 1.2326e-04,\n",
            "         1.6296e-07, 6.0311e-06, 1.2062e-07, 1.1772e-06, 1.5953e-05]])\n"
          ],
          "name": "stdout"
        },
        {
          "output_type": "execute_result",
          "data": {
            "text/plain": [
              "0"
            ]
          },
          "metadata": {
            "tags": []
          },
          "execution_count": 50
        }
      ]
    },
    {
      "cell_type": "code",
      "metadata": {
        "colab": {
          "base_uri": "https://localhost:8080/"
        },
        "id": "yfYi8yXC_jbX",
        "outputId": "5ad904ae-20c1-40b9-c1a4-b57017e92ff6"
      },
      "source": [
        "correct_count, all_count = 0, 0\r\n",
        "for images,labels in valloader:\r\n",
        "  for i in range(len(labels)):\r\n",
        "      \r\n",
        "    img = images[i].view(1, 784)\r\n",
        "    with torch.no_grad():\r\n",
        "        logps = model(img)\r\n",
        "\r\n",
        "    \r\n",
        "    ps = torch.exp(logps)\r\n",
        "    probab = list(ps.numpy()[0])\r\n",
        "    pred_label = probab.index(max(probab))\r\n",
        "    true_label = labels.numpy()[i]\r\n",
        "    if(true_label == pred_label):\r\n",
        "      correct_count += 1\r\n",
        "    all_count += 1\r\n",
        "\r\n",
        "print(\"Number Of Images Tested =\", all_count)\r\n",
        "print(\"\\nModel Accuracy =\", (correct_count/all_count))"
      ],
      "execution_count": null,
      "outputs": [
        {
          "output_type": "stream",
          "text": [
            "Number Of Images Tested = 10000\n",
            "\n",
            "Model Accuracy = 0.9771\n"
          ],
          "name": "stdout"
        }
      ]
    },
    {
      "cell_type": "code",
      "metadata": {
        "id": "TBzfOPbtAdtY"
      },
      "source": [
        "torch.save(model, '/content/drive/MyDrive/MNISTdata/my_mnist_model_with_11.pt') "
      ],
      "execution_count": null,
      "outputs": []
    },
    {
      "cell_type": "code",
      "metadata": {
        "id": "8uFFNjSqAq5i"
      },
      "source": [
        "import torch\r\n",
        "import torch.nn as nn\r\n",
        "from tqdm import tqdm\r\n",
        "from torch.utils.tensorboard import SummaryWriter\r\n",
        "import numpy as np"
      ],
      "execution_count": null,
      "outputs": []
    },
    {
      "cell_type": "code",
      "metadata": {
        "id": "lRBrPXoteVZ4"
      },
      "source": [
        "\r\n",
        "class Encoder(nn.Module):\r\n",
        "  def __init__(self,device):\r\n",
        "    super().__init__()\r\n",
        "    self.enc1 = nn.Sequential(\r\n",
        "            nn.Conv2d(1, 16, 3, stride=3, padding=1),  # b, 16, 10, 10\r\n",
        "            nn.ReLU(True),\r\n",
        "            nn.MaxPool2d(2, stride=2))  # b, 16, 5, 5\r\n",
        "\r\n",
        "    self.enc2 = nn.Sequential(\r\n",
        "            nn.Conv2d(16, 8, 3, stride=2, padding=1),  # b, 8, 3, 3\r\n",
        "            nn.ReLU(True),\r\n",
        "            nn.MaxPool2d(2, stride=1))  # b, 8, 2, 2\r\n",
        "  def forward(self,x):\r\n",
        "    x=self.enc1(x)\r\n",
        "    #print(x.shape)\r\n",
        "    x=self.enc2(x)\r\n",
        "    #print(x.shape)\r\n",
        "    return x\r\n",
        "\r\n",
        "\r\n",
        "class Decoder(nn.Module):\r\n",
        "  def __init__(self,device):\r\n",
        "    super().__init__()\r\n",
        "    self.dec1 = nn.Sequential(nn.ConvTranspose2d(8, 16, 3, stride=2),  # b, 16, 5, 5\r\n",
        "            nn.ReLU(True))\r\n",
        "    self.dec2 = nn.Sequential(nn.ConvTranspose2d(16, 8, 5, stride=3, padding=1),  # b, 8, 15, 15\r\n",
        "            nn.ReLU(True))\r\n",
        "    self.dec3 = nn.Sequential(nn.ConvTranspose2d(8, 1, 2, stride=2, padding=1),  # b, 1, 28, 28\r\n",
        "            nn.Tanh())\r\n",
        "\r\n",
        "  def forward(self,x):\r\n",
        "    x=self.dec1(x)\r\n",
        "    x=self.dec2(x)\r\n",
        "    x=self.dec3(x)\r\n",
        "    return x\r\n",
        "\r\n",
        "class AutoEncoder(nn.Module):\r\n",
        "  def __init__(self,device):\r\n",
        "    super().__init__()\r\n",
        "    self.enc=Encoder(device).to(device = device)\r\n",
        "    self.dec =Decoder(device).to(device = device)\r\n",
        "  def forward(self,x):\r\n",
        "    enc=self.enc(x)\r\n",
        "    dec=self.dec(enc)\r\n",
        "    return dec\r\n",
        "\r\n",
        "\r\n",
        "\r\n"
      ],
      "execution_count": null,
      "outputs": []
    },
    {
      "cell_type": "code",
      "metadata": {
        "id": "EnJxrF2vPEzL"
      },
      "source": [
        "class Trainer:\r\n",
        "  def __init__(self,trainset,valset):\r\n",
        "    self.device =torch.device(\"cuda:0\" if torch.cuda.is_available() else \"cpu\")\r\n",
        "    self.model = AutoEncoder(self.device).to(device=self.device)\r\n",
        "    self.optimizer = torch.optim.AdamW(self.model.parameters(), lr=0.001)\r\n",
        "    self.trainset=trainset\r\n",
        "    self.valset=valset\r\n",
        "    self.train_loader = torch.utils.data.DataLoader(self.trainset,batch_size=64,shuffle=True,num_workers=2)\r\n",
        "    self.val_loader = torch.utils.data.DataLoader(self.valset,batch_size=64,shuffle=True,num_workers=2)\r\n",
        "    self.writer = SummaryWriter('/content/drive/MyDrive/MNISTdata/tblogs') \r\n",
        "  def train(self,epochs=10):\r\n",
        "    self.model.train()\r\n",
        "    step = 0\r\n",
        "    for epoch in tqdm(range(epochs),unit=\"epochs\"):\r\n",
        "      loss_list =[]\r\n",
        "      for images, labels in self.train_loader:\r\n",
        "        imgs=images.to(self.device)\r\n",
        "        pred = self.model(imgs)\r\n",
        "        losses =self.loss(pred,imgs)\r\n",
        "        self.optimizer.zero_grad()\r\n",
        "        losses.backward()\r\n",
        "        self.optimizer.step()\r\n",
        "        \r\n",
        "      \r\n",
        "        loss_list.append(losses.item())\r\n",
        "        if step%10 ==0:\r\n",
        "          self.writer.add_scalar('Loss/train', np.array(loss_list).mean(),step)\r\n",
        "      print(np.array(loss_list).mean())\r\n",
        "\r\n",
        "  def loss(self,pred,target):\r\n",
        "    return nn.MSELoss()(pred,target)\r\n",
        "  \r\n",
        "  def predict(self,x):\r\n",
        "    self.model.eval()\r\n",
        "    with torch.no_grad():\r\n",
        "      pred = self.model(x)\r\n",
        "    return pred "
      ],
      "execution_count": null,
      "outputs": []
    },
    {
      "cell_type": "code",
      "metadata": {
        "id": "bjlJ-U8j8hkw"
      },
      "source": [
        "transform  = transforms.Compose([transforms.ToTensor(), transforms.Normalize((0.5), (0.5))\r\n",
        "                                ])\r\n",
        "\r\n",
        "trainset = datasets.MNIST('/content/drive/MyDrive/MNISTdata/train/',download=False,train=True,transform=transform)\r\n",
        "valset = datasets.MNIST('/content/drive/MyDrive/MNISTdata/validation/',download=False,train=False,transform=transform)\r\n",
        "\r\n",
        "trainloader = torch.utils.data.DataLoader(trainset,batch_size=64,shuffle=True)\r\n",
        "\r\n",
        "valloader = torch.utils.data.DataLoader(valset,batch_size=64,shuffle=True)\r\n"
      ],
      "execution_count": null,
      "outputs": []
    },
    {
      "cell_type": "code",
      "metadata": {
        "id": "aBOpTpXy8xdA",
        "colab": {
          "base_uri": "https://localhost:8080/"
        },
        "outputId": "8964c721-33e8-4d16-9416-710c10117b19"
      },
      "source": [
        "dataiter = iter(valloader)\r\n",
        "images, labels = dataiter.next()\r\n",
        "\r\n",
        "print(images.shape,images.min(),images.max())\r\n",
        "print(labels.shape)"
      ],
      "execution_count": null,
      "outputs": [
        {
          "output_type": "stream",
          "text": [
            "torch.Size([64, 1, 28, 28]) tensor(-1.) tensor(1.)\n",
            "torch.Size([64])\n"
          ],
          "name": "stdout"
        }
      ]
    },
    {
      "cell_type": "code",
      "metadata": {
        "id": "0FyHisaFUPr5"
      },
      "source": [
        "\r\n",
        "trainer = Trainer(trainset,valset)"
      ],
      "execution_count": null,
      "outputs": []
    },
    {
      "cell_type": "code",
      "metadata": {
        "colab": {
          "base_uri": "https://localhost:8080/"
        },
        "id": "h5brbSYD9CxM",
        "outputId": "778048f0-0036-4e3f-d811-f868796bbb68"
      },
      "source": [
        "\r\n",
        "trainer.train(60)"
      ],
      "execution_count": null,
      "outputs": [
        {
          "output_type": "stream",
          "text": [
            "\n",
            "\n",
            "  0%|          | 0/60 [00:00<?, ?epochs/s]\u001b[A\u001b[A\n",
            "\n",
            "  2%|▏         | 1/60 [00:12<12:02, 12.24s/epochs]\u001b[A\u001b[A"
          ],
          "name": "stderr"
        },
        {
          "output_type": "stream",
          "text": [
            "0.09556191027768131\n"
          ],
          "name": "stdout"
        },
        {
          "output_type": "stream",
          "text": [
            "\n",
            "\n",
            "  3%|▎         | 2/60 [00:24<11:53, 12.31s/epochs]\u001b[A\u001b[A"
          ],
          "name": "stderr"
        },
        {
          "output_type": "stream",
          "text": [
            "0.09540037937891255\n"
          ],
          "name": "stdout"
        },
        {
          "output_type": "stream",
          "text": [
            "\n",
            "\n",
            "  5%|▌         | 3/60 [00:37<11:42, 12.33s/epochs]\u001b[A\u001b[A"
          ],
          "name": "stderr"
        },
        {
          "output_type": "stream",
          "text": [
            "0.09529360885749748\n"
          ],
          "name": "stdout"
        },
        {
          "output_type": "stream",
          "text": [
            "\n",
            "\n",
            "  7%|▋         | 4/60 [00:49<11:32, 12.37s/epochs]\u001b[A\u001b[A"
          ],
          "name": "stderr"
        },
        {
          "output_type": "stream",
          "text": [
            "0.09522708399749513\n"
          ],
          "name": "stdout"
        },
        {
          "output_type": "stream",
          "text": [
            "\n",
            "\n",
            "  8%|▊         | 5/60 [01:02<11:22, 12.41s/epochs]\u001b[A\u001b[A"
          ],
          "name": "stderr"
        },
        {
          "output_type": "stream",
          "text": [
            "0.09514994359315077\n"
          ],
          "name": "stdout"
        },
        {
          "output_type": "stream",
          "text": [
            "\n",
            "\n",
            " 10%|█         | 6/60 [01:14<11:09, 12.39s/epochs]\u001b[A\u001b[A"
          ],
          "name": "stderr"
        },
        {
          "output_type": "stream",
          "text": [
            "0.09501052567604254\n"
          ],
          "name": "stdout"
        },
        {
          "output_type": "stream",
          "text": [
            "\n",
            "\n",
            " 12%|█▏        | 7/60 [01:26<10:52, 12.31s/epochs]\u001b[A\u001b[A"
          ],
          "name": "stderr"
        },
        {
          "output_type": "stream",
          "text": [
            "0.09491425632699721\n"
          ],
          "name": "stdout"
        },
        {
          "output_type": "stream",
          "text": [
            "\n",
            "\n",
            " 13%|█▎        | 8/60 [01:38<10:39, 12.29s/epochs]\u001b[A\u001b[A"
          ],
          "name": "stderr"
        },
        {
          "output_type": "stream",
          "text": [
            "0.09476174576196081\n"
          ],
          "name": "stdout"
        },
        {
          "output_type": "stream",
          "text": [
            "\n",
            "\n",
            " 15%|█▌        | 9/60 [01:51<10:27, 12.30s/epochs]\u001b[A\u001b[A"
          ],
          "name": "stderr"
        },
        {
          "output_type": "stream",
          "text": [
            "0.09464668162437136\n"
          ],
          "name": "stdout"
        },
        {
          "output_type": "stream",
          "text": [
            "\n",
            "\n",
            " 17%|█▋        | 10/60 [02:03<10:15, 12.32s/epochs]\u001b[A\u001b[A"
          ],
          "name": "stderr"
        },
        {
          "output_type": "stream",
          "text": [
            "0.0946254873437795\n"
          ],
          "name": "stdout"
        },
        {
          "output_type": "stream",
          "text": [
            "\n",
            "\n",
            " 18%|█▊        | 11/60 [02:15<10:03, 12.33s/epochs]\u001b[A\u001b[A"
          ],
          "name": "stderr"
        },
        {
          "output_type": "stream",
          "text": [
            "0.0944909520590229\n"
          ],
          "name": "stdout"
        },
        {
          "output_type": "stream",
          "text": [
            "\n",
            "\n",
            " 20%|██        | 12/60 [02:28<09:52, 12.35s/epochs]\u001b[A\u001b[A"
          ],
          "name": "stderr"
        },
        {
          "output_type": "stream",
          "text": [
            "0.09450042964235297\n"
          ],
          "name": "stdout"
        },
        {
          "output_type": "stream",
          "text": [
            "\n",
            "\n",
            " 22%|██▏       | 13/60 [02:40<09:42, 12.39s/epochs]\u001b[A\u001b[A"
          ],
          "name": "stderr"
        },
        {
          "output_type": "stream",
          "text": [
            "0.09432821785971554\n"
          ],
          "name": "stdout"
        },
        {
          "output_type": "stream",
          "text": [
            "\n",
            "\n",
            " 23%|██▎       | 14/60 [02:53<09:29, 12.38s/epochs]\u001b[A\u001b[A"
          ],
          "name": "stderr"
        },
        {
          "output_type": "stream",
          "text": [
            "0.09423204608309244\n"
          ],
          "name": "stdout"
        },
        {
          "output_type": "stream",
          "text": [
            "\n",
            "\n",
            " 25%|██▌       | 15/60 [03:05<09:16, 12.37s/epochs]\u001b[A\u001b[A"
          ],
          "name": "stderr"
        },
        {
          "output_type": "stream",
          "text": [
            "0.0941311133695818\n"
          ],
          "name": "stdout"
        },
        {
          "output_type": "stream",
          "text": [
            "\n",
            "\n",
            " 27%|██▋       | 16/60 [03:18<09:11, 12.53s/epochs]\u001b[A\u001b[A"
          ],
          "name": "stderr"
        },
        {
          "output_type": "stream",
          "text": [
            "0.09408384992846294\n"
          ],
          "name": "stdout"
        },
        {
          "output_type": "stream",
          "text": [
            "\n",
            "\n",
            " 28%|██▊       | 17/60 [03:30<08:58, 12.52s/epochs]\u001b[A\u001b[A"
          ],
          "name": "stderr"
        },
        {
          "output_type": "stream",
          "text": [
            "0.09397007141317894\n"
          ],
          "name": "stdout"
        },
        {
          "output_type": "stream",
          "text": [
            "\n",
            "\n",
            " 30%|███       | 18/60 [03:43<08:43, 12.47s/epochs]\u001b[A\u001b[A"
          ],
          "name": "stderr"
        },
        {
          "output_type": "stream",
          "text": [
            "0.09397277982631472\n"
          ],
          "name": "stdout"
        },
        {
          "output_type": "stream",
          "text": [
            "\n",
            "\n",
            " 32%|███▏      | 19/60 [03:55<08:32, 12.49s/epochs]\u001b[A\u001b[A"
          ],
          "name": "stderr"
        },
        {
          "output_type": "stream",
          "text": [
            "0.09376240767903928\n"
          ],
          "name": "stdout"
        },
        {
          "output_type": "stream",
          "text": [
            "\n",
            "\n",
            " 33%|███▎      | 20/60 [04:07<08:16, 12.42s/epochs]\u001b[A\u001b[A"
          ],
          "name": "stderr"
        },
        {
          "output_type": "stream",
          "text": [
            "0.093667774375822\n"
          ],
          "name": "stdout"
        },
        {
          "output_type": "stream",
          "text": [
            "\n",
            "\n",
            " 35%|███▌      | 21/60 [04:20<08:01, 12.35s/epochs]\u001b[A\u001b[A"
          ],
          "name": "stderr"
        },
        {
          "output_type": "stream",
          "text": [
            "0.09363321956795162\n"
          ],
          "name": "stdout"
        },
        {
          "output_type": "stream",
          "text": [
            "\n",
            "\n",
            " 37%|███▋      | 22/60 [04:32<07:49, 12.35s/epochs]\u001b[A\u001b[A"
          ],
          "name": "stderr"
        },
        {
          "output_type": "stream",
          "text": [
            "0.09340216529204139\n"
          ],
          "name": "stdout"
        },
        {
          "output_type": "stream",
          "text": [
            "\n",
            "\n",
            " 38%|███▊      | 23/60 [04:44<07:36, 12.33s/epochs]\u001b[A\u001b[A"
          ],
          "name": "stderr"
        },
        {
          "output_type": "stream",
          "text": [
            "0.09340262796674202\n"
          ],
          "name": "stdout"
        },
        {
          "output_type": "stream",
          "text": [
            "\n",
            "\n",
            " 40%|████      | 24/60 [04:57<07:25, 12.36s/epochs]\u001b[A\u001b[A"
          ],
          "name": "stderr"
        },
        {
          "output_type": "stream",
          "text": [
            "0.0933793221773115\n"
          ],
          "name": "stdout"
        },
        {
          "output_type": "stream",
          "text": [
            "\n",
            "\n",
            " 42%|████▏     | 25/60 [05:09<07:11, 12.33s/epochs]\u001b[A\u001b[A"
          ],
          "name": "stderr"
        },
        {
          "output_type": "stream",
          "text": [
            "0.09323286238128442\n"
          ],
          "name": "stdout"
        },
        {
          "output_type": "stream",
          "text": [
            "\n",
            "\n",
            " 43%|████▎     | 26/60 [05:21<06:57, 12.29s/epochs]\u001b[A\u001b[A"
          ],
          "name": "stderr"
        },
        {
          "output_type": "stream",
          "text": [
            "0.09308813413037166\n"
          ],
          "name": "stdout"
        },
        {
          "output_type": "stream",
          "text": [
            "\n",
            "\n",
            " 45%|████▌     | 27/60 [05:33<06:44, 12.26s/epochs]\u001b[A\u001b[A"
          ],
          "name": "stderr"
        },
        {
          "output_type": "stream",
          "text": [
            "0.09307996607792657\n"
          ],
          "name": "stdout"
        },
        {
          "output_type": "stream",
          "text": [
            "\n",
            "\n",
            " 47%|████▋     | 28/60 [05:45<06:30, 12.22s/epochs]\u001b[A\u001b[A"
          ],
          "name": "stderr"
        },
        {
          "output_type": "stream",
          "text": [
            "0.09295420143713574\n"
          ],
          "name": "stdout"
        },
        {
          "output_type": "stream",
          "text": [
            "\n",
            "\n",
            " 48%|████▊     | 29/60 [05:58<06:19, 12.23s/epochs]\u001b[A\u001b[A"
          ],
          "name": "stderr"
        },
        {
          "output_type": "stream",
          "text": [
            "0.09294632666591388\n"
          ],
          "name": "stdout"
        },
        {
          "output_type": "stream",
          "text": [
            "\n",
            "\n",
            " 50%|█████     | 30/60 [06:10<06:06, 12.23s/epochs]\u001b[A\u001b[A"
          ],
          "name": "stderr"
        },
        {
          "output_type": "stream",
          "text": [
            "0.09285161130305038\n"
          ],
          "name": "stdout"
        },
        {
          "output_type": "stream",
          "text": [
            "\n",
            "\n",
            " 52%|█████▏    | 31/60 [06:22<05:53, 12.20s/epochs]\u001b[A\u001b[A"
          ],
          "name": "stderr"
        },
        {
          "output_type": "stream",
          "text": [
            "0.09275901483606173\n"
          ],
          "name": "stdout"
        },
        {
          "output_type": "stream",
          "text": [
            "\n",
            "\n",
            " 53%|█████▎    | 32/60 [06:34<05:40, 12.15s/epochs]\u001b[A\u001b[A"
          ],
          "name": "stderr"
        },
        {
          "output_type": "stream",
          "text": [
            "0.09270677103130802\n"
          ],
          "name": "stdout"
        },
        {
          "output_type": "stream",
          "text": [
            "\n",
            "\n",
            " 55%|█████▌    | 33/60 [06:46<05:28, 12.16s/epochs]\u001b[A\u001b[A"
          ],
          "name": "stderr"
        },
        {
          "output_type": "stream",
          "text": [
            "0.09264714162804678\n"
          ],
          "name": "stdout"
        },
        {
          "output_type": "stream",
          "text": [
            "\n",
            "\n",
            " 57%|█████▋    | 34/60 [06:58<05:16, 12.18s/epochs]\u001b[A\u001b[A"
          ],
          "name": "stderr"
        },
        {
          "output_type": "stream",
          "text": [
            "0.09253706555090734\n"
          ],
          "name": "stdout"
        },
        {
          "output_type": "stream",
          "text": [
            "\n",
            "\n",
            " 58%|█████▊    | 35/60 [07:11<05:05, 12.21s/epochs]\u001b[A\u001b[A"
          ],
          "name": "stderr"
        },
        {
          "output_type": "stream",
          "text": [
            "0.09239985488815856\n"
          ],
          "name": "stdout"
        },
        {
          "output_type": "stream",
          "text": [
            "\n",
            "\n",
            " 60%|██████    | 36/60 [07:23<04:54, 12.25s/epochs]\u001b[A\u001b[A"
          ],
          "name": "stderr"
        },
        {
          "output_type": "stream",
          "text": [
            "0.09247025710814544\n"
          ],
          "name": "stdout"
        },
        {
          "output_type": "stream",
          "text": [
            "\n",
            "\n",
            " 62%|██████▏   | 37/60 [07:36<04:43, 12.31s/epochs]\u001b[A\u001b[A"
          ],
          "name": "stderr"
        },
        {
          "output_type": "stream",
          "text": [
            "0.09239494208810425\n"
          ],
          "name": "stdout"
        },
        {
          "output_type": "stream",
          "text": [
            "\n",
            "\n",
            " 63%|██████▎   | 38/60 [07:48<04:31, 12.33s/epochs]\u001b[A\u001b[A"
          ],
          "name": "stderr"
        },
        {
          "output_type": "stream",
          "text": [
            "0.0923274687961983\n"
          ],
          "name": "stdout"
        },
        {
          "output_type": "stream",
          "text": [
            "\n",
            "\n",
            " 65%|██████▌   | 39/60 [08:00<04:18, 12.29s/epochs]\u001b[A\u001b[A"
          ],
          "name": "stderr"
        },
        {
          "output_type": "stream",
          "text": [
            "0.09224138480386754\n"
          ],
          "name": "stdout"
        },
        {
          "output_type": "stream",
          "text": [
            "\n",
            "\n",
            " 67%|██████▋   | 40/60 [08:13<04:06, 12.32s/epochs]\u001b[A\u001b[A"
          ],
          "name": "stderr"
        },
        {
          "output_type": "stream",
          "text": [
            "0.09219784525507041\n"
          ],
          "name": "stdout"
        },
        {
          "output_type": "stream",
          "text": [
            "\n",
            "\n",
            " 68%|██████▊   | 41/60 [08:25<03:53, 12.31s/epochs]\u001b[A\u001b[A"
          ],
          "name": "stderr"
        },
        {
          "output_type": "stream",
          "text": [
            "0.09215084067794052\n"
          ],
          "name": "stdout"
        },
        {
          "output_type": "stream",
          "text": [
            "\n",
            "\n",
            " 70%|███████   | 42/60 [08:37<03:41, 12.30s/epochs]\u001b[A\u001b[A"
          ],
          "name": "stderr"
        },
        {
          "output_type": "stream",
          "text": [
            "0.09202841560501279\n"
          ],
          "name": "stdout"
        },
        {
          "output_type": "stream",
          "text": [
            "\n",
            "\n",
            " 72%|███████▏  | 43/60 [08:49<03:29, 12.32s/epochs]\u001b[A\u001b[A"
          ],
          "name": "stderr"
        },
        {
          "output_type": "stream",
          "text": [
            "0.09206234014777741\n"
          ],
          "name": "stdout"
        },
        {
          "output_type": "stream",
          "text": [
            "\n",
            "\n",
            " 73%|███████▎  | 44/60 [09:02<03:16, 12.31s/epochs]\u001b[A\u001b[A"
          ],
          "name": "stderr"
        },
        {
          "output_type": "stream",
          "text": [
            "0.09203224766578501\n"
          ],
          "name": "stdout"
        },
        {
          "output_type": "stream",
          "text": [
            "\n",
            "\n",
            " 75%|███████▌  | 45/60 [09:14<03:03, 12.27s/epochs]\u001b[A\u001b[A"
          ],
          "name": "stderr"
        },
        {
          "output_type": "stream",
          "text": [
            "0.09188097803545658\n"
          ],
          "name": "stdout"
        },
        {
          "output_type": "stream",
          "text": [
            "\n",
            "\n",
            " 77%|███████▋  | 46/60 [09:26<02:51, 12.25s/epochs]\u001b[A\u001b[A"
          ],
          "name": "stderr"
        },
        {
          "output_type": "stream",
          "text": [
            "0.09185536602126763\n"
          ],
          "name": "stdout"
        },
        {
          "output_type": "stream",
          "text": [
            "\n",
            "\n",
            " 78%|███████▊  | 47/60 [09:38<02:38, 12.22s/epochs]\u001b[A\u001b[A"
          ],
          "name": "stderr"
        },
        {
          "output_type": "stream",
          "text": [
            "0.09173033296712425\n"
          ],
          "name": "stdout"
        },
        {
          "output_type": "stream",
          "text": [
            "\n",
            "\n",
            " 80%|████████  | 48/60 [09:50<02:26, 12.21s/epochs]\u001b[A\u001b[A"
          ],
          "name": "stderr"
        },
        {
          "output_type": "stream",
          "text": [
            "0.0917308063411128\n"
          ],
          "name": "stdout"
        },
        {
          "output_type": "stream",
          "text": [
            "\n",
            "\n",
            " 82%|████████▏ | 49/60 [10:03<02:14, 12.25s/epochs]\u001b[A\u001b[A"
          ],
          "name": "stderr"
        },
        {
          "output_type": "stream",
          "text": [
            "0.09163552379684407\n"
          ],
          "name": "stdout"
        },
        {
          "output_type": "stream",
          "text": [
            "\n",
            "\n",
            " 83%|████████▎ | 50/60 [10:15<02:02, 12.26s/epochs]\u001b[A\u001b[A"
          ],
          "name": "stderr"
        },
        {
          "output_type": "stream",
          "text": [
            "0.0916273468561264\n"
          ],
          "name": "stdout"
        },
        {
          "output_type": "stream",
          "text": [
            "\n",
            "\n",
            " 85%|████████▌ | 51/60 [10:27<01:49, 12.22s/epochs]\u001b[A\u001b[A"
          ],
          "name": "stderr"
        },
        {
          "output_type": "stream",
          "text": [
            "0.09158981910773686\n"
          ],
          "name": "stdout"
        },
        {
          "output_type": "stream",
          "text": [
            "\n",
            "\n",
            " 87%|████████▋ | 52/60 [10:39<01:37, 12.18s/epochs]\u001b[A\u001b[A"
          ],
          "name": "stderr"
        },
        {
          "output_type": "stream",
          "text": [
            "0.09144445034518425\n"
          ],
          "name": "stdout"
        },
        {
          "output_type": "stream",
          "text": [
            "\n",
            "\n",
            " 88%|████████▊ | 53/60 [10:51<01:25, 12.18s/epochs]\u001b[A\u001b[A"
          ],
          "name": "stderr"
        },
        {
          "output_type": "stream",
          "text": [
            "0.09139679774228952\n"
          ],
          "name": "stdout"
        },
        {
          "output_type": "stream",
          "text": [
            "\n",
            "\n",
            " 90%|█████████ | 54/60 [11:04<01:13, 12.21s/epochs]\u001b[A\u001b[A"
          ],
          "name": "stderr"
        },
        {
          "output_type": "stream",
          "text": [
            "0.09141925775579043\n"
          ],
          "name": "stdout"
        },
        {
          "output_type": "stream",
          "text": [
            "\n",
            "\n",
            " 92%|█████████▏| 55/60 [11:16<01:00, 12.18s/epochs]\u001b[A\u001b[A"
          ],
          "name": "stderr"
        },
        {
          "output_type": "stream",
          "text": [
            "0.09133668104087365\n"
          ],
          "name": "stdout"
        },
        {
          "output_type": "stream",
          "text": [
            "\n",
            "\n",
            " 93%|█████████▎| 56/60 [11:28<00:48, 12.18s/epochs]\u001b[A\u001b[A"
          ],
          "name": "stderr"
        },
        {
          "output_type": "stream",
          "text": [
            "0.09130367400772027\n"
          ],
          "name": "stdout"
        },
        {
          "output_type": "stream",
          "text": [
            "\n",
            "\n",
            " 95%|█████████▌| 57/60 [11:40<00:36, 12.19s/epochs]\u001b[A\u001b[A"
          ],
          "name": "stderr"
        },
        {
          "output_type": "stream",
          "text": [
            "0.09124290346622721\n"
          ],
          "name": "stdout"
        },
        {
          "output_type": "stream",
          "text": [
            "\n",
            "\n",
            " 97%|█████████▋| 58/60 [11:53<00:24, 12.21s/epochs]\u001b[A\u001b[A"
          ],
          "name": "stderr"
        },
        {
          "output_type": "stream",
          "text": [
            "0.09124582901851201\n"
          ],
          "name": "stdout"
        },
        {
          "output_type": "stream",
          "text": [
            "\n",
            "\n",
            " 98%|█████████▊| 59/60 [12:05<00:12, 12.20s/epochs]\u001b[A\u001b[A"
          ],
          "name": "stderr"
        },
        {
          "output_type": "stream",
          "text": [
            "0.09120099935958635\n"
          ],
          "name": "stdout"
        },
        {
          "output_type": "stream",
          "text": [
            "\n",
            "\n",
            "100%|██████████| 60/60 [12:17<00:00, 12.29s/epochs]"
          ],
          "name": "stderr"
        },
        {
          "output_type": "stream",
          "text": [
            "0.0912041702011882\n"
          ],
          "name": "stdout"
        },
        {
          "output_type": "stream",
          "text": [
            "\n"
          ],
          "name": "stderr"
        }
      ]
    },
    {
      "cell_type": "code",
      "metadata": {
        "colab": {
          "base_uri": "https://localhost:8080/",
          "height": 1000
        },
        "id": "UTchku_6Xl5Y",
        "outputId": "268ed1e0-cddd-4b55-c4c7-ddd311d321c4"
      },
      "source": [
        "\r\n",
        "pred =trainer.predict(images.to(device=trainer.device))\r\n",
        "for i in range(5):\r\n",
        "  id=i*10\r\n",
        "  plt.figure()\r\n",
        "  plt.imshow(images[id].numpy().squeeze(),cmap='gray_r')\r\n",
        "  plt.figure()\r\n",
        "  plt.imshow(pred[id].cpu().numpy().squeeze(),cmap='gray_r')"
      ],
      "execution_count": null,
      "outputs": [
        {
          "output_type": "display_data",
          "data": {
            "image/png": "[encoded data removed]",
            "text/plain": [
              "<Figure size 432x288 with 1 Axes>"
            ]
          },
          "metadata": {
            "tags": [],
            "needs_background": "light"
          }
        },
        {
          "output_type": "display_data",
          "data": {
            "image/png": "[encoded data removed]",
            "text/plain": [
              "<Figure size 432x288 with 1 Axes>"
            ]
          },
          "metadata": {
            "tags": [],
            "needs_background": "light"
          }
        },
        {
          "output_type": "display_data",
          "data": {
            "image/png": "[encoded data removed]",
            "text/plain": [
              "<Figure size 432x288 with 1 Axes>"
            ]
          },
          "metadata": {
            "tags": [],
            "needs_background": "light"
          }
        },
        {
          "output_type": "display_data",
          "data": {
            "image/png": "[encoded data removed]",
            "text/plain": [
              "<Figure size 432x288 with 1 Axes>"
            ]
          },
          "metadata": {
            "tags": [],
            "needs_background": "light"
          }
        },
        {
          "output_type": "display_data",
          "data": {
            "image/png": "[encoded data removed]",
            "text/plain": [
              "<Figure size 432x288 with 1 Axes>"
            ]
          },
          "metadata": {
            "tags": [],
            "needs_background": "light"
          }
        },
        {
          "output_type": "display_data",
          "data": {
            "image/png": "[encoded data removed]",
            "text/plain": [
              "<Figure size 432x288 with 1 Axes>"
            ]
          },
          "metadata": {
            "tags": [],
            "needs_background": "light"
          }
        },
        {
          "output_type": "display_data",
          "data": {
            "image/png": "[encoded data removed]",
            "text/plain": [
              "<Figure size 432x288 with 1 Axes>"
            ]
          },
          "metadata": {
            "tags": [],
            "needs_background": "light"
          }
        },
        {
          "output_type": "display_data",
          "data": {
            "image/png": "[encoded data removed]",
            "text/plain": [
              "<Figure size 432x288 with 1 Axes>"
            ]
          },
          "metadata": {
            "tags": [],
            "needs_background": "light"
          }
        },
        {
          "output_type": "display_data",
          "data": {
            "image/png": "[encoded data removed]",
            "text/plain": [
              "<Figure size 432x288 with 1 Axes>"
            ]
          },
          "metadata": {
            "tags": [],
            "needs_background": "light"
          }
        },
        {
          "output_type": "display_data",
          "data": {
            "image/png": "[encoded data removed]",
            "text/plain": [
              "<Figure size 432x288 with 1 Axes>"
            ]
          },
          "metadata": {
            "tags": [],
            "needs_background": "light"
          }
        }
      ]
    },
    {
      "cell_type": "code",
      "metadata": {
        "id": "7o4R1csOeyTk"
      },
      "source": [
        "class Attacker(nn.Module):\r\n",
        "  def __init__(self):\r\n",
        "    super().__init__()\r\n",
        "    self.fc1 =nn.Linear(32,32)\r\n",
        "    self.fc2 = nn.Linear(32,32)\r\n",
        "    self.fc3=nn.Linear(32,11)\r\n",
        "    self.softmax =nn.Softmax(dim=1)\r\n",
        "  def forward(self,x):\r\n",
        "    x=nn.Flatten()(x)\r\n",
        "    x=nn.ReLU()(self.fc1(x))\r\n",
        "    x=nn.ReLU()(self.fc2(x))\r\n",
        "    x=self.softmax(self.fc3(x))\r\n",
        "    return x\r\n",
        "\r\n",
        "class GAN(nn.Module):\r\n",
        "  def __init__(self,device):\r\n",
        "    super().__init__()\r\n",
        "    self.attacker=Attacker().to(device)\r\n",
        "    self.enc= Encoder(device).to(device)\r\n",
        "  def forward(self,x):\r\n",
        "    x=self.enc(x)\r\n",
        "    x=self.attacker(x)\r\n",
        "    return x\r\n",
        "\r\n",
        "class GANTrainer:\r\n",
        "  def __init__(self,trainset,valset,batch_sz=64):\r\n",
        "      self.device = torch.device(\"cuda:0\" if torch.cuda.is_available() else \"cpu\")\r\n",
        "\r\n",
        "      self.enc = Encoder(self.device).to(self.device)\r\n",
        "      self.attacker= Attacker().to(self.device)\r\n",
        "\r\n",
        "      self.optim_enc=torch.optim.AdamW(self.enc.parameters(),lr=0.001)\r\n",
        "      self.optim_attack=torch.optim.AdamW(self.attacker.parameters(),lr=0.001)\r\n",
        "\r\n",
        "      self.trainset=trainset\r\n",
        "      self.valset=valset\r\n",
        "      self.train_loader = torch.utils.data.DataLoader(self.trainset,batch_size=batch_sz,shuffle=True,num_workers=2)\r\n",
        "      self.val_loader = torch.utils.data.DataLoader(self.valset,batch_size=batch_sz,shuffle=True,num_workers=2)\r\n",
        "      self.batch_sz =batch_sz\r\n",
        "\r\n",
        "\r\n",
        "  def attacker_loss(self,pred,labels):\r\n",
        "      delta=0.01\r\n",
        "      one_hot =torch.zeros_like(pred).to(self.device)\r\n",
        "      one_hot.scatter_(1,labels.unsqueeze(1),1)\r\n",
        "      loss =-torch.sum(torch.log(pred+delta)*one_hot)/self.batch_sz\r\n",
        "      return loss\r\n",
        "  def enc_loss(self,pred,labels):\r\n",
        "    one_hot =torch.zeros_like(pred).to(self.device)\r\n",
        "    one_hot.scatter_(1,labels.unsqueeze(1),1)\r\n",
        "    delta=0.01\r\n",
        "    loss = -(torch.sum(torch.log(1-pred[:,-1]+delta)*(1-one_hot[:,-1]))+torch.sum(torch.log(1-pred[:,:-1]+delta)*one_hot[:,:-1])+torch.sum(torch.log(pred[:,-1]+delta)*one_hot[:,-1]))/self.batch_sz\r\n",
        "    return loss\r\n",
        "\r\n",
        "  \r\n",
        "  def train(self,epochs=10,train_both=True):\r\n",
        "    attack_train = not(train_both)\r\n",
        "    for epoch in tqdm(range(epochs),unit=\"epochs\"):\r\n",
        "      step =0\r\n",
        "      count =0\r\n",
        "      loss_list_enc=[]\r\n",
        "      loss_list_atk=[]\r\n",
        "      for images, labels in self.train_loader:\r\n",
        "        for i in range(1,6):\r\n",
        "          images[5*i] = images[5*i] + images[5*i + 1]\r\n",
        "          labels[5*i] = 10\r\n",
        "        imgs=images.to(self.device)\r\n",
        "        labels=labels.to(self.device)\r\n",
        "\r\n",
        "        if not(attack_train):\r\n",
        "          self.optim_enc.zero_grad()\r\n",
        "          enc = self.enc(imgs)\r\n",
        "          pred_enc = self.attacker(enc)\r\n",
        "          enc_loss = self.enc_loss(pred_enc,labels)\r\n",
        "          enc_loss.backward()\r\n",
        "          self.optim_enc.step()\r\n",
        "          loss_list_enc.append(enc_loss.item())\r\n",
        "        else:\r\n",
        "          self.optim_attack.zero_grad()\r\n",
        "          enc = self.enc(imgs)\r\n",
        "          pred_attack=self.attacker(enc.detach())\r\n",
        "          attack_loss= self.attacker_loss(pred_attack,labels)\r\n",
        "          attack_loss.backward()\r\n",
        "          self.optim_attack.step()\r\n",
        "          loss_list_atk.append(attack_loss.item())\r\n",
        "\r\n",
        "        if train_both:\r\n",
        "          count+=1\r\n",
        "          if count==30 and attack_train:\r\n",
        "            attack_train = False\r\n",
        "            count =0\r\n",
        "          elif count ==5 and not(attack_train):\r\n",
        "            attack_train = True\r\n",
        "            count =0\r\n",
        "        else:\r\n",
        "          attack_train=True\r\n",
        "        \r\n",
        "      print(np.array(loss_list_enc).mean() if train_both else \"Enc fixed\",np.array(loss_list_atk).mean())\r\n",
        "    \r\n",
        "  def train_attacker(self,epochs=10):\r\n",
        "    for epoch in tqdm(range(epochs),unit=\"epochs\"):\r\n",
        "      step =0\r\n",
        "      count =0\r\n",
        "      loss_list=[]\r\n",
        "      for images, labels in self.train_loader:\r\n",
        "        for i in range(1,6):\r\n",
        "          images[5*i] = images[5*i] + images[5*i + 1]\r\n",
        "          labels[5*i] = 10\r\n",
        "        imgs=images.to(self.device)\r\n",
        "        labels=labels.to(self.device)\r\n",
        "      \r\n",
        "        pred = self.attacker(self.enc(imgs))\r\n",
        "\r\n",
        "        losses =self.attacker_loss(pred,labels)\r\n",
        "        self.optim_attack.zero_grad()\r\n",
        "        self.optim_enc.zero_grad()\r\n",
        "        losses.backward()\r\n",
        "        self.optim_enc.step()\r\n",
        "        self.optim_attack.step()\r\n",
        "\r\n",
        "        loss_list.append(losses.item())\r\n",
        "      print(np.array(loss_list).mean())\r\n",
        "\r\n",
        "  \r\n",
        "gantrainer =GANTrainer(trainset,valset)"
      ],
      "execution_count": null,
      "outputs": []
    },
    {
      "cell_type": "code",
      "metadata": {
        "id": "T6h-VZ1Hrtqz",
        "colab": {
          "base_uri": "https://localhost:8080/"
        },
        "outputId": "83560c5f-31ef-4331-d248-87be55de843b"
      },
      "source": [
        "gantrainer.train_attacker(10)"
      ],
      "execution_count": null,
      "outputs": [
        {
          "output_type": "stream",
          "text": [
            " 10%|█         | 1/10 [00:12<01:49, 12.15s/epochs]"
          ],
          "name": "stderr"
        },
        {
          "output_type": "stream",
          "text": [
            "0.821302572436043\n"
          ],
          "name": "stdout"
        },
        {
          "output_type": "stream",
          "text": [
            "\r 20%|██        | 2/10 [00:24<01:37, 12.13s/epochs]"
          ],
          "name": "stderr"
        },
        {
          "output_type": "stream",
          "text": [
            "0.3505533052914178\n"
          ],
          "name": "stdout"
        },
        {
          "output_type": "stream",
          "text": [
            "\r 30%|███       | 3/10 [00:36<01:24, 12.10s/epochs]"
          ],
          "name": "stderr"
        },
        {
          "output_type": "stream",
          "text": [
            "0.2717179336082707\n"
          ],
          "name": "stdout"
        },
        {
          "output_type": "stream",
          "text": [
            "\r 40%|████      | 4/10 [00:48<01:12, 12.15s/epochs]"
          ],
          "name": "stderr"
        },
        {
          "output_type": "stream",
          "text": [
            "0.23837590127833871\n"
          ],
          "name": "stdout"
        },
        {
          "output_type": "stream",
          "text": [
            "\r 50%|█████     | 5/10 [01:00<01:00, 12.19s/epochs]"
          ],
          "name": "stderr"
        },
        {
          "output_type": "stream",
          "text": [
            "0.21672781469868319\n"
          ],
          "name": "stdout"
        },
        {
          "output_type": "stream",
          "text": [
            "\r 60%|██████    | 6/10 [01:13<00:48, 12.22s/epochs]"
          ],
          "name": "stderr"
        },
        {
          "output_type": "stream",
          "text": [
            "0.20153853557964188\n"
          ],
          "name": "stdout"
        },
        {
          "output_type": "stream",
          "text": [
            "\r 70%|███████   | 7/10 [01:25<00:36, 12.25s/epochs]"
          ],
          "name": "stderr"
        },
        {
          "output_type": "stream",
          "text": [
            "0.19059819799822086\n"
          ],
          "name": "stdout"
        },
        {
          "output_type": "stream",
          "text": [
            "\r 80%|████████  | 8/10 [01:37<00:24, 12.21s/epochs]"
          ],
          "name": "stderr"
        },
        {
          "output_type": "stream",
          "text": [
            "0.18037032743475076\n"
          ],
          "name": "stdout"
        },
        {
          "output_type": "stream",
          "text": [
            "\r 90%|█████████ | 9/10 [01:49<00:12, 12.19s/epochs]"
          ],
          "name": "stderr"
        },
        {
          "output_type": "stream",
          "text": [
            "0.1723345274121554\n"
          ],
          "name": "stdout"
        },
        {
          "output_type": "stream",
          "text": [
            "100%|██████████| 10/10 [02:01<00:00, 12.18s/epochs]"
          ],
          "name": "stderr"
        },
        {
          "output_type": "stream",
          "text": [
            "0.1688567341934802\n"
          ],
          "name": "stdout"
        },
        {
          "output_type": "stream",
          "text": [
            "\n"
          ],
          "name": "stderr"
        }
      ]
    },
    {
      "cell_type": "code",
      "metadata": {
        "id": "hrQ_UaSQyAtW",
        "colab": {
          "base_uri": "https://localhost:8080/"
        },
        "outputId": "41636fac-536a-4e03-b06d-9fbf6250c109"
      },
      "source": [
        "with torch.no_grad():\r\n",
        "  preds=gantrainer.gan(images.to(gantrainer.device)).cpu().numpy()\r\n",
        "  preds=np.argmax(preds,1)\r\n",
        "  print(preds.shape)"
      ],
      "execution_count": null,
      "outputs": [
        {
          "output_type": "stream",
          "text": [
            "(64,)\n"
          ],
          "name": "stdout"
        }
      ]
    },
    {
      "cell_type": "code",
      "metadata": {
        "colab": {
          "base_uri": "https://localhost:8080/"
        },
        "id": "EySGXAtWo5Hd",
        "outputId": "6cecd681-f74c-40a8-e844-0dc236b53057"
      },
      "source": [
        "print(labels)\r\n",
        "print(preds)\r\n",
        "sum(preds ==labels.numpy())"
      ],
      "execution_count": null,
      "outputs": [
        {
          "output_type": "stream",
          "text": [
            "tensor([7, 3, 9, 9, 0, 1, 1, 3, 9, 8, 1, 3, 5, 8, 1, 0, 6, 8, 9, 5, 8, 0, 2, 6,\n",
            "        8, 0, 7, 4, 8, 7, 7, 4, 3, 7, 2, 2, 7, 0, 2, 2, 1, 0, 7, 1, 8, 7, 9, 5,\n",
            "        8, 1, 0, 8, 1, 6, 1, 0, 2, 5, 1, 3, 6, 4, 5, 4])\n",
            "[7 3 8 9 0 1 1 3 9 8 1 3 5 8 1 0 6 8 9 5 8 0 2 6 8 0 7 4 8 7 7 4 3 7 2 2 7\n",
            " 0 2 2 1 0 7 1 8 7 9 5 8 1 4 8 1 6 1 0 2 5 1 8 6 4 6 4]\n"
          ],
          "name": "stdout"
        },
        {
          "output_type": "execute_result",
          "data": {
            "text/plain": [
              "60"
            ]
          },
          "metadata": {
            "tags": []
          },
          "execution_count": 40
        }
      ]
    },
    {
      "cell_type": "code",
      "metadata": {
        "id": "U50DePhVqwRT",
        "colab": {
          "base_uri": "https://localhost:8080/"
        },
        "outputId": "28c5eec8-3d29-4d76-c909-f8b6ff88c774"
      },
      "source": [
        "gantrainer.train(100)\r\n"
      ],
      "execution_count": null,
      "outputs": [
        {
          "output_type": "stream",
          "text": [
            "  1%|          | 1/100 [00:11<19:43, 11.96s/epochs]"
          ],
          "name": "stderr"
        },
        {
          "output_type": "stream",
          "text": [
            "0.13803610928632595 2.0498908345458813\n"
          ],
          "name": "stdout"
        },
        {
          "output_type": "stream",
          "text": [
            "\r  2%|▏         | 2/100 [00:23<19:32, 11.97s/epochs]"
          ],
          "name": "stderr"
        },
        {
          "output_type": "stream",
          "text": [
            "0.0870413325726986 1.9939683606423955\n"
          ],
          "name": "stdout"
        },
        {
          "output_type": "stream",
          "text": [
            "\r  3%|▎         | 3/100 [00:35<19:16, 11.92s/epochs]"
          ],
          "name": "stderr"
        },
        {
          "output_type": "stream",
          "text": [
            "0.08626981933529561 1.9939903256916764\n"
          ],
          "name": "stdout"
        },
        {
          "output_type": "stream",
          "text": [
            "\r  4%|▍         | 4/100 [00:47<19:04, 11.92s/epochs]"
          ],
          "name": "stderr"
        },
        {
          "output_type": "stream",
          "text": [
            "0.08282226043251845 2.006848657485282\n"
          ],
          "name": "stdout"
        },
        {
          "output_type": "stream",
          "text": [
            "\r  5%|▌         | 5/100 [00:59<18:49, 11.89s/epochs]"
          ],
          "name": "stderr"
        },
        {
          "output_type": "stream",
          "text": [
            "0.0791316033555911 2.0265288138301067\n"
          ],
          "name": "stdout"
        },
        {
          "output_type": "stream",
          "text": [
            "\r  6%|▌         | 6/100 [01:11<18:31, 11.82s/epochs]"
          ],
          "name": "stderr"
        },
        {
          "output_type": "stream",
          "text": [
            "0.07837142474376238 2.0301851450216652\n"
          ],
          "name": "stdout"
        },
        {
          "output_type": "stream",
          "text": [
            "\r  7%|▋         | 7/100 [01:22<18:18, 11.81s/epochs]"
          ],
          "name": "stderr"
        },
        {
          "output_type": "stream",
          "text": [
            "0.07928202633674328 2.0236556839824904\n",
            "0.07923353194044186 2.0212626623930317\n"
          ],
          "name": "stdout"
        },
        {
          "output_type": "stream",
          "text": [
            "\r  9%|▉         | 9/100 [01:46<17:55, 11.82s/epochs]"
          ],
          "name": "stderr"
        },
        {
          "output_type": "stream",
          "text": [
            "0.07867151607687657 2.0250061979093172\n"
          ],
          "name": "stdout"
        },
        {
          "output_type": "stream",
          "text": [
            "\r 10%|█         | 10/100 [01:58<17:48, 11.88s/epochs]"
          ],
          "name": "stderr"
        },
        {
          "output_type": "stream",
          "text": [
            "0.07840791132587653 2.028254613722905\n"
          ],
          "name": "stdout"
        },
        {
          "output_type": "stream",
          "text": [
            "\r 11%|█         | 11/100 [02:10<17:31, 11.82s/epochs]"
          ],
          "name": "stderr"
        },
        {
          "output_type": "stream",
          "text": [
            "0.07853381725457999 2.027539494309095\n"
          ],
          "name": "stdout"
        },
        {
          "output_type": "stream",
          "text": [
            "\r 12%|█▏        | 12/100 [02:22<17:20, 11.82s/epochs]"
          ],
          "name": "stderr"
        },
        {
          "output_type": "stream",
          "text": [
            "0.07796284235440767 2.027790942035689\n"
          ],
          "name": "stdout"
        },
        {
          "output_type": "stream",
          "text": [
            "\r 13%|█▎        | 13/100 [02:33<17:08, 11.82s/epochs]"
          ],
          "name": "stderr"
        },
        {
          "output_type": "stream",
          "text": [
            "0.07819408911925096 2.0293940645043214\n"
          ],
          "name": "stdout"
        },
        {
          "output_type": "stream",
          "text": [
            "\r 14%|█▍        | 14/100 [02:45<16:59, 11.85s/epochs]"
          ],
          "name": "stderr"
        },
        {
          "output_type": "stream",
          "text": [
            "0.07876572895508546 2.0276932697189918\n"
          ],
          "name": "stdout"
        },
        {
          "output_type": "stream",
          "text": [
            "\r 15%|█▌        | 15/100 [02:57<16:48, 11.86s/epochs]"
          ],
          "name": "stderr"
        },
        {
          "output_type": "stream",
          "text": [
            "0.07884330038840955 2.025522224236243\n"
          ],
          "name": "stdout"
        },
        {
          "output_type": "stream",
          "text": [
            "\r 16%|█▌        | 16/100 [03:09<16:34, 11.84s/epochs]"
          ],
          "name": "stderr"
        },
        {
          "output_type": "stream",
          "text": [
            "0.07737625785745107 2.0324859883230513\n"
          ],
          "name": "stdout"
        },
        {
          "output_type": "stream",
          "text": [
            "\r 17%|█▋        | 17/100 [03:21<16:17, 11.78s/epochs]"
          ],
          "name": "stderr"
        },
        {
          "output_type": "stream",
          "text": [
            "0.0775782411488203 2.032752843924088\n"
          ],
          "name": "stdout"
        },
        {
          "output_type": "stream",
          "text": [
            "\r 18%|█▊        | 18/100 [03:32<16:07, 11.79s/epochs]"
          ],
          "name": "stderr"
        },
        {
          "output_type": "stream",
          "text": [
            "0.07739685533138421 2.0323370762980812\n"
          ],
          "name": "stdout"
        },
        {
          "output_type": "stream",
          "text": [
            "\r 19%|█▉        | 19/100 [03:44<15:55, 11.80s/epochs]"
          ],
          "name": "stderr"
        },
        {
          "output_type": "stream",
          "text": [
            "0.07738009095191956 2.0324324844497266\n"
          ],
          "name": "stdout"
        },
        {
          "output_type": "stream",
          "text": [
            "\r 20%|██        | 20/100 [03:56<15:45, 11.82s/epochs]"
          ],
          "name": "stderr"
        },
        {
          "output_type": "stream",
          "text": [
            "0.07742366200456252 2.032248536917833\n"
          ],
          "name": "stdout"
        },
        {
          "output_type": "stream",
          "text": [
            "\r 21%|██        | 21/100 [04:08<15:36, 11.86s/epochs]"
          ],
          "name": "stderr"
        },
        {
          "output_type": "stream",
          "text": [
            "0.0775788138119074 2.0326719831417104\n"
          ],
          "name": "stdout"
        },
        {
          "output_type": "stream",
          "text": [
            "\r 22%|██▏       | 22/100 [04:20<15:26, 11.88s/epochs]"
          ],
          "name": "stderr"
        },
        {
          "output_type": "stream",
          "text": [
            "0.07727058650209354 2.0324169673246915\n"
          ],
          "name": "stdout"
        },
        {
          "output_type": "stream",
          "text": [
            "\r 23%|██▎       | 23/100 [04:32<15:15, 11.89s/epochs]"
          ],
          "name": "stderr"
        },
        {
          "output_type": "stream",
          "text": [
            "0.07735460578249051 2.0322997904207445\n"
          ],
          "name": "stdout"
        },
        {
          "output_type": "stream",
          "text": [
            "\r 24%|██▍       | 24/100 [04:44<15:02, 11.88s/epochs]"
          ],
          "name": "stderr"
        },
        {
          "output_type": "stream",
          "text": [
            "0.07730565151342979 2.032009811242028\n"
          ],
          "name": "stdout"
        },
        {
          "output_type": "stream",
          "text": [
            "\r 25%|██▌       | 25/100 [04:56<14:52, 11.90s/epochs]"
          ],
          "name": "stderr"
        },
        {
          "output_type": "stream",
          "text": [
            "0.07728263328854855 2.0319467156682864\n"
          ],
          "name": "stdout"
        },
        {
          "output_type": "stream",
          "text": [
            "\r 26%|██▌       | 26/100 [05:08<14:41, 11.92s/epochs]"
          ],
          "name": "stderr"
        },
        {
          "output_type": "stream",
          "text": [
            "0.07727694562994517 2.032119362661154\n"
          ],
          "name": "stdout"
        },
        {
          "output_type": "stream",
          "text": [
            "\r 27%|██▋       | 27/100 [05:20<14:30, 11.92s/epochs]"
          ],
          "name": "stderr"
        },
        {
          "output_type": "stream",
          "text": [
            "0.0773143035861162 2.0318746817584086\n"
          ],
          "name": "stdout"
        },
        {
          "output_type": "stream",
          "text": [
            "\r 28%|██▊       | 28/100 [05:32<14:19, 11.94s/epochs]"
          ],
          "name": "stderr"
        },
        {
          "output_type": "stream",
          "text": [
            "0.07733153809721653 2.0318153738090308\n"
          ],
          "name": "stdout"
        },
        {
          "output_type": "stream",
          "text": [
            "\r 29%|██▉       | 29/100 [05:44<14:09, 11.97s/epochs]"
          ],
          "name": "stderr"
        },
        {
          "output_type": "stream",
          "text": [
            "0.07738714693830563 2.0318637510189914\n"
          ],
          "name": "stdout"
        },
        {
          "output_type": "stream",
          "text": [
            "\r 30%|███       | 30/100 [05:56<13:57, 11.97s/epochs]"
          ],
          "name": "stderr"
        },
        {
          "output_type": "stream",
          "text": [
            "0.07740698559926107 2.0317379197861887\n"
          ],
          "name": "stdout"
        },
        {
          "output_type": "stream",
          "text": [
            "\r 31%|███       | 31/100 [06:07<13:40, 11.90s/epochs]"
          ],
          "name": "stderr"
        },
        {
          "output_type": "stream",
          "text": [
            "0.07746373523886387 2.0319888189730078\n"
          ],
          "name": "stdout"
        },
        {
          "output_type": "stream",
          "text": [
            "\r 32%|███▏      | 32/100 [06:19<13:28, 11.89s/epochs]"
          ],
          "name": "stderr"
        },
        {
          "output_type": "stream",
          "text": [
            "0.07721118313761857 2.0316580405624785\n"
          ],
          "name": "stdout"
        },
        {
          "output_type": "stream",
          "text": [
            "\r 33%|███▎      | 33/100 [06:31<13:15, 11.88s/epochs]"
          ],
          "name": "stderr"
        },
        {
          "output_type": "stream",
          "text": [
            "0.0773207623224992 2.0317328955867504\n"
          ],
          "name": "stdout"
        },
        {
          "output_type": "stream",
          "text": [
            "\r 34%|███▍      | 34/100 [06:43<13:03, 11.87s/epochs]"
          ],
          "name": "stderr"
        },
        {
          "output_type": "stream",
          "text": [
            "0.07738584446219297 2.0318867171754933\n"
          ],
          "name": "stdout"
        },
        {
          "output_type": "stream",
          "text": [
            "\r 35%|███▌      | 35/100 [06:55<12:54, 11.91s/epochs]"
          ],
          "name": "stderr"
        },
        {
          "output_type": "stream",
          "text": [
            "0.07731312840030743 2.031606449939237\n"
          ],
          "name": "stdout"
        },
        {
          "output_type": "stream",
          "text": [
            "\r 36%|███▌      | 36/100 [07:07<12:43, 11.93s/epochs]"
          ],
          "name": "stderr"
        },
        {
          "output_type": "stream",
          "text": [
            "0.07729258663379229 2.0317316635115312\n"
          ],
          "name": "stdout"
        },
        {
          "output_type": "stream",
          "text": [
            "\r 37%|███▋      | 37/100 [07:19<12:29, 11.90s/epochs]"
          ],
          "name": "stderr"
        },
        {
          "output_type": "stream",
          "text": [
            "0.07720370733967194 2.031510425971286\n"
          ],
          "name": "stdout"
        },
        {
          "output_type": "stream",
          "text": [
            "\r 38%|███▊      | 38/100 [07:31<12:16, 11.87s/epochs]"
          ],
          "name": "stderr"
        },
        {
          "output_type": "stream",
          "text": [
            "0.0774129477257912 2.031860184108857\n"
          ],
          "name": "stdout"
        },
        {
          "output_type": "stream",
          "text": [
            "\r 39%|███▉      | 39/100 [07:43<12:05, 11.90s/epochs]"
          ],
          "name": "stderr"
        },
        {
          "output_type": "stream",
          "text": [
            "0.07745721901838597 2.0316622107483373\n"
          ],
          "name": "stdout"
        },
        {
          "output_type": "stream",
          "text": [
            "\r 40%|████      | 40/100 [07:55<11:59, 12.00s/epochs]"
          ],
          "name": "stderr"
        },
        {
          "output_type": "stream",
          "text": [
            "0.0773395832341451 2.0319268610512857\n"
          ],
          "name": "stdout"
        },
        {
          "output_type": "stream",
          "text": [
            "\r 41%|████      | 41/100 [08:07<11:46, 11.97s/epochs]"
          ],
          "name": "stderr"
        },
        {
          "output_type": "stream",
          "text": [
            "0.07725084143189284 2.031458380346251\n"
          ],
          "name": "stdout"
        },
        {
          "output_type": "stream",
          "text": [
            "\r 42%|████▏     | 42/100 [08:19<11:33, 11.95s/epochs]"
          ],
          "name": "stderr"
        },
        {
          "output_type": "stream",
          "text": [
            "0.07732530643160526 2.031735254101234\n"
          ],
          "name": "stdout"
        },
        {
          "output_type": "stream",
          "text": [
            "\r 43%|████▎     | 43/100 [08:31<11:21, 11.96s/epochs]"
          ],
          "name": "stderr"
        },
        {
          "output_type": "stream",
          "text": [
            "0.07740020528435707 2.031573766676506\n"
          ],
          "name": "stdout"
        },
        {
          "output_type": "stream",
          "text": [
            "\r 44%|████▍     | 44/100 [08:42<11:06, 11.91s/epochs]"
          ],
          "name": "stderr"
        },
        {
          "output_type": "stream",
          "text": [
            "0.0773512738255354 2.031591580793409\n"
          ],
          "name": "stdout"
        },
        {
          "output_type": "stream",
          "text": [
            "\r 45%|████▌     | 45/100 [08:54<10:52, 11.87s/epochs]"
          ],
          "name": "stderr"
        },
        {
          "output_type": "stream",
          "text": [
            "0.0773505931863418 2.031716213663026\n"
          ],
          "name": "stdout"
        },
        {
          "output_type": "stream",
          "text": [
            "\r 46%|████▌     | 46/100 [09:06<10:38, 11.83s/epochs]"
          ],
          "name": "stderr"
        },
        {
          "output_type": "stream",
          "text": [
            "0.07731464505195618 2.0315624550722613\n"
          ],
          "name": "stdout"
        },
        {
          "output_type": "stream",
          "text": [
            "\r 47%|████▋     | 47/100 [09:18<10:26, 11.82s/epochs]"
          ],
          "name": "stderr"
        },
        {
          "output_type": "stream",
          "text": [
            "0.07728086744363491 2.0315061786977373\n"
          ],
          "name": "stdout"
        },
        {
          "output_type": "stream",
          "text": [
            "\r 48%|████▊     | 48/100 [09:29<10:13, 11.80s/epochs]"
          ],
          "name": "stderr"
        },
        {
          "output_type": "stream",
          "text": [
            "0.07722032310870977 2.0315893909128584\n"
          ],
          "name": "stdout"
        },
        {
          "output_type": "stream",
          "text": [
            "\r 49%|████▉     | 49/100 [09:41<10:04, 11.85s/epochs]"
          ],
          "name": "stderr"
        },
        {
          "output_type": "stream",
          "text": [
            "0.07730229365137907 2.0314508075318716\n"
          ],
          "name": "stdout"
        },
        {
          "output_type": "stream",
          "text": [
            "\r 50%|█████     | 50/100 [09:53<09:50, 11.82s/epochs]"
          ],
          "name": "stderr"
        },
        {
          "output_type": "stream",
          "text": [
            "0.07736442226629991 2.031444300593126\n"
          ],
          "name": "stdout"
        },
        {
          "output_type": "stream",
          "text": [
            "\r 51%|█████     | 51/100 [10:05<09:39, 11.82s/epochs]"
          ],
          "name": "stderr"
        },
        {
          "output_type": "stream",
          "text": [
            "0.07738233684347226 2.031580708404579\n"
          ],
          "name": "stdout"
        },
        {
          "output_type": "stream",
          "text": [
            "\r 52%|█████▏    | 52/100 [10:17<09:29, 11.86s/epochs]"
          ],
          "name": "stderr"
        },
        {
          "output_type": "stream",
          "text": [
            "0.07723521292209626 2.0315137441353044\n"
          ],
          "name": "stdout"
        },
        {
          "output_type": "stream",
          "text": [
            "\r 53%|█████▎    | 53/100 [10:29<09:16, 11.84s/epochs]"
          ],
          "name": "stderr"
        },
        {
          "output_type": "stream",
          "text": [
            "0.07736356378747866 2.0316139166012848\n"
          ],
          "name": "stdout"
        },
        {
          "output_type": "stream",
          "text": [
            "\r 54%|█████▍    | 54/100 [10:40<09:03, 11.82s/epochs]"
          ],
          "name": "stderr"
        },
        {
          "output_type": "stream",
          "text": [
            "0.07738304109527515 2.0315932678704214\n"
          ],
          "name": "stdout"
        },
        {
          "output_type": "stream",
          "text": [
            "\r 55%|█████▌    | 55/100 [10:52<08:50, 11.78s/epochs]"
          ],
          "name": "stderr"
        },
        {
          "output_type": "stream",
          "text": [
            "0.07741204580435386 2.0317243395170363\n"
          ],
          "name": "stdout"
        },
        {
          "output_type": "stream",
          "text": [
            "\r 56%|█████▌    | 56/100 [11:04<08:35, 11.72s/epochs]"
          ],
          "name": "stderr"
        },
        {
          "output_type": "stream",
          "text": [
            "0.0773994134595761 2.0314723543896536\n"
          ],
          "name": "stdout"
        },
        {
          "output_type": "stream",
          "text": [
            "\r 57%|█████▋    | 57/100 [11:15<08:23, 11.72s/epochs]"
          ],
          "name": "stderr"
        },
        {
          "output_type": "stream",
          "text": [
            "0.07739202953301944 2.0315754257953995\n"
          ],
          "name": "stdout"
        },
        {
          "output_type": "stream",
          "text": [
            "\r 58%|█████▊    | 58/100 [11:27<08:09, 11.66s/epochs]"
          ],
          "name": "stderr"
        },
        {
          "output_type": "stream",
          "text": [
            "0.07723658371430177 2.0313887946528966\n"
          ],
          "name": "stdout"
        },
        {
          "output_type": "stream",
          "text": [
            "\r 59%|█████▉    | 59/100 [11:38<07:56, 11.63s/epochs]"
          ],
          "name": "stderr"
        },
        {
          "output_type": "stream",
          "text": [
            "0.07738961376822912 2.0316155654664088\n"
          ],
          "name": "stdout"
        },
        {
          "output_type": "stream",
          "text": [
            "\r 60%|██████    | 60/100 [11:50<07:44, 11.62s/epochs]"
          ],
          "name": "stderr"
        },
        {
          "output_type": "stream",
          "text": [
            "0.07727419837163045 2.03147220464036\n"
          ],
          "name": "stdout"
        },
        {
          "output_type": "stream",
          "text": [
            "\r 61%|██████    | 61/100 [12:02<07:32, 11.59s/epochs]"
          ],
          "name": "stderr"
        },
        {
          "output_type": "stream",
          "text": [
            "0.0773666752072481 2.0314141636585243\n"
          ],
          "name": "stdout"
        },
        {
          "output_type": "stream",
          "text": [
            "\r 62%|██████▏   | 62/100 [12:13<07:20, 11.60s/epochs]"
          ],
          "name": "stderr"
        },
        {
          "output_type": "stream",
          "text": [
            "0.07721207136145004 2.0313647691861236\n"
          ],
          "name": "stdout"
        },
        {
          "output_type": "stream",
          "text": [
            "\r 63%|██████▎   | 63/100 [12:25<07:09, 11.62s/epochs]"
          ],
          "name": "stderr"
        },
        {
          "output_type": "stream",
          "text": [
            "0.07740714005552805 2.031709833089078\n"
          ],
          "name": "stdout"
        },
        {
          "output_type": "stream",
          "text": [
            "\r 64%|██████▍   | 64/100 [12:37<06:58, 11.62s/epochs]"
          ],
          "name": "stderr"
        },
        {
          "output_type": "stream",
          "text": [
            "0.07722093067490138 2.0315355232151426\n"
          ],
          "name": "stdout"
        },
        {
          "output_type": "stream",
          "text": [
            "\r 65%|██████▌   | 65/100 [12:48<06:47, 11.64s/epochs]"
          ],
          "name": "stderr"
        },
        {
          "output_type": "stream",
          "text": [
            "0.07736807975631493 2.031588654116829\n"
          ],
          "name": "stdout"
        },
        {
          "output_type": "stream",
          "text": [
            "\r 66%|██████▌   | 66/100 [13:00<06:35, 11.64s/epochs]"
          ],
          "name": "stderr"
        },
        {
          "output_type": "stream",
          "text": [
            "0.07732012403699068 2.0315795464090782\n"
          ],
          "name": "stdout"
        },
        {
          "output_type": "stream",
          "text": [
            "\r 67%|██████▋   | 67/100 [13:11<06:23, 11.61s/epochs]"
          ],
          "name": "stderr"
        },
        {
          "output_type": "stream",
          "text": [
            "0.07728416186112624 2.0314084194084203\n"
          ],
          "name": "stdout"
        },
        {
          "output_type": "stream",
          "text": [
            "\r 68%|██████▊   | 68/100 [13:23<06:12, 11.63s/epochs]"
          ],
          "name": "stderr"
        },
        {
          "output_type": "stream",
          "text": [
            "0.07726790555394612 2.031367465779923\n"
          ],
          "name": "stdout"
        },
        {
          "output_type": "stream",
          "text": [
            "\r 69%|██████▉   | 69/100 [13:35<06:00, 11.63s/epochs]"
          ],
          "name": "stderr"
        },
        {
          "output_type": "stream",
          "text": [
            "0.07740046760210624 2.031461453673863\n"
          ],
          "name": "stdout"
        },
        {
          "output_type": "stream",
          "text": [
            "\r 70%|███████   | 70/100 [13:46<05:47, 11.58s/epochs]"
          ],
          "name": "stderr"
        },
        {
          "output_type": "stream",
          "text": [
            "0.07733755432642424 2.0314920433972143\n"
          ],
          "name": "stdout"
        },
        {
          "output_type": "stream",
          "text": [
            "\r 71%|███████   | 71/100 [13:58<05:35, 11.57s/epochs]"
          ],
          "name": "stderr"
        },
        {
          "output_type": "stream",
          "text": [
            "0.07740815430879593 2.0316518508266697\n"
          ],
          "name": "stdout"
        },
        {
          "output_type": "stream",
          "text": [
            "\r 72%|███████▏  | 72/100 [14:09<05:21, 11.48s/epochs]"
          ],
          "name": "stderr"
        },
        {
          "output_type": "stream",
          "text": [
            "0.07732015189069968 2.0316560451347048\n"
          ],
          "name": "stdout"
        },
        {
          "output_type": "stream",
          "text": [
            "\r 73%|███████▎  | 73/100 [14:20<05:08, 11.43s/epochs]"
          ],
          "name": "stderr"
        },
        {
          "output_type": "stream",
          "text": [
            "0.07735480700547878 2.031578697559267\n"
          ],
          "name": "stdout"
        },
        {
          "output_type": "stream",
          "text": [
            "\r 74%|███████▍  | 74/100 [14:32<04:58, 11.47s/epochs]"
          ],
          "name": "stderr"
        },
        {
          "output_type": "stream",
          "text": [
            "0.07720358841694318 2.031426387036791\n"
          ],
          "name": "stdout"
        },
        {
          "output_type": "stream",
          "text": [
            "\r 75%|███████▌  | 75/100 [14:43<04:45, 11.44s/epochs]"
          ],
          "name": "stderr"
        },
        {
          "output_type": "stream",
          "text": [
            "0.07738894447684289 2.031474416651348\n"
          ],
          "name": "stdout"
        },
        {
          "output_type": "stream",
          "text": [
            "\r 76%|███████▌  | 76/100 [14:55<04:34, 11.45s/epochs]"
          ],
          "name": "stderr"
        },
        {
          "output_type": "stream",
          "text": [
            "0.07735349272306148 2.031433343149648\n"
          ],
          "name": "stdout"
        },
        {
          "output_type": "stream",
          "text": [
            "\r 77%|███████▋  | 77/100 [15:06<04:22, 11.43s/epochs]"
          ],
          "name": "stderr"
        },
        {
          "output_type": "stream",
          "text": [
            "0.07736546643651449 2.0313865338074097\n"
          ],
          "name": "stdout"
        },
        {
          "output_type": "stream",
          "text": [
            "\r 78%|███████▊  | 78/100 [15:18<04:11, 11.43s/epochs]"
          ],
          "name": "stderr"
        },
        {
          "output_type": "stream",
          "text": [
            "0.0772508860207521 2.031461311596455\n"
          ],
          "name": "stdout"
        },
        {
          "output_type": "stream",
          "text": [
            "\r 79%|███████▉  | 79/100 [15:29<04:01, 11.48s/epochs]"
          ],
          "name": "stderr"
        },
        {
          "output_type": "stream",
          "text": [
            "0.07729739443613932 2.031623211385\n"
          ],
          "name": "stdout"
        },
        {
          "output_type": "stream",
          "text": [
            "\r 80%|████████  | 80/100 [15:41<03:49, 11.47s/epochs]"
          ],
          "name": "stderr"
        },
        {
          "output_type": "stream",
          "text": [
            "0.07726213914843706 2.0314436864734877\n"
          ],
          "name": "stdout"
        },
        {
          "output_type": "stream",
          "text": [
            "\r 81%|████████  | 81/100 [15:52<03:37, 11.44s/epochs]"
          ],
          "name": "stderr"
        },
        {
          "output_type": "stream",
          "text": [
            "0.07743168759804506 2.0315469057843236\n"
          ],
          "name": "stdout"
        },
        {
          "output_type": "stream",
          "text": [
            "\r 82%|████████▏ | 82/100 [16:03<03:26, 11.45s/epochs]"
          ],
          "name": "stderr"
        },
        {
          "output_type": "stream",
          "text": [
            "0.07726479940689528 2.0314402368546713\n"
          ],
          "name": "stdout"
        },
        {
          "output_type": "stream",
          "text": [
            "\r 83%|████████▎ | 83/100 [16:15<03:14, 11.47s/epochs]"
          ],
          "name": "stderr"
        },
        {
          "output_type": "stream",
          "text": [
            "0.07721685520731486 2.031480000013172\n"
          ],
          "name": "stdout"
        },
        {
          "output_type": "stream",
          "text": [
            "\r 84%|████████▍ | 84/100 [16:26<03:03, 11.44s/epochs]"
          ],
          "name": "stderr"
        },
        {
          "output_type": "stream",
          "text": [
            "0.07741552872153429 2.0316557831103257\n"
          ],
          "name": "stdout"
        },
        {
          "output_type": "stream",
          "text": [
            "\r 85%|████████▌ | 85/100 [16:38<02:51, 11.42s/epochs]"
          ],
          "name": "stderr"
        },
        {
          "output_type": "stream",
          "text": [
            "0.07728746946041401 2.0314162432557286\n"
          ],
          "name": "stdout"
        },
        {
          "output_type": "stream",
          "text": [
            "\r 86%|████████▌ | 86/100 [16:49<02:40, 11.43s/epochs]"
          ],
          "name": "stderr"
        },
        {
          "output_type": "stream",
          "text": [
            "0.07742983819200443 2.0316582664404765\n"
          ],
          "name": "stdout"
        },
        {
          "output_type": "stream",
          "text": [
            "\r 87%|████████▋ | 87/100 [17:01<02:28, 11.43s/epochs]"
          ],
          "name": "stderr"
        },
        {
          "output_type": "stream",
          "text": [
            "0.07737716344686654 2.0316067561507225\n"
          ],
          "name": "stdout"
        },
        {
          "output_type": "stream",
          "text": [
            "\r 88%|████████▊ | 88/100 [17:12<02:16, 11.41s/epochs]"
          ],
          "name": "stderr"
        },
        {
          "output_type": "stream",
          "text": [
            "0.07734211092958083 2.0315800818181273\n"
          ],
          "name": "stdout"
        },
        {
          "output_type": "stream",
          "text": [
            "\r 89%|████████▉ | 89/100 [17:23<02:05, 11.40s/epochs]"
          ],
          "name": "stderr"
        },
        {
          "output_type": "stream",
          "text": [
            "0.07742372521987329 2.0317227574858334\n"
          ],
          "name": "stdout"
        },
        {
          "output_type": "stream",
          "text": [
            "\r 90%|█████████ | 90/100 [17:35<01:53, 11.37s/epochs]"
          ],
          "name": "stderr"
        },
        {
          "output_type": "stream",
          "text": [
            "0.07721690953924105 2.0314325556011483\n"
          ],
          "name": "stdout"
        },
        {
          "output_type": "stream",
          "text": [
            "\r 91%|█████████ | 91/100 [17:46<01:42, 11.41s/epochs]"
          ],
          "name": "stderr"
        },
        {
          "output_type": "stream",
          "text": [
            "0.07733168922937833 2.031402551744244\n"
          ],
          "name": "stdout"
        },
        {
          "output_type": "stream",
          "text": [
            "\r 92%|█████████▏| 92/100 [17:58<01:31, 11.44s/epochs]"
          ],
          "name": "stderr"
        },
        {
          "output_type": "stream",
          "text": [
            "0.0772693732036994 2.031557372596004\n"
          ],
          "name": "stdout"
        },
        {
          "output_type": "stream",
          "text": [
            "\r 93%|█████████▎| 93/100 [18:09<01:19, 11.39s/epochs]"
          ],
          "name": "stderr"
        },
        {
          "output_type": "stream",
          "text": [
            "0.3114271531311365 2.2450162467390005\n"
          ],
          "name": "stdout"
        },
        {
          "output_type": "stream",
          "text": [
            "\r 94%|█████████▍| 94/100 [18:20<01:08, 11.44s/epochs]"
          ],
          "name": "stderr"
        },
        {
          "output_type": "stream",
          "text": [
            "0.43784599418823533 2.392000892079703\n"
          ],
          "name": "stdout"
        },
        {
          "output_type": "stream",
          "text": [
            "\r 95%|█████████▌| 95/100 [18:32<00:56, 11.40s/epochs]"
          ],
          "name": "stderr"
        },
        {
          "output_type": "stream",
          "text": [
            "0.43784509645058556 2.392025341491888\n"
          ],
          "name": "stdout"
        },
        {
          "output_type": "stream",
          "text": [
            "\r 96%|█████████▌| 96/100 [18:43<00:45, 11.37s/epochs]"
          ],
          "name": "stderr"
        },
        {
          "output_type": "stream",
          "text": [
            "0.4378458758959403 2.3919253266683898\n"
          ],
          "name": "stdout"
        },
        {
          "output_type": "stream",
          "text": [
            "\r 97%|█████████▋| 97/100 [18:55<00:34, 11.47s/epochs]"
          ],
          "name": "stderr"
        },
        {
          "output_type": "stream",
          "text": [
            "0.4379054436316857 2.3919911232620183\n"
          ],
          "name": "stdout"
        },
        {
          "output_type": "stream",
          "text": [
            "\r 98%|█████████▊| 98/100 [19:06<00:22, 11.45s/epochs]"
          ],
          "name": "stderr"
        },
        {
          "output_type": "stream",
          "text": [
            "0.43788973918327917 2.392015851370179\n"
          ],
          "name": "stdout"
        },
        {
          "output_type": "stream",
          "text": [
            "\r 99%|█████████▉| 99/100 [19:17<00:11, 11.42s/epochs]"
          ],
          "name": "stderr"
        },
        {
          "output_type": "stream",
          "text": [
            "0.43787912543003377 2.3921253790359684\n"
          ],
          "name": "stdout"
        },
        {
          "output_type": "stream",
          "text": [
            "100%|██████████| 100/100 [19:29<00:00, 11.69s/epochs]"
          ],
          "name": "stderr"
        },
        {
          "output_type": "stream",
          "text": [
            "0.43779509961605073 2.3917736765181665\n"
          ],
          "name": "stdout"
        },
        {
          "output_type": "stream",
          "text": [
            "\n"
          ],
          "name": "stderr"
        }
      ]
    },
    {
      "cell_type": "code",
      "metadata": {
        "id": "Bzrp8ityk2d8"
      },
      "source": [
        "attk_state = gantrainer.attacker.state_dict()\r\n",
        "enc_state = gantrainer.enc.state_dict()"
      ],
      "execution_count": null,
      "outputs": []
    },
    {
      "cell_type": "code",
      "metadata": {
        "colab": {
          "base_uri": "https://localhost:8080/"
        },
        "id": "XIFPjyrenLgU",
        "outputId": "d59e3f34-6d27-417c-feda-0d3095d3f331"
      },
      "source": [
        "gantrainer.train(100,False)"
      ],
      "execution_count": null,
      "outputs": [
        {
          "output_type": "stream",
          "text": [
            "  1%|          | 1/100 [00:11<19:35, 11.87s/epochs]"
          ],
          "name": "stderr"
        },
        {
          "output_type": "stream",
          "text": [
            "Enc fixed 1.6977836301586013\n"
          ],
          "name": "stdout"
        },
        {
          "output_type": "stream",
          "text": [
            "\r  2%|▏         | 2/100 [00:23<19:21, 11.85s/epochs]"
          ],
          "name": "stderr"
        },
        {
          "output_type": "stream",
          "text": [
            "Enc fixed 1.6978891571320451\n"
          ],
          "name": "stdout"
        },
        {
          "output_type": "stream",
          "text": [
            "\r  3%|▎         | 3/100 [00:35<19:09, 11.85s/epochs]"
          ],
          "name": "stderr"
        },
        {
          "output_type": "stream",
          "text": [
            "Enc fixed 1.6976059956718355\n"
          ],
          "name": "stdout"
        },
        {
          "output_type": "stream",
          "text": [
            "\r  4%|▍         | 4/100 [00:47<19:00, 11.88s/epochs]"
          ],
          "name": "stderr"
        },
        {
          "output_type": "stream",
          "text": [
            "Enc fixed 1.698870238210601\n"
          ],
          "name": "stdout"
        },
        {
          "output_type": "stream",
          "text": [
            "\r  5%|▌         | 5/100 [00:59<18:49, 11.88s/epochs]"
          ],
          "name": "stderr"
        },
        {
          "output_type": "stream",
          "text": [
            "Enc fixed 1.694588847696654\n"
          ],
          "name": "stdout"
        },
        {
          "output_type": "stream",
          "text": [
            "\r  6%|▌         | 6/100 [01:11<18:36, 11.88s/epochs]"
          ],
          "name": "stderr"
        },
        {
          "output_type": "stream",
          "text": [
            "Enc fixed 1.6968196228877315\n"
          ],
          "name": "stdout"
        },
        {
          "output_type": "stream",
          "text": [
            "\r  7%|▋         | 7/100 [01:22<18:20, 11.83s/epochs]"
          ],
          "name": "stderr"
        },
        {
          "output_type": "stream",
          "text": [
            "Enc fixed 1.696942893935165\n"
          ],
          "name": "stdout"
        },
        {
          "output_type": "stream",
          "text": [
            "\r  8%|▊         | 8/100 [01:34<18:04, 11.79s/epochs]"
          ],
          "name": "stderr"
        },
        {
          "output_type": "stream",
          "text": [
            "Enc fixed 1.698629915714264\n"
          ],
          "name": "stdout"
        },
        {
          "output_type": "stream",
          "text": [
            "\r  9%|▉         | 9/100 [01:46<17:57, 11.85s/epochs]"
          ],
          "name": "stderr"
        },
        {
          "output_type": "stream",
          "text": [
            "Enc fixed 1.698056669695291\n"
          ],
          "name": "stdout"
        },
        {
          "output_type": "stream",
          "text": [
            "\r 10%|█         | 10/100 [01:58<17:44, 11.82s/epochs]"
          ],
          "name": "stderr"
        },
        {
          "output_type": "stream",
          "text": [
            "Enc fixed 1.6979274707816556\n"
          ],
          "name": "stdout"
        },
        {
          "output_type": "stream",
          "text": [
            "\r 11%|█         | 11/100 [02:10<17:31, 11.81s/epochs]"
          ],
          "name": "stderr"
        },
        {
          "output_type": "stream",
          "text": [
            "Enc fixed 1.6958995921525366\n"
          ],
          "name": "stdout"
        },
        {
          "output_type": "stream",
          "text": [
            "\r 12%|█▏        | 12/100 [02:22<17:20, 11.82s/epochs]"
          ],
          "name": "stderr"
        },
        {
          "output_type": "stream",
          "text": [
            "Enc fixed 1.6978531029941177\n"
          ],
          "name": "stdout"
        },
        {
          "output_type": "stream",
          "text": [
            "\r 13%|█▎        | 13/100 [02:33<17:03, 11.77s/epochs]"
          ],
          "name": "stderr"
        },
        {
          "output_type": "stream",
          "text": [
            "Enc fixed 1.6973846095330172\n"
          ],
          "name": "stdout"
        },
        {
          "output_type": "stream",
          "text": [
            "\r 14%|█▍        | 14/100 [02:45<16:49, 11.74s/epochs]"
          ],
          "name": "stderr"
        },
        {
          "output_type": "stream",
          "text": [
            "Enc fixed 1.696968534734966\n"
          ],
          "name": "stdout"
        },
        {
          "output_type": "stream",
          "text": [
            "\r 15%|█▌        | 15/100 [02:57<16:36, 11.72s/epochs]"
          ],
          "name": "stderr"
        },
        {
          "output_type": "stream",
          "text": [
            "Enc fixed 1.6955651131901406\n"
          ],
          "name": "stdout"
        },
        {
          "output_type": "stream",
          "text": [
            "\r 16%|█▌        | 16/100 [03:08<16:23, 11.71s/epochs]"
          ],
          "name": "stderr"
        },
        {
          "output_type": "stream",
          "text": [
            "Enc fixed 1.6959977734571836\n"
          ],
          "name": "stdout"
        },
        {
          "output_type": "stream",
          "text": [
            "\r 17%|█▋        | 17/100 [03:20<16:16, 11.76s/epochs]"
          ],
          "name": "stderr"
        },
        {
          "output_type": "stream",
          "text": [
            "Enc fixed 1.697604781020679\n"
          ],
          "name": "stdout"
        },
        {
          "output_type": "stream",
          "text": [
            "\r 18%|█▊        | 18/100 [03:32<16:03, 11.75s/epochs]"
          ],
          "name": "stderr"
        },
        {
          "output_type": "stream",
          "text": [
            "Enc fixed 1.6973245379004651\n"
          ],
          "name": "stdout"
        },
        {
          "output_type": "stream",
          "text": [
            "\r 19%|█▉        | 19/100 [03:43<15:49, 11.72s/epochs]"
          ],
          "name": "stderr"
        },
        {
          "output_type": "stream",
          "text": [
            "Enc fixed 1.6966063311613444\n"
          ],
          "name": "stdout"
        },
        {
          "output_type": "stream",
          "text": [
            "\r 20%|██        | 20/100 [03:55<15:36, 11.70s/epochs]"
          ],
          "name": "stderr"
        },
        {
          "output_type": "stream",
          "text": [
            "Enc fixed 1.69736485891759\n"
          ],
          "name": "stdout"
        },
        {
          "output_type": "stream",
          "text": [
            "\r 21%|██        | 21/100 [04:07<15:26, 11.73s/epochs]"
          ],
          "name": "stderr"
        },
        {
          "output_type": "stream",
          "text": [
            "Enc fixed 1.6972418853214808\n"
          ],
          "name": "stdout"
        },
        {
          "output_type": "stream",
          "text": [
            "\r 22%|██▏       | 22/100 [04:19<15:11, 11.69s/epochs]"
          ],
          "name": "stderr"
        },
        {
          "output_type": "stream",
          "text": [
            "Enc fixed 1.6981183491281864\n"
          ],
          "name": "stdout"
        },
        {
          "output_type": "stream",
          "text": [
            "\r 23%|██▎       | 23/100 [04:30<15:01, 11.71s/epochs]"
          ],
          "name": "stderr"
        },
        {
          "output_type": "stream",
          "text": [
            "Enc fixed 1.6959645954022275\n"
          ],
          "name": "stdout"
        },
        {
          "output_type": "stream",
          "text": [
            "\r 24%|██▍       | 24/100 [04:42<14:49, 11.71s/epochs]"
          ],
          "name": "stderr"
        },
        {
          "output_type": "stream",
          "text": [
            "Enc fixed 1.697640446902338\n"
          ],
          "name": "stdout"
        },
        {
          "output_type": "stream",
          "text": [
            "\r 25%|██▌       | 25/100 [04:54<14:42, 11.77s/epochs]"
          ],
          "name": "stderr"
        },
        {
          "output_type": "stream",
          "text": [
            "Enc fixed 1.698114594925187\n"
          ],
          "name": "stdout"
        },
        {
          "output_type": "stream",
          "text": [
            "\r 26%|██▌       | 26/100 [05:06<14:31, 11.77s/epochs]"
          ],
          "name": "stderr"
        },
        {
          "output_type": "stream",
          "text": [
            "Enc fixed 1.6993825878542879\n"
          ],
          "name": "stdout"
        },
        {
          "output_type": "stream",
          "text": [
            "\r 27%|██▋       | 27/100 [05:17<14:17, 11.74s/epochs]"
          ],
          "name": "stderr"
        },
        {
          "output_type": "stream",
          "text": [
            "Enc fixed 1.6982049910244403\n"
          ],
          "name": "stdout"
        },
        {
          "output_type": "stream",
          "text": [
            "\r 28%|██▊       | 28/100 [05:29<14:07, 11.77s/epochs]"
          ],
          "name": "stderr"
        },
        {
          "output_type": "stream",
          "text": [
            "Enc fixed 1.6958458583746383\n"
          ],
          "name": "stdout"
        },
        {
          "output_type": "stream",
          "text": [
            "\r 29%|██▉       | 29/100 [05:41<13:58, 11.80s/epochs]"
          ],
          "name": "stderr"
        },
        {
          "output_type": "stream",
          "text": [
            "Enc fixed 1.6957273956046683\n"
          ],
          "name": "stdout"
        },
        {
          "output_type": "stream",
          "text": [
            "\r 30%|███       | 30/100 [05:53<13:43, 11.77s/epochs]"
          ],
          "name": "stderr"
        },
        {
          "output_type": "stream",
          "text": [
            "Enc fixed 1.696067815078601\n"
          ],
          "name": "stdout"
        },
        {
          "output_type": "stream",
          "text": [
            "\r 31%|███       | 31/100 [06:05<13:35, 11.82s/epochs]"
          ],
          "name": "stderr"
        },
        {
          "output_type": "stream",
          "text": [
            "Enc fixed 1.6969040509607238\n"
          ],
          "name": "stdout"
        },
        {
          "output_type": "stream",
          "text": [
            "\r 32%|███▏      | 32/100 [06:17<13:25, 11.84s/epochs]"
          ],
          "name": "stderr"
        },
        {
          "output_type": "stream",
          "text": [
            "Enc fixed 1.696439312719333\n"
          ],
          "name": "stdout"
        },
        {
          "output_type": "stream",
          "text": [
            "\r 33%|███▎      | 33/100 [06:28<13:10, 11.80s/epochs]"
          ],
          "name": "stderr"
        },
        {
          "output_type": "stream",
          "text": [
            "Enc fixed 1.697408405448328\n"
          ],
          "name": "stdout"
        },
        {
          "output_type": "stream",
          "text": [
            "\r 34%|███▍      | 34/100 [06:40<12:58, 11.79s/epochs]"
          ],
          "name": "stderr"
        },
        {
          "output_type": "stream",
          "text": [
            "Enc fixed 1.696776949774736\n"
          ],
          "name": "stdout"
        },
        {
          "output_type": "stream",
          "text": [
            "\r 35%|███▌      | 35/100 [06:52<12:51, 11.86s/epochs]"
          ],
          "name": "stderr"
        },
        {
          "output_type": "stream",
          "text": [
            "Enc fixed 1.6998823790280804\n"
          ],
          "name": "stdout"
        },
        {
          "output_type": "stream",
          "text": [
            "\r 36%|███▌      | 36/100 [07:04<12:36, 11.82s/epochs]"
          ],
          "name": "stderr"
        },
        {
          "output_type": "stream",
          "text": [
            "Enc fixed 1.6957863570530531\n"
          ],
          "name": "stdout"
        },
        {
          "output_type": "stream",
          "text": [
            "\r 37%|███▋      | 37/100 [07:16<12:24, 11.82s/epochs]"
          ],
          "name": "stderr"
        },
        {
          "output_type": "stream",
          "text": [
            "Enc fixed 1.6961223355996837\n"
          ],
          "name": "stdout"
        },
        {
          "output_type": "stream",
          "text": [
            "\r 38%|███▊      | 38/100 [07:27<12:10, 11.79s/epochs]"
          ],
          "name": "stderr"
        },
        {
          "output_type": "stream",
          "text": [
            "Enc fixed 1.6981902219085043\n"
          ],
          "name": "stdout"
        },
        {
          "output_type": "stream",
          "text": [
            "\r 39%|███▉      | 39/100 [07:39<11:58, 11.78s/epochs]"
          ],
          "name": "stderr"
        },
        {
          "output_type": "stream",
          "text": [
            "Enc fixed 1.6970873683500391\n"
          ],
          "name": "stdout"
        },
        {
          "output_type": "stream",
          "text": [
            "\r 40%|████      | 40/100 [07:51<11:49, 11.83s/epochs]"
          ],
          "name": "stderr"
        },
        {
          "output_type": "stream",
          "text": [
            "Enc fixed 1.6975306887616481\n"
          ],
          "name": "stdout"
        },
        {
          "output_type": "stream",
          "text": [
            "\r 41%|████      | 41/100 [08:03<11:39, 11.85s/epochs]"
          ],
          "name": "stderr"
        },
        {
          "output_type": "stream",
          "text": [
            "Enc fixed 1.6973043025683747\n"
          ],
          "name": "stdout"
        },
        {
          "output_type": "stream",
          "text": [
            "\r 42%|████▏     | 42/100 [08:15<11:24, 11.81s/epochs]"
          ],
          "name": "stderr"
        },
        {
          "output_type": "stream",
          "text": [
            "Enc fixed 1.6994325081422639\n"
          ],
          "name": "stdout"
        },
        {
          "output_type": "stream",
          "text": [
            "\r 43%|████▎     | 43/100 [08:27<11:14, 11.83s/epochs]"
          ],
          "name": "stderr"
        },
        {
          "output_type": "stream",
          "text": [
            "Enc fixed 1.6967424992432218\n"
          ],
          "name": "stdout"
        },
        {
          "output_type": "stream",
          "text": [
            "\r 44%|████▍     | 44/100 [08:38<11:00, 11.80s/epochs]"
          ],
          "name": "stderr"
        },
        {
          "output_type": "stream",
          "text": [
            "Enc fixed 1.698379433866757\n"
          ],
          "name": "stdout"
        },
        {
          "output_type": "stream",
          "text": [
            "\r 45%|████▌     | 45/100 [08:50<10:51, 11.85s/epochs]"
          ],
          "name": "stderr"
        },
        {
          "output_type": "stream",
          "text": [
            "Enc fixed 1.6981766282368316\n"
          ],
          "name": "stdout"
        },
        {
          "output_type": "stream",
          "text": [
            "\r 46%|████▌     | 46/100 [09:02<10:39, 11.84s/epochs]"
          ],
          "name": "stderr"
        },
        {
          "output_type": "stream",
          "text": [
            "Enc fixed 1.6965351020857724\n"
          ],
          "name": "stdout"
        },
        {
          "output_type": "stream",
          "text": [
            "\r 47%|████▋     | 47/100 [09:14<10:25, 11.80s/epochs]"
          ],
          "name": "stderr"
        },
        {
          "output_type": "stream",
          "text": [
            "Enc fixed 1.6975882368555455\n"
          ],
          "name": "stdout"
        },
        {
          "output_type": "stream",
          "text": [
            "\r 48%|████▊     | 48/100 [09:25<10:13, 11.79s/epochs]"
          ],
          "name": "stderr"
        },
        {
          "output_type": "stream",
          "text": [
            "Enc fixed 1.6963803672841362\n"
          ],
          "name": "stdout"
        },
        {
          "output_type": "stream",
          "text": [
            "\r 49%|████▉     | 49/100 [09:37<10:00, 11.77s/epochs]"
          ],
          "name": "stderr"
        },
        {
          "output_type": "stream",
          "text": [
            "Enc fixed 1.6979383910134402\n"
          ],
          "name": "stdout"
        },
        {
          "output_type": "stream",
          "text": [
            "\r 50%|█████     | 50/100 [09:49<09:49, 11.79s/epochs]"
          ],
          "name": "stderr"
        },
        {
          "output_type": "stream",
          "text": [
            "Enc fixed 1.697415005741343\n"
          ],
          "name": "stdout"
        },
        {
          "output_type": "stream",
          "text": [
            "\r 51%|█████     | 51/100 [10:01<09:35, 11.75s/epochs]"
          ],
          "name": "stderr"
        },
        {
          "output_type": "stream",
          "text": [
            "Enc fixed 1.696672414284525\n"
          ],
          "name": "stdout"
        },
        {
          "output_type": "stream",
          "text": [
            "\r 52%|█████▏    | 52/100 [10:12<09:22, 11.71s/epochs]"
          ],
          "name": "stderr"
        },
        {
          "output_type": "stream",
          "text": [
            "Enc fixed 1.6963559057412625\n"
          ],
          "name": "stdout"
        },
        {
          "output_type": "stream",
          "text": [
            "\r 53%|█████▎    | 53/100 [10:24<09:07, 11.66s/epochs]"
          ],
          "name": "stderr"
        },
        {
          "output_type": "stream",
          "text": [
            "Enc fixed 1.69680007942704\n"
          ],
          "name": "stdout"
        },
        {
          "output_type": "stream",
          "text": [
            "\r 54%|█████▍    | 54/100 [10:35<08:54, 11.63s/epochs]"
          ],
          "name": "stderr"
        },
        {
          "output_type": "stream",
          "text": [
            "Enc fixed 1.696372791457532\n"
          ],
          "name": "stdout"
        },
        {
          "output_type": "stream",
          "text": [
            "\r 55%|█████▌    | 55/100 [10:47<08:43, 11.63s/epochs]"
          ],
          "name": "stderr"
        },
        {
          "output_type": "stream",
          "text": [
            "Enc fixed 1.6967106420221105\n"
          ],
          "name": "stdout"
        },
        {
          "output_type": "stream",
          "text": [
            "\r 56%|█████▌    | 56/100 [10:59<08:31, 11.63s/epochs]"
          ],
          "name": "stderr"
        },
        {
          "output_type": "stream",
          "text": [
            "Enc fixed 1.6963254227948341\n"
          ],
          "name": "stdout"
        },
        {
          "output_type": "stream",
          "text": [
            "\r 57%|█████▋    | 57/100 [11:10<08:20, 11.63s/epochs]"
          ],
          "name": "stderr"
        },
        {
          "output_type": "stream",
          "text": [
            "Enc fixed 1.6981213149993912\n"
          ],
          "name": "stdout"
        },
        {
          "output_type": "stream",
          "text": [
            "\r 58%|█████▊    | 58/100 [11:22<08:07, 11.62s/epochs]"
          ],
          "name": "stderr"
        },
        {
          "output_type": "stream",
          "text": [
            "Enc fixed 1.697032062483749\n"
          ],
          "name": "stdout"
        },
        {
          "output_type": "stream",
          "text": [
            "\r 59%|█████▉    | 59/100 [11:34<07:56, 11.62s/epochs]"
          ],
          "name": "stderr"
        },
        {
          "output_type": "stream",
          "text": [
            "Enc fixed 1.6986243576129108\n"
          ],
          "name": "stdout"
        },
        {
          "output_type": "stream",
          "text": [
            "\r 60%|██████    | 60/100 [11:45<07:44, 11.62s/epochs]"
          ],
          "name": "stderr"
        },
        {
          "output_type": "stream",
          "text": [
            "Enc fixed 1.697098280956496\n"
          ],
          "name": "stdout"
        },
        {
          "output_type": "stream",
          "text": [
            "\r 61%|██████    | 61/100 [11:57<07:33, 11.63s/epochs]"
          ],
          "name": "stderr"
        },
        {
          "output_type": "stream",
          "text": [
            "Enc fixed 1.6956811207952276\n"
          ],
          "name": "stdout"
        },
        {
          "output_type": "stream",
          "text": [
            "\r 62%|██████▏   | 62/100 [12:08<07:22, 11.64s/epochs]"
          ],
          "name": "stderr"
        },
        {
          "output_type": "stream",
          "text": [
            "Enc fixed 1.6983317764583172\n"
          ],
          "name": "stdout"
        },
        {
          "output_type": "stream",
          "text": [
            "\r 63%|██████▎   | 63/100 [12:20<07:09, 11.60s/epochs]"
          ],
          "name": "stderr"
        },
        {
          "output_type": "stream",
          "text": [
            "Enc fixed 1.6959562984738015\n"
          ],
          "name": "stdout"
        },
        {
          "output_type": "stream",
          "text": [
            "\r 64%|██████▍   | 64/100 [12:31<06:55, 11.54s/epochs]"
          ],
          "name": "stderr"
        },
        {
          "output_type": "stream",
          "text": [
            "Enc fixed 1.6962979939192342\n"
          ],
          "name": "stdout"
        },
        {
          "output_type": "stream",
          "text": [
            "\r 65%|██████▌   | 65/100 [12:43<06:43, 11.54s/epochs]"
          ],
          "name": "stderr"
        },
        {
          "output_type": "stream",
          "text": [
            "Enc fixed 1.696417473907918\n"
          ],
          "name": "stdout"
        },
        {
          "output_type": "stream",
          "text": [
            "\r 66%|██████▌   | 66/100 [12:55<06:33, 11.56s/epochs]"
          ],
          "name": "stderr"
        },
        {
          "output_type": "stream",
          "text": [
            "Enc fixed 1.6980833277773502\n"
          ],
          "name": "stdout"
        },
        {
          "output_type": "stream",
          "text": [
            "\r 67%|██████▋   | 67/100 [13:06<06:20, 11.54s/epochs]"
          ],
          "name": "stderr"
        },
        {
          "output_type": "stream",
          "text": [
            "Enc fixed 1.6965329966057083\n"
          ],
          "name": "stdout"
        },
        {
          "output_type": "stream",
          "text": [
            "\r 68%|██████▊   | 68/100 [13:18<06:10, 11.58s/epochs]"
          ],
          "name": "stderr"
        },
        {
          "output_type": "stream",
          "text": [
            "Enc fixed 1.6960794815122446\n"
          ],
          "name": "stdout"
        },
        {
          "output_type": "stream",
          "text": [
            "\r 69%|██████▉   | 69/100 [13:29<06:00, 11.62s/epochs]"
          ],
          "name": "stderr"
        },
        {
          "output_type": "stream",
          "text": [
            "Enc fixed 1.6970034275990304\n"
          ],
          "name": "stdout"
        },
        {
          "output_type": "stream",
          "text": [
            "\r 70%|███████   | 70/100 [13:41<05:48, 11.61s/epochs]"
          ],
          "name": "stderr"
        },
        {
          "output_type": "stream",
          "text": [
            "Enc fixed 1.6961771996417787\n"
          ],
          "name": "stdout"
        },
        {
          "output_type": "stream",
          "text": [
            "\r 71%|███████   | 71/100 [13:53<05:36, 11.61s/epochs]"
          ],
          "name": "stderr"
        },
        {
          "output_type": "stream",
          "text": [
            "Enc fixed 1.698248317183208\n"
          ],
          "name": "stdout"
        },
        {
          "output_type": "stream",
          "text": [
            "\r 72%|███████▏  | 72/100 [14:04<05:25, 11.61s/epochs]"
          ],
          "name": "stderr"
        },
        {
          "output_type": "stream",
          "text": [
            "Enc fixed 1.694741802683263\n"
          ],
          "name": "stdout"
        },
        {
          "output_type": "stream",
          "text": [
            "\r 73%|███████▎  | 73/100 [14:16<05:13, 11.60s/epochs]"
          ],
          "name": "stderr"
        },
        {
          "output_type": "stream",
          "text": [
            "Enc fixed 1.6973160125299303\n"
          ],
          "name": "stdout"
        },
        {
          "output_type": "stream",
          "text": [
            "\r 74%|███████▍  | 74/100 [14:27<05:01, 11.60s/epochs]"
          ],
          "name": "stderr"
        },
        {
          "output_type": "stream",
          "text": [
            "Enc fixed 1.6968162876329442\n"
          ],
          "name": "stdout"
        },
        {
          "output_type": "stream",
          "text": [
            "\r 75%|███████▌  | 75/100 [14:39<04:47, 11.51s/epochs]"
          ],
          "name": "stderr"
        },
        {
          "output_type": "stream",
          "text": [
            "Enc fixed 1.6954718816763303\n"
          ],
          "name": "stdout"
        },
        {
          "output_type": "stream",
          "text": [
            "\r 76%|███████▌  | 76/100 [14:50<04:36, 11.52s/epochs]"
          ],
          "name": "stderr"
        },
        {
          "output_type": "stream",
          "text": [
            "Enc fixed 1.6976257853670669\n"
          ],
          "name": "stdout"
        },
        {
          "output_type": "stream",
          "text": [
            "\r 77%|███████▋  | 77/100 [15:02<04:24, 11.50s/epochs]"
          ],
          "name": "stderr"
        },
        {
          "output_type": "stream",
          "text": [
            "Enc fixed 1.696002730746259\n"
          ],
          "name": "stdout"
        },
        {
          "output_type": "stream",
          "text": [
            "\r 78%|███████▊  | 78/100 [15:13<04:13, 11.51s/epochs]"
          ],
          "name": "stderr"
        },
        {
          "output_type": "stream",
          "text": [
            "Enc fixed 1.6960918586264286\n"
          ],
          "name": "stdout"
        },
        {
          "output_type": "stream",
          "text": [
            "\r 79%|███████▉  | 79/100 [15:25<04:02, 11.55s/epochs]"
          ],
          "name": "stderr"
        },
        {
          "output_type": "stream",
          "text": [
            "Enc fixed 1.696682624788935\n"
          ],
          "name": "stdout"
        },
        {
          "output_type": "stream",
          "text": [
            "\r 80%|████████  | 80/100 [15:37<03:51, 11.59s/epochs]"
          ],
          "name": "stderr"
        },
        {
          "output_type": "stream",
          "text": [
            "Enc fixed 1.6975271966157437\n"
          ],
          "name": "stdout"
        },
        {
          "output_type": "stream",
          "text": [
            "\r 81%|████████  | 81/100 [15:48<03:39, 11.58s/epochs]"
          ],
          "name": "stderr"
        },
        {
          "output_type": "stream",
          "text": [
            "Enc fixed 1.696774699413446\n"
          ],
          "name": "stdout"
        },
        {
          "output_type": "stream",
          "text": [
            "\r 82%|████████▏ | 82/100 [16:00<03:28, 11.59s/epochs]"
          ],
          "name": "stderr"
        },
        {
          "output_type": "stream",
          "text": [
            "Enc fixed 1.697751660845173\n"
          ],
          "name": "stdout"
        },
        {
          "output_type": "stream",
          "text": [
            "\r 83%|████████▎ | 83/100 [16:11<03:17, 11.59s/epochs]"
          ],
          "name": "stderr"
        },
        {
          "output_type": "stream",
          "text": [
            "Enc fixed 1.6981187601333487\n"
          ],
          "name": "stdout"
        },
        {
          "output_type": "stream",
          "text": [
            "\r 84%|████████▍ | 84/100 [16:23<03:04, 11.50s/epochs]"
          ],
          "name": "stderr"
        },
        {
          "output_type": "stream",
          "text": [
            "Enc fixed 1.6952025783595754\n"
          ],
          "name": "stdout"
        },
        {
          "output_type": "stream",
          "text": [
            "\r 85%|████████▌ | 85/100 [16:34<02:52, 11.49s/epochs]"
          ],
          "name": "stderr"
        },
        {
          "output_type": "stream",
          "text": [
            "Enc fixed 1.6964333021818703\n"
          ],
          "name": "stdout"
        },
        {
          "output_type": "stream",
          "text": [
            "\r 86%|████████▌ | 86/100 [16:46<02:40, 11.50s/epochs]"
          ],
          "name": "stderr"
        },
        {
          "output_type": "stream",
          "text": [
            "Enc fixed 1.6949292077565752\n"
          ],
          "name": "stdout"
        },
        {
          "output_type": "stream",
          "text": [
            "\r 87%|████████▋ | 87/100 [16:57<02:29, 11.53s/epochs]"
          ],
          "name": "stderr"
        },
        {
          "output_type": "stream",
          "text": [
            "Enc fixed 1.6975014835024185\n"
          ],
          "name": "stdout"
        },
        {
          "output_type": "stream",
          "text": [
            "\r 88%|████████▊ | 88/100 [17:09<02:18, 11.58s/epochs]"
          ],
          "name": "stderr"
        },
        {
          "output_type": "stream",
          "text": [
            "Enc fixed 1.699196990619082\n"
          ],
          "name": "stdout"
        },
        {
          "output_type": "stream",
          "text": [
            "\r 89%|████████▉ | 89/100 [17:20<02:07, 11.58s/epochs]"
          ],
          "name": "stderr"
        },
        {
          "output_type": "stream",
          "text": [
            "Enc fixed 1.6978597325175555\n"
          ],
          "name": "stdout"
        },
        {
          "output_type": "stream",
          "text": [
            "\r 90%|█████████ | 90/100 [17:32<01:55, 11.59s/epochs]"
          ],
          "name": "stderr"
        },
        {
          "output_type": "stream",
          "text": [
            "Enc fixed 1.6972792906039305\n"
          ],
          "name": "stdout"
        },
        {
          "output_type": "stream",
          "text": [
            "\r 91%|█████████ | 91/100 [17:44<01:44, 11.65s/epochs]"
          ],
          "name": "stderr"
        },
        {
          "output_type": "stream",
          "text": [
            "Enc fixed 1.6949655982985425\n"
          ],
          "name": "stdout"
        },
        {
          "output_type": "stream",
          "text": [
            "\r 92%|█████████▏| 92/100 [17:55<01:32, 11.61s/epochs]"
          ],
          "name": "stderr"
        },
        {
          "output_type": "stream",
          "text": [
            "Enc fixed 1.6972258853505668\n"
          ],
          "name": "stdout"
        },
        {
          "output_type": "stream",
          "text": [
            "\r 93%|█████████▎| 93/100 [18:07<01:21, 11.57s/epochs]"
          ],
          "name": "stderr"
        },
        {
          "output_type": "stream",
          "text": [
            "Enc fixed 1.696468874462632\n"
          ],
          "name": "stdout"
        },
        {
          "output_type": "stream",
          "text": [
            "\r 94%|█████████▍| 94/100 [18:18<01:09, 11.55s/epochs]"
          ],
          "name": "stderr"
        },
        {
          "output_type": "stream",
          "text": [
            "Enc fixed 1.6982574002829187\n"
          ],
          "name": "stdout"
        },
        {
          "output_type": "stream",
          "text": [
            "\r 95%|█████████▌| 95/100 [18:30<00:57, 11.54s/epochs]"
          ],
          "name": "stderr"
        },
        {
          "output_type": "stream",
          "text": [
            "Enc fixed 1.6980374269902325\n"
          ],
          "name": "stdout"
        },
        {
          "output_type": "stream",
          "text": [
            "\r 96%|█████████▌| 96/100 [18:41<00:46, 11.52s/epochs]"
          ],
          "name": "stderr"
        },
        {
          "output_type": "stream",
          "text": [
            "Enc fixed 1.6970581496193973\n"
          ],
          "name": "stdout"
        },
        {
          "output_type": "stream",
          "text": [
            "\r 97%|█████████▋| 97/100 [18:53<00:34, 11.50s/epochs]"
          ],
          "name": "stderr"
        },
        {
          "output_type": "stream",
          "text": [
            "Enc fixed 1.696139642297586\n"
          ],
          "name": "stdout"
        },
        {
          "output_type": "stream",
          "text": [
            "\r 98%|█████████▊| 98/100 [19:04<00:22, 11.50s/epochs]"
          ],
          "name": "stderr"
        },
        {
          "output_type": "stream",
          "text": [
            "Enc fixed 1.698473855757764\n"
          ],
          "name": "stdout"
        },
        {
          "output_type": "stream",
          "text": [
            "\r 99%|█████████▉| 99/100 [19:16<00:11, 11.50s/epochs]"
          ],
          "name": "stderr"
        },
        {
          "output_type": "stream",
          "text": [
            "Enc fixed 1.698299111587915\n"
          ],
          "name": "stdout"
        },
        {
          "output_type": "stream",
          "text": [
            "100%|██████████| 100/100 [19:27<00:00, 11.68s/epochs]"
          ],
          "name": "stderr"
        },
        {
          "output_type": "stream",
          "text": [
            "Enc fixed 1.698653571132912\n"
          ],
          "name": "stdout"
        },
        {
          "output_type": "stream",
          "text": [
            "\n"
          ],
          "name": "stderr"
        }
      ]
    },
    {
      "cell_type": "code",
      "metadata": {
        "colab": {
          "base_uri": "https://localhost:8080/"
        },
        "id": "Tn_DJLePT0Ll",
        "outputId": "c7a20ff5-90b2-42c5-a1f4-45ae8d336fee"
      },
      "source": [
        "tp=np.array([0]*12)\r\n",
        "tot=np.array([0]*12)\r\n",
        "\r\n",
        "for images,labels in gantrainer.val_loader:\r\n",
        "      try:\r\n",
        "        for i in range(1,16):\r\n",
        "          images[4*i] = images[4*i] + images[4*i + 1]\r\n",
        "          labels[4*i] = 10\r\n",
        "      except:\r\n",
        "        break\r\n",
        "      imgs=images.to(gantrainer.device)\r\n",
        "      labels=labels.cpu().numpy()\r\n",
        "      with torch.no_grad():\r\n",
        "        pred=gantrainer.attacker(gantrainer.enc(imgs)).cpu().numpy()\r\n",
        "      p=pred\r\n",
        "      pred =np.argmax(pred,1)\r\n",
        "      for i in range(11):\r\n",
        "        tot[i]+=sum(labels==i)\r\n",
        "        tp[i]+=sum(pred[labels==i]==i)\r\n",
        "      tot[11]+=sum(labels!=10)\r\n",
        "      tp[11]+=sum(pred[labels!=10]!=10)\r\n",
        "      # pred=np.expand_dims(pred,1)\r\n",
        "      # labels = np.expand_dims(labels,1)\r\n",
        "      # print(pred.shape)\r\n",
        "      # print(labels.shape)\r\n",
        "      # out=np.concatenate((pred,labels,p),1)\r\n",
        "      # print(out)\r\n",
        "      #break\r\n",
        "print(tp)\r\n",
        "print(tot)\r\n",
        "print(tp/tot)"
      ],
      "execution_count": null,
      "outputs": [
        {
          "output_type": "stream",
          "text": [
            "[ 343  834   97  268   61   60  282  476   27  127 2340 7082]\n",
            "[ 745  871  797  754  764  667  738  784  734  790 2340 7644]\n",
            "[0.46040268 0.95752009 0.1217064  0.35543767 0.07984293 0.08995502\n",
            " 0.38211382 0.60714286 0.03678474 0.16075949 1.         0.92647828]\n"
          ],
          "name": "stdout"
        }
      ]
    },
    {
      "cell_type": "code",
      "metadata": {
        "id": "De0X-rbfUTL8"
      },
      "source": [
        "import matplotlib.pyplot as plt\r\n",
        "tp=np.array([0]*12)\r\n",
        "tot=np.array([0]*12)\r\n",
        "no_0 = np.array([])\r\n",
        "no_1 = np.array([])\r\n",
        "no_2 = np.array([])\r\n",
        "no_3 = np.array([])\r\n",
        "no_4 = np.array([])\r\n",
        "no_5 = np.array([])\r\n",
        "no_6 = np.array([])\r\n",
        "no_7 = np.array([])\r\n",
        "no_8 = np.array([])\r\n",
        "no_9 = np.array([])\r\n",
        "\r\n",
        "for images,labels in gantrainer.val_loader:\r\n",
        "      try:\r\n",
        "        for i in range(1,16):\r\n",
        "          images[4*i] = images[4*i] + images[4*i + 1]\r\n",
        "          labels[4*i] = 10\r\n",
        "      except:\r\n",
        "        break\r\n",
        "      imgs=images.to(gantrainer.device)\r\n",
        "      labels=labels.cpu().numpy()\r\n",
        "      with torch.no_grad():\r\n",
        "        pred=gantrainer.attacker(gantrainer.enc(imgs)).cpu().numpy()\r\n",
        "      p=pred\r\n",
        "      no_0 = np.append(no_0,pred[:,0])\r\n",
        "      no_1 = np.append(no_1,pred[:,1])\r\n",
        "      no_2 = np.append(no_2,pred[:,2])\r\n",
        "      no_3 = np.append(no_3,pred[:,3])\r\n",
        "      no_4 = np.append(no_4,pred[:,4])\r\n",
        "      no_5 = np.append(no_5,pred[:,5])\r\n",
        "      no_6 = np.append(no_6,pred[:,6])\r\n",
        "      no_7 = np.append(no_7,pred[:,7])\r\n",
        "      no_8 = np.append(no_8,pred[:,8])\r\n",
        "      no_9 = np.append(no_9,pred[:,9])\r\n",
        "      pred =np.argmax(pred,1)\r\n",
        "      for i in range(11):\r\n",
        "        tot[i]+=sum(labels==i)\r\n",
        "        tp[i]+=sum(pred[labels==i]==i)\r\n",
        "      tot[11]+=sum(labels!=10)\r\n",
        "      tp[11]+=sum(pred[labels!=10]!=10)\r\n",
        "      # pred=np.expand_dims(pred,1)\r\n",
        "      # labels = np.expand_dims(labels,1)\r\n",
        "      # print(pred.shape)\r\n",
        "      # print(labels.shape)\r\n",
        "      # out=np.concatenate((pred,labels,p),1)\r\n",
        "      # print(out)\r\n",
        "      #break\r\n",
        "fig,ax = plt.subplots(2,5,figsize=(20,15),sharex=True,sharey=True)\r\n",
        "\r\n",
        "ax[0][0].plot(no_0)\r\n",
        "ax[0][1].plot(no_1)\r\n",
        "ax[0][2].plot(no_2)\r\n",
        "ax[0][3].plot(no_3)\r\n",
        "ax[0][4].plot(no_4)\r\n",
        "ax[1][0].plot(no_5)\r\n",
        "ax[1][1].plot(no_6)\r\n",
        "ax[1][2].plot(no_7)\r\n",
        "ax[1][3].plot(no_8)\r\n",
        "ax[1][4].plot(no_9)\r\n",
        "ax[0][0].set_title(\"number 0\")\r\n",
        "ax[0][1].set_title(\"number 1\")\r\n",
        "ax[0][2].set_title(\"number 2\")\r\n",
        "ax[0][3].set_title(\"number 3\")\r\n",
        "ax[0][4].set_title(\"number 4\")\r\n",
        "ax[1][0].set_title(\"number 5\")\r\n",
        "ax[1][1].set_title(\"number 6\")\r\n",
        "ax[1][2].set_title(\"number 7\")\r\n",
        "ax[1][3].set_title(\"number 8\")\r\n",
        "ax[1][4].set_title(\"number 9\")\r\n",
        "plt.show()\r\n",
        "\r\n",
        "\r\n",
        "print(tp)\r\n",
        "print(tot)\r\n",
        "print(tp/tot)"
      ],
      "execution_count": null,
      "outputs": []
    }
  ]
}